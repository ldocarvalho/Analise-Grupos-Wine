{
  "nbformat": 4,
  "nbformat_minor": 0,
  "metadata": {
    "colab": {
      "name": "TP3-AnaliseGrupos.ipynb",
      "provenance": [],
      "collapsed_sections": [],
      "toc_visible": true,
      "include_colab_link": true
    },
    "kernelspec": {
      "name": "python3",
      "display_name": "Python 3"
    },
    "language_info": {
      "name": "python"
    }
  },
  "cells": [
    {
      "cell_type": "markdown",
      "metadata": {
        "id": "view-in-github",
        "colab_type": "text"
      },
      "source": [
        "<a href=\"https://colab.research.google.com/github/ldocarvalho/Analise-Grupos-Wine/blob/main/TP3_AnaliseGrupos.ipynb\" target=\"_parent\"><img src=\"https://colab.research.google.com/assets/colab-badge.svg\" alt=\"Open In Colab\"/></a>"
      ]
    },
    {
      "cell_type": "markdown",
      "metadata": {
        "id": "ulKIP7VXH5dT"
      },
      "source": [
        "-----------------------------------------------------\n",
        "**2020/2** \n",
        "\n",
        "**Tópicos Especiais em Arquitetura de Computadores**\n",
        "\n",
        "**TP03 - Análise de Grupos**\n",
        "\n",
        "Lucas de Oliveira Carvalho\n",
        "\n",
        "Lucas Luis de Souza Barreto\n",
        "\n",
        "-----------------------------------------------------\n"
      ]
    },
    {
      "cell_type": "code",
      "metadata": {
        "id": "G9AtUsMIH-ef"
      },
      "source": [
        "import pandas as pd\n",
        "import numpy as np\n",
        "import matplotlib.pyplot as plt\n",
        "from scipy.spatial import distance\n",
        "import numpy as np\n",
        "import seaborn as sns\n",
        "import random\n",
        "import math\n",
        "\n",
        "pd.options.mode.chained_assignment = None  # default='warn'"
      ],
      "execution_count": null,
      "outputs": []
    },
    {
      "cell_type": "code",
      "metadata": {
        "id": "WD9SzOIQIAvU",
        "colab": {
          "base_uri": "https://localhost:8080/",
          "height": 424
        },
        "outputId": "78774ad2-bc8b-48f4-dde4-5195ca677b47"
      },
      "source": [
        "# 1) Alcohol\n",
        "# 2) Malic acid\n",
        "# 3) Ash\n",
        "# 4) Alcalinity of ash\n",
        "# 5) Magnesium\n",
        "# 6) Total phenols\n",
        "# 7) Flavanoids\n",
        "# 8) Nonflavanoid phenols\n",
        "# 9) Proanthocyanins\n",
        "# 10) Color intensity\n",
        "# 11) Hue\n",
        "# 12) OD280/OD315 of diluted wines\n",
        "# 13) Proline\n",
        "\n",
        "columns_names_wines = [\"Class\", \"Alcohol\",\"Malic\", \"Ash\", \"Alcalinity\", \"Magnesium\", \"Phenols\", \"Flavanoids\", \"Nonflavanoids\", \"Proanthocyanins\", \"Color\", \"Hue\", \"OD280\", \"Proline\"]\n",
        "dfWines = pd.read_csv('https://raw.githubusercontent.com/ldocarvalho/Analise-Grupos-Wine/main/wine.csv', names=columns_names_wines)\n",
        "dfWines"
      ],
      "execution_count": null,
      "outputs": [
        {
          "output_type": "execute_result",
          "data": {
            "text/html": [
              "<div>\n",
              "<style scoped>\n",
              "    .dataframe tbody tr th:only-of-type {\n",
              "        vertical-align: middle;\n",
              "    }\n",
              "\n",
              "    .dataframe tbody tr th {\n",
              "        vertical-align: top;\n",
              "    }\n",
              "\n",
              "    .dataframe thead th {\n",
              "        text-align: right;\n",
              "    }\n",
              "</style>\n",
              "<table border=\"1\" class=\"dataframe\">\n",
              "  <thead>\n",
              "    <tr style=\"text-align: right;\">\n",
              "      <th></th>\n",
              "      <th>Class</th>\n",
              "      <th>Alcohol</th>\n",
              "      <th>Malic</th>\n",
              "      <th>Ash</th>\n",
              "      <th>Alcalinity</th>\n",
              "      <th>Magnesium</th>\n",
              "      <th>Phenols</th>\n",
              "      <th>Flavanoids</th>\n",
              "      <th>Nonflavanoids</th>\n",
              "      <th>Proanthocyanins</th>\n",
              "      <th>Color</th>\n",
              "      <th>Hue</th>\n",
              "      <th>OD280</th>\n",
              "      <th>Proline</th>\n",
              "    </tr>\n",
              "  </thead>\n",
              "  <tbody>\n",
              "    <tr>\n",
              "      <th>0</th>\n",
              "      <td>1</td>\n",
              "      <td>14.23</td>\n",
              "      <td>1.71</td>\n",
              "      <td>2.43</td>\n",
              "      <td>15.6</td>\n",
              "      <td>127</td>\n",
              "      <td>2.80</td>\n",
              "      <td>3.06</td>\n",
              "      <td>0.28</td>\n",
              "      <td>2.29</td>\n",
              "      <td>5.64</td>\n",
              "      <td>1.04</td>\n",
              "      <td>3.92</td>\n",
              "      <td>1065</td>\n",
              "    </tr>\n",
              "    <tr>\n",
              "      <th>1</th>\n",
              "      <td>1</td>\n",
              "      <td>13.20</td>\n",
              "      <td>1.78</td>\n",
              "      <td>2.14</td>\n",
              "      <td>11.2</td>\n",
              "      <td>100</td>\n",
              "      <td>2.65</td>\n",
              "      <td>2.76</td>\n",
              "      <td>0.26</td>\n",
              "      <td>1.28</td>\n",
              "      <td>4.38</td>\n",
              "      <td>1.05</td>\n",
              "      <td>3.40</td>\n",
              "      <td>1050</td>\n",
              "    </tr>\n",
              "    <tr>\n",
              "      <th>2</th>\n",
              "      <td>1</td>\n",
              "      <td>13.16</td>\n",
              "      <td>2.36</td>\n",
              "      <td>2.67</td>\n",
              "      <td>18.6</td>\n",
              "      <td>101</td>\n",
              "      <td>2.80</td>\n",
              "      <td>3.24</td>\n",
              "      <td>0.30</td>\n",
              "      <td>2.81</td>\n",
              "      <td>5.68</td>\n",
              "      <td>1.03</td>\n",
              "      <td>3.17</td>\n",
              "      <td>1185</td>\n",
              "    </tr>\n",
              "    <tr>\n",
              "      <th>3</th>\n",
              "      <td>1</td>\n",
              "      <td>14.37</td>\n",
              "      <td>1.95</td>\n",
              "      <td>2.50</td>\n",
              "      <td>16.8</td>\n",
              "      <td>113</td>\n",
              "      <td>3.85</td>\n",
              "      <td>3.49</td>\n",
              "      <td>0.24</td>\n",
              "      <td>2.18</td>\n",
              "      <td>7.80</td>\n",
              "      <td>0.86</td>\n",
              "      <td>3.45</td>\n",
              "      <td>1480</td>\n",
              "    </tr>\n",
              "    <tr>\n",
              "      <th>4</th>\n",
              "      <td>1</td>\n",
              "      <td>13.24</td>\n",
              "      <td>2.59</td>\n",
              "      <td>2.87</td>\n",
              "      <td>21.0</td>\n",
              "      <td>118</td>\n",
              "      <td>2.80</td>\n",
              "      <td>2.69</td>\n",
              "      <td>0.39</td>\n",
              "      <td>1.82</td>\n",
              "      <td>4.32</td>\n",
              "      <td>1.04</td>\n",
              "      <td>2.93</td>\n",
              "      <td>735</td>\n",
              "    </tr>\n",
              "    <tr>\n",
              "      <th>...</th>\n",
              "      <td>...</td>\n",
              "      <td>...</td>\n",
              "      <td>...</td>\n",
              "      <td>...</td>\n",
              "      <td>...</td>\n",
              "      <td>...</td>\n",
              "      <td>...</td>\n",
              "      <td>...</td>\n",
              "      <td>...</td>\n",
              "      <td>...</td>\n",
              "      <td>...</td>\n",
              "      <td>...</td>\n",
              "      <td>...</td>\n",
              "      <td>...</td>\n",
              "    </tr>\n",
              "    <tr>\n",
              "      <th>173</th>\n",
              "      <td>3</td>\n",
              "      <td>13.71</td>\n",
              "      <td>5.65</td>\n",
              "      <td>2.45</td>\n",
              "      <td>20.5</td>\n",
              "      <td>95</td>\n",
              "      <td>1.68</td>\n",
              "      <td>0.61</td>\n",
              "      <td>0.52</td>\n",
              "      <td>1.06</td>\n",
              "      <td>7.70</td>\n",
              "      <td>0.64</td>\n",
              "      <td>1.74</td>\n",
              "      <td>740</td>\n",
              "    </tr>\n",
              "    <tr>\n",
              "      <th>174</th>\n",
              "      <td>3</td>\n",
              "      <td>13.40</td>\n",
              "      <td>3.91</td>\n",
              "      <td>2.48</td>\n",
              "      <td>23.0</td>\n",
              "      <td>102</td>\n",
              "      <td>1.80</td>\n",
              "      <td>0.75</td>\n",
              "      <td>0.43</td>\n",
              "      <td>1.41</td>\n",
              "      <td>7.30</td>\n",
              "      <td>0.70</td>\n",
              "      <td>1.56</td>\n",
              "      <td>750</td>\n",
              "    </tr>\n",
              "    <tr>\n",
              "      <th>175</th>\n",
              "      <td>3</td>\n",
              "      <td>13.27</td>\n",
              "      <td>4.28</td>\n",
              "      <td>2.26</td>\n",
              "      <td>20.0</td>\n",
              "      <td>120</td>\n",
              "      <td>1.59</td>\n",
              "      <td>0.69</td>\n",
              "      <td>0.43</td>\n",
              "      <td>1.35</td>\n",
              "      <td>10.20</td>\n",
              "      <td>0.59</td>\n",
              "      <td>1.56</td>\n",
              "      <td>835</td>\n",
              "    </tr>\n",
              "    <tr>\n",
              "      <th>176</th>\n",
              "      <td>3</td>\n",
              "      <td>13.17</td>\n",
              "      <td>2.59</td>\n",
              "      <td>2.37</td>\n",
              "      <td>20.0</td>\n",
              "      <td>120</td>\n",
              "      <td>1.65</td>\n",
              "      <td>0.68</td>\n",
              "      <td>0.53</td>\n",
              "      <td>1.46</td>\n",
              "      <td>9.30</td>\n",
              "      <td>0.60</td>\n",
              "      <td>1.62</td>\n",
              "      <td>840</td>\n",
              "    </tr>\n",
              "    <tr>\n",
              "      <th>177</th>\n",
              "      <td>3</td>\n",
              "      <td>14.13</td>\n",
              "      <td>4.10</td>\n",
              "      <td>2.74</td>\n",
              "      <td>24.5</td>\n",
              "      <td>96</td>\n",
              "      <td>2.05</td>\n",
              "      <td>0.76</td>\n",
              "      <td>0.56</td>\n",
              "      <td>1.35</td>\n",
              "      <td>9.20</td>\n",
              "      <td>0.61</td>\n",
              "      <td>1.60</td>\n",
              "      <td>560</td>\n",
              "    </tr>\n",
              "  </tbody>\n",
              "</table>\n",
              "<p>178 rows × 14 columns</p>\n",
              "</div>"
            ],
            "text/plain": [
              "     Class  Alcohol  Malic   Ash  ...  Color   Hue  OD280  Proline\n",
              "0        1    14.23   1.71  2.43  ...   5.64  1.04   3.92     1065\n",
              "1        1    13.20   1.78  2.14  ...   4.38  1.05   3.40     1050\n",
              "2        1    13.16   2.36  2.67  ...   5.68  1.03   3.17     1185\n",
              "3        1    14.37   1.95  2.50  ...   7.80  0.86   3.45     1480\n",
              "4        1    13.24   2.59  2.87  ...   4.32  1.04   2.93      735\n",
              "..     ...      ...    ...   ...  ...    ...   ...    ...      ...\n",
              "173      3    13.71   5.65  2.45  ...   7.70  0.64   1.74      740\n",
              "174      3    13.40   3.91  2.48  ...   7.30  0.70   1.56      750\n",
              "175      3    13.27   4.28  2.26  ...  10.20  0.59   1.56      835\n",
              "176      3    13.17   2.59  2.37  ...   9.30  0.60   1.62      840\n",
              "177      3    14.13   4.10  2.74  ...   9.20  0.61   1.60      560\n",
              "\n",
              "[178 rows x 14 columns]"
            ]
          },
          "metadata": {},
          "execution_count": 3
        }
      ]
    },
    {
      "cell_type": "markdown",
      "metadata": {
        "id": "e6UjAyK9H9t_"
      },
      "source": [
        "#### Exercício 1 - Pré-Processamento"
      ]
    },
    {
      "cell_type": "markdown",
      "metadata": {
        "id": "j6orttqx6pGl"
      },
      "source": [
        "Objetivo: fazer o pré-processamento dos dados de tal forma que todos os atributos estejam normalizados no intervalo [0,1]."
      ]
    },
    {
      "cell_type": "code",
      "metadata": {
        "colab": {
          "base_uri": "https://localhost:8080/",
          "height": 375
        },
        "id": "MN62LFrz74AQ",
        "outputId": "0348c003-5252-4b89-8eee-68f9ed435da2"
      },
      "source": [
        "dfWines.drop(\"Class\", inplace=True, axis=1)\n",
        "dfWines.head(10)"
      ],
      "execution_count": null,
      "outputs": [
        {
          "output_type": "execute_result",
          "data": {
            "text/html": [
              "<div>\n",
              "<style scoped>\n",
              "    .dataframe tbody tr th:only-of-type {\n",
              "        vertical-align: middle;\n",
              "    }\n",
              "\n",
              "    .dataframe tbody tr th {\n",
              "        vertical-align: top;\n",
              "    }\n",
              "\n",
              "    .dataframe thead th {\n",
              "        text-align: right;\n",
              "    }\n",
              "</style>\n",
              "<table border=\"1\" class=\"dataframe\">\n",
              "  <thead>\n",
              "    <tr style=\"text-align: right;\">\n",
              "      <th></th>\n",
              "      <th>Alcohol</th>\n",
              "      <th>Malic</th>\n",
              "      <th>Ash</th>\n",
              "      <th>Alcalinity</th>\n",
              "      <th>Magnesium</th>\n",
              "      <th>Phenols</th>\n",
              "      <th>Flavanoids</th>\n",
              "      <th>Nonflavanoids</th>\n",
              "      <th>Proanthocyanins</th>\n",
              "      <th>Color</th>\n",
              "      <th>Hue</th>\n",
              "      <th>OD280</th>\n",
              "      <th>Proline</th>\n",
              "    </tr>\n",
              "  </thead>\n",
              "  <tbody>\n",
              "    <tr>\n",
              "      <th>0</th>\n",
              "      <td>14.23</td>\n",
              "      <td>1.71</td>\n",
              "      <td>2.43</td>\n",
              "      <td>15.6</td>\n",
              "      <td>127</td>\n",
              "      <td>2.80</td>\n",
              "      <td>3.06</td>\n",
              "      <td>0.28</td>\n",
              "      <td>2.29</td>\n",
              "      <td>5.64</td>\n",
              "      <td>1.04</td>\n",
              "      <td>3.92</td>\n",
              "      <td>1065</td>\n",
              "    </tr>\n",
              "    <tr>\n",
              "      <th>1</th>\n",
              "      <td>13.20</td>\n",
              "      <td>1.78</td>\n",
              "      <td>2.14</td>\n",
              "      <td>11.2</td>\n",
              "      <td>100</td>\n",
              "      <td>2.65</td>\n",
              "      <td>2.76</td>\n",
              "      <td>0.26</td>\n",
              "      <td>1.28</td>\n",
              "      <td>4.38</td>\n",
              "      <td>1.05</td>\n",
              "      <td>3.40</td>\n",
              "      <td>1050</td>\n",
              "    </tr>\n",
              "    <tr>\n",
              "      <th>2</th>\n",
              "      <td>13.16</td>\n",
              "      <td>2.36</td>\n",
              "      <td>2.67</td>\n",
              "      <td>18.6</td>\n",
              "      <td>101</td>\n",
              "      <td>2.80</td>\n",
              "      <td>3.24</td>\n",
              "      <td>0.30</td>\n",
              "      <td>2.81</td>\n",
              "      <td>5.68</td>\n",
              "      <td>1.03</td>\n",
              "      <td>3.17</td>\n",
              "      <td>1185</td>\n",
              "    </tr>\n",
              "    <tr>\n",
              "      <th>3</th>\n",
              "      <td>14.37</td>\n",
              "      <td>1.95</td>\n",
              "      <td>2.50</td>\n",
              "      <td>16.8</td>\n",
              "      <td>113</td>\n",
              "      <td>3.85</td>\n",
              "      <td>3.49</td>\n",
              "      <td>0.24</td>\n",
              "      <td>2.18</td>\n",
              "      <td>7.80</td>\n",
              "      <td>0.86</td>\n",
              "      <td>3.45</td>\n",
              "      <td>1480</td>\n",
              "    </tr>\n",
              "    <tr>\n",
              "      <th>4</th>\n",
              "      <td>13.24</td>\n",
              "      <td>2.59</td>\n",
              "      <td>2.87</td>\n",
              "      <td>21.0</td>\n",
              "      <td>118</td>\n",
              "      <td>2.80</td>\n",
              "      <td>2.69</td>\n",
              "      <td>0.39</td>\n",
              "      <td>1.82</td>\n",
              "      <td>4.32</td>\n",
              "      <td>1.04</td>\n",
              "      <td>2.93</td>\n",
              "      <td>735</td>\n",
              "    </tr>\n",
              "    <tr>\n",
              "      <th>5</th>\n",
              "      <td>14.20</td>\n",
              "      <td>1.76</td>\n",
              "      <td>2.45</td>\n",
              "      <td>15.2</td>\n",
              "      <td>112</td>\n",
              "      <td>3.27</td>\n",
              "      <td>3.39</td>\n",
              "      <td>0.34</td>\n",
              "      <td>1.97</td>\n",
              "      <td>6.75</td>\n",
              "      <td>1.05</td>\n",
              "      <td>2.85</td>\n",
              "      <td>1450</td>\n",
              "    </tr>\n",
              "    <tr>\n",
              "      <th>6</th>\n",
              "      <td>14.39</td>\n",
              "      <td>1.87</td>\n",
              "      <td>2.45</td>\n",
              "      <td>14.6</td>\n",
              "      <td>96</td>\n",
              "      <td>2.50</td>\n",
              "      <td>2.52</td>\n",
              "      <td>0.30</td>\n",
              "      <td>1.98</td>\n",
              "      <td>5.25</td>\n",
              "      <td>1.02</td>\n",
              "      <td>3.58</td>\n",
              "      <td>1290</td>\n",
              "    </tr>\n",
              "    <tr>\n",
              "      <th>7</th>\n",
              "      <td>14.06</td>\n",
              "      <td>2.15</td>\n",
              "      <td>2.61</td>\n",
              "      <td>17.6</td>\n",
              "      <td>121</td>\n",
              "      <td>2.60</td>\n",
              "      <td>2.51</td>\n",
              "      <td>0.31</td>\n",
              "      <td>1.25</td>\n",
              "      <td>5.05</td>\n",
              "      <td>1.06</td>\n",
              "      <td>3.58</td>\n",
              "      <td>1295</td>\n",
              "    </tr>\n",
              "    <tr>\n",
              "      <th>8</th>\n",
              "      <td>14.83</td>\n",
              "      <td>1.64</td>\n",
              "      <td>2.17</td>\n",
              "      <td>14.0</td>\n",
              "      <td>97</td>\n",
              "      <td>2.80</td>\n",
              "      <td>2.98</td>\n",
              "      <td>0.29</td>\n",
              "      <td>1.98</td>\n",
              "      <td>5.20</td>\n",
              "      <td>1.08</td>\n",
              "      <td>2.85</td>\n",
              "      <td>1045</td>\n",
              "    </tr>\n",
              "    <tr>\n",
              "      <th>9</th>\n",
              "      <td>13.86</td>\n",
              "      <td>1.35</td>\n",
              "      <td>2.27</td>\n",
              "      <td>16.0</td>\n",
              "      <td>98</td>\n",
              "      <td>2.98</td>\n",
              "      <td>3.15</td>\n",
              "      <td>0.22</td>\n",
              "      <td>1.85</td>\n",
              "      <td>7.22</td>\n",
              "      <td>1.01</td>\n",
              "      <td>3.55</td>\n",
              "      <td>1045</td>\n",
              "    </tr>\n",
              "  </tbody>\n",
              "</table>\n",
              "</div>"
            ],
            "text/plain": [
              "   Alcohol  Malic   Ash  Alcalinity  ...  Color   Hue  OD280  Proline\n",
              "0    14.23   1.71  2.43        15.6  ...   5.64  1.04   3.92     1065\n",
              "1    13.20   1.78  2.14        11.2  ...   4.38  1.05   3.40     1050\n",
              "2    13.16   2.36  2.67        18.6  ...   5.68  1.03   3.17     1185\n",
              "3    14.37   1.95  2.50        16.8  ...   7.80  0.86   3.45     1480\n",
              "4    13.24   2.59  2.87        21.0  ...   4.32  1.04   2.93      735\n",
              "5    14.20   1.76  2.45        15.2  ...   6.75  1.05   2.85     1450\n",
              "6    14.39   1.87  2.45        14.6  ...   5.25  1.02   3.58     1290\n",
              "7    14.06   2.15  2.61        17.6  ...   5.05  1.06   3.58     1295\n",
              "8    14.83   1.64  2.17        14.0  ...   5.20  1.08   2.85     1045\n",
              "9    13.86   1.35  2.27        16.0  ...   7.22  1.01   3.55     1045\n",
              "\n",
              "[10 rows x 13 columns]"
            ]
          },
          "metadata": {},
          "execution_count": 3
        }
      ]
    },
    {
      "cell_type": "code",
      "metadata": {
        "colab": {
          "base_uri": "https://localhost:8080/",
          "height": 375
        },
        "id": "heRtpAQME-U1",
        "outputId": "deb9599e-e304-407d-99d1-5d8a934e0e1d"
      },
      "source": [
        "dfWines = (dfWines-dfWines.min()) / (dfWines.max() - dfWines.min())\n",
        "dfWines.head(10)"
      ],
      "execution_count": null,
      "outputs": [
        {
          "output_type": "execute_result",
          "data": {
            "text/html": [
              "<div>\n",
              "<style scoped>\n",
              "    .dataframe tbody tr th:only-of-type {\n",
              "        vertical-align: middle;\n",
              "    }\n",
              "\n",
              "    .dataframe tbody tr th {\n",
              "        vertical-align: top;\n",
              "    }\n",
              "\n",
              "    .dataframe thead th {\n",
              "        text-align: right;\n",
              "    }\n",
              "</style>\n",
              "<table border=\"1\" class=\"dataframe\">\n",
              "  <thead>\n",
              "    <tr style=\"text-align: right;\">\n",
              "      <th></th>\n",
              "      <th>Alcohol</th>\n",
              "      <th>Malic</th>\n",
              "      <th>Ash</th>\n",
              "      <th>Alcalinity</th>\n",
              "      <th>Magnesium</th>\n",
              "      <th>Phenols</th>\n",
              "      <th>Flavanoids</th>\n",
              "      <th>Nonflavanoids</th>\n",
              "      <th>Proanthocyanins</th>\n",
              "      <th>Color</th>\n",
              "      <th>Hue</th>\n",
              "      <th>OD280</th>\n",
              "      <th>Proline</th>\n",
              "    </tr>\n",
              "  </thead>\n",
              "  <tbody>\n",
              "    <tr>\n",
              "      <th>0</th>\n",
              "      <td>0.842105</td>\n",
              "      <td>0.191700</td>\n",
              "      <td>0.572193</td>\n",
              "      <td>0.257732</td>\n",
              "      <td>0.619565</td>\n",
              "      <td>0.627586</td>\n",
              "      <td>0.573840</td>\n",
              "      <td>0.283019</td>\n",
              "      <td>0.593060</td>\n",
              "      <td>0.372014</td>\n",
              "      <td>0.455285</td>\n",
              "      <td>0.970696</td>\n",
              "      <td>0.561341</td>\n",
              "    </tr>\n",
              "    <tr>\n",
              "      <th>1</th>\n",
              "      <td>0.571053</td>\n",
              "      <td>0.205534</td>\n",
              "      <td>0.417112</td>\n",
              "      <td>0.030928</td>\n",
              "      <td>0.326087</td>\n",
              "      <td>0.575862</td>\n",
              "      <td>0.510549</td>\n",
              "      <td>0.245283</td>\n",
              "      <td>0.274448</td>\n",
              "      <td>0.264505</td>\n",
              "      <td>0.463415</td>\n",
              "      <td>0.780220</td>\n",
              "      <td>0.550642</td>\n",
              "    </tr>\n",
              "    <tr>\n",
              "      <th>2</th>\n",
              "      <td>0.560526</td>\n",
              "      <td>0.320158</td>\n",
              "      <td>0.700535</td>\n",
              "      <td>0.412371</td>\n",
              "      <td>0.336957</td>\n",
              "      <td>0.627586</td>\n",
              "      <td>0.611814</td>\n",
              "      <td>0.320755</td>\n",
              "      <td>0.757098</td>\n",
              "      <td>0.375427</td>\n",
              "      <td>0.447154</td>\n",
              "      <td>0.695971</td>\n",
              "      <td>0.646933</td>\n",
              "    </tr>\n",
              "    <tr>\n",
              "      <th>3</th>\n",
              "      <td>0.878947</td>\n",
              "      <td>0.239130</td>\n",
              "      <td>0.609626</td>\n",
              "      <td>0.319588</td>\n",
              "      <td>0.467391</td>\n",
              "      <td>0.989655</td>\n",
              "      <td>0.664557</td>\n",
              "      <td>0.207547</td>\n",
              "      <td>0.558360</td>\n",
              "      <td>0.556314</td>\n",
              "      <td>0.308943</td>\n",
              "      <td>0.798535</td>\n",
              "      <td>0.857347</td>\n",
              "    </tr>\n",
              "    <tr>\n",
              "      <th>4</th>\n",
              "      <td>0.581579</td>\n",
              "      <td>0.365613</td>\n",
              "      <td>0.807487</td>\n",
              "      <td>0.536082</td>\n",
              "      <td>0.521739</td>\n",
              "      <td>0.627586</td>\n",
              "      <td>0.495781</td>\n",
              "      <td>0.490566</td>\n",
              "      <td>0.444795</td>\n",
              "      <td>0.259386</td>\n",
              "      <td>0.455285</td>\n",
              "      <td>0.608059</td>\n",
              "      <td>0.325963</td>\n",
              "    </tr>\n",
              "    <tr>\n",
              "      <th>5</th>\n",
              "      <td>0.834211</td>\n",
              "      <td>0.201581</td>\n",
              "      <td>0.582888</td>\n",
              "      <td>0.237113</td>\n",
              "      <td>0.456522</td>\n",
              "      <td>0.789655</td>\n",
              "      <td>0.643460</td>\n",
              "      <td>0.396226</td>\n",
              "      <td>0.492114</td>\n",
              "      <td>0.466724</td>\n",
              "      <td>0.463415</td>\n",
              "      <td>0.578755</td>\n",
              "      <td>0.835949</td>\n",
              "    </tr>\n",
              "    <tr>\n",
              "      <th>6</th>\n",
              "      <td>0.884211</td>\n",
              "      <td>0.223320</td>\n",
              "      <td>0.582888</td>\n",
              "      <td>0.206186</td>\n",
              "      <td>0.282609</td>\n",
              "      <td>0.524138</td>\n",
              "      <td>0.459916</td>\n",
              "      <td>0.320755</td>\n",
              "      <td>0.495268</td>\n",
              "      <td>0.338737</td>\n",
              "      <td>0.439024</td>\n",
              "      <td>0.846154</td>\n",
              "      <td>0.721826</td>\n",
              "    </tr>\n",
              "    <tr>\n",
              "      <th>7</th>\n",
              "      <td>0.797368</td>\n",
              "      <td>0.278656</td>\n",
              "      <td>0.668449</td>\n",
              "      <td>0.360825</td>\n",
              "      <td>0.554348</td>\n",
              "      <td>0.558621</td>\n",
              "      <td>0.457806</td>\n",
              "      <td>0.339623</td>\n",
              "      <td>0.264984</td>\n",
              "      <td>0.321672</td>\n",
              "      <td>0.471545</td>\n",
              "      <td>0.846154</td>\n",
              "      <td>0.725392</td>\n",
              "    </tr>\n",
              "    <tr>\n",
              "      <th>8</th>\n",
              "      <td>1.000000</td>\n",
              "      <td>0.177866</td>\n",
              "      <td>0.433155</td>\n",
              "      <td>0.175258</td>\n",
              "      <td>0.293478</td>\n",
              "      <td>0.627586</td>\n",
              "      <td>0.556962</td>\n",
              "      <td>0.301887</td>\n",
              "      <td>0.495268</td>\n",
              "      <td>0.334471</td>\n",
              "      <td>0.487805</td>\n",
              "      <td>0.578755</td>\n",
              "      <td>0.547076</td>\n",
              "    </tr>\n",
              "    <tr>\n",
              "      <th>9</th>\n",
              "      <td>0.744737</td>\n",
              "      <td>0.120553</td>\n",
              "      <td>0.486631</td>\n",
              "      <td>0.278351</td>\n",
              "      <td>0.304348</td>\n",
              "      <td>0.689655</td>\n",
              "      <td>0.592827</td>\n",
              "      <td>0.169811</td>\n",
              "      <td>0.454259</td>\n",
              "      <td>0.506826</td>\n",
              "      <td>0.430894</td>\n",
              "      <td>0.835165</td>\n",
              "      <td>0.547076</td>\n",
              "    </tr>\n",
              "  </tbody>\n",
              "</table>\n",
              "</div>"
            ],
            "text/plain": [
              "    Alcohol     Malic       Ash  ...       Hue     OD280   Proline\n",
              "0  0.842105  0.191700  0.572193  ...  0.455285  0.970696  0.561341\n",
              "1  0.571053  0.205534  0.417112  ...  0.463415  0.780220  0.550642\n",
              "2  0.560526  0.320158  0.700535  ...  0.447154  0.695971  0.646933\n",
              "3  0.878947  0.239130  0.609626  ...  0.308943  0.798535  0.857347\n",
              "4  0.581579  0.365613  0.807487  ...  0.455285  0.608059  0.325963\n",
              "5  0.834211  0.201581  0.582888  ...  0.463415  0.578755  0.835949\n",
              "6  0.884211  0.223320  0.582888  ...  0.439024  0.846154  0.721826\n",
              "7  0.797368  0.278656  0.668449  ...  0.471545  0.846154  0.725392\n",
              "8  1.000000  0.177866  0.433155  ...  0.487805  0.578755  0.547076\n",
              "9  0.744737  0.120553  0.486631  ...  0.430894  0.835165  0.547076\n",
              "\n",
              "[10 rows x 13 columns]"
            ]
          },
          "metadata": {},
          "execution_count": 4
        }
      ]
    },
    {
      "cell_type": "markdown",
      "metadata": {
        "id": "eRXvGH3ItVY_"
      },
      "source": [
        "#### Exercício 2 - Redução com Principal Component Analysis"
      ]
    },
    {
      "cell_type": "code",
      "metadata": {
        "colab": {
          "base_uri": "https://localhost:8080/",
          "height": 424
        },
        "id": "azZe473Fqtn0",
        "outputId": "d4fda1e6-8520-43ea-e475-201d11ce0690"
      },
      "source": [
        "from sklearn.preprocessing import StandardScaler\n",
        "from sklearn.decomposition import PCA\n",
        "\n",
        "features = columns_names_wines[1:]\n",
        "values = dfWines.loc[:, features].values\n",
        "\n",
        "values = StandardScaler().fit_transform(values)\n",
        "\n",
        "pca = PCA(n_components=2)\n",
        "principal_components = pca.fit_transform(values)\n",
        "dfWines_reduced = pd.DataFrame(data = principal_components, columns = ['x', 'y'])\n",
        "dfWines_reduced"
      ],
      "execution_count": null,
      "outputs": [
        {
          "output_type": "execute_result",
          "data": {
            "text/html": [
              "<div>\n",
              "<style scoped>\n",
              "    .dataframe tbody tr th:only-of-type {\n",
              "        vertical-align: middle;\n",
              "    }\n",
              "\n",
              "    .dataframe tbody tr th {\n",
              "        vertical-align: top;\n",
              "    }\n",
              "\n",
              "    .dataframe thead th {\n",
              "        text-align: right;\n",
              "    }\n",
              "</style>\n",
              "<table border=\"1\" class=\"dataframe\">\n",
              "  <thead>\n",
              "    <tr style=\"text-align: right;\">\n",
              "      <th></th>\n",
              "      <th>x</th>\n",
              "      <th>y</th>\n",
              "    </tr>\n",
              "  </thead>\n",
              "  <tbody>\n",
              "    <tr>\n",
              "      <th>0</th>\n",
              "      <td>3.316751</td>\n",
              "      <td>-1.443463</td>\n",
              "    </tr>\n",
              "    <tr>\n",
              "      <th>1</th>\n",
              "      <td>2.209465</td>\n",
              "      <td>0.333393</td>\n",
              "    </tr>\n",
              "    <tr>\n",
              "      <th>2</th>\n",
              "      <td>2.516740</td>\n",
              "      <td>-1.031151</td>\n",
              "    </tr>\n",
              "    <tr>\n",
              "      <th>3</th>\n",
              "      <td>3.757066</td>\n",
              "      <td>-2.756372</td>\n",
              "    </tr>\n",
              "    <tr>\n",
              "      <th>4</th>\n",
              "      <td>1.008908</td>\n",
              "      <td>-0.869831</td>\n",
              "    </tr>\n",
              "    <tr>\n",
              "      <th>...</th>\n",
              "      <td>...</td>\n",
              "      <td>...</td>\n",
              "    </tr>\n",
              "    <tr>\n",
              "      <th>173</th>\n",
              "      <td>-3.370524</td>\n",
              "      <td>-2.216289</td>\n",
              "    </tr>\n",
              "    <tr>\n",
              "      <th>174</th>\n",
              "      <td>-2.601956</td>\n",
              "      <td>-1.757229</td>\n",
              "    </tr>\n",
              "    <tr>\n",
              "      <th>175</th>\n",
              "      <td>-2.677839</td>\n",
              "      <td>-2.760899</td>\n",
              "    </tr>\n",
              "    <tr>\n",
              "      <th>176</th>\n",
              "      <td>-2.387017</td>\n",
              "      <td>-2.297347</td>\n",
              "    </tr>\n",
              "    <tr>\n",
              "      <th>177</th>\n",
              "      <td>-3.208758</td>\n",
              "      <td>-2.768920</td>\n",
              "    </tr>\n",
              "  </tbody>\n",
              "</table>\n",
              "<p>178 rows × 2 columns</p>\n",
              "</div>"
            ],
            "text/plain": [
              "            x         y\n",
              "0    3.316751 -1.443463\n",
              "1    2.209465  0.333393\n",
              "2    2.516740 -1.031151\n",
              "3    3.757066 -2.756372\n",
              "4    1.008908 -0.869831\n",
              "..        ...       ...\n",
              "173 -3.370524 -2.216289\n",
              "174 -2.601956 -1.757229\n",
              "175 -2.677839 -2.760899\n",
              "176 -2.387017 -2.297347\n",
              "177 -3.208758 -2.768920\n",
              "\n",
              "[178 rows x 2 columns]"
            ]
          },
          "metadata": {},
          "execution_count": 4
        }
      ]
    },
    {
      "cell_type": "markdown",
      "metadata": {
        "id": "bPWp2CoRIfk0"
      },
      "source": [
        "#### Exercício 3 - Medidas de Similaridade"
      ]
    },
    {
      "cell_type": "markdown",
      "metadata": {
        "id": "y3A5awFxGpj0"
      },
      "source": [
        "Objetivo: calcular a similaridade entre objetos a partir de duas medidas, a distância Euclidiana e a correlação de Pearson."
      ]
    },
    {
      "cell_type": "code",
      "metadata": {
        "id": "3cF4JhBhGXFT"
      },
      "source": [
        "def euclidian_distance(x, y):\n",
        "  return distance.euclidean(x, y)\n",
        "\n",
        "def pearsons_correlation_coefficient(i, j):\n",
        "  v1 = 0\n",
        "  v2 = 0\n",
        "  v3 = 0\n",
        "  for k in range(len(i)):\n",
        "    v1 += (i[k] - dfWines_reduced['x'].mean()) * (j[k] - dfWines_reduced['y'].mean()) \n",
        "    v2 += (i[k] - dfWines_reduced['x'].mean())**2\n",
        "    v3 += (j[k] - dfWines_reduced['y'].mean())**2\n",
        "  \n",
        "  return v1/(math.sqrt(v2)*math.sqrt(v3))\n",
        "\n",
        "def manhattan_distance(a, b):\n",
        "   return sum(abs(val1-val2) for val1, val2 in zip(a,b)) "
      ],
      "execution_count": null,
      "outputs": []
    },
    {
      "cell_type": "markdown",
      "metadata": {
        "id": "JQzG6K5HIkjZ"
      },
      "source": [
        "#### Exercício 4 - Algoritmos de Agrupamento "
      ]
    },
    {
      "cell_type": "code",
      "metadata": {
        "colab": {
          "base_uri": "https://localhost:8080/",
          "height": 279
        },
        "id": "3KPhTsgG7Tu2",
        "outputId": "82037ca1-d4c7-42a9-f247-38731bd37b47"
      },
      "source": [
        "plt.scatter(x=dfWines_reduced.x, y=dfWines_reduced.y)\n",
        "plt.xlabel('x')\n",
        "plt.ylabel('y')\n",
        "plt.show()"
      ],
      "execution_count": null,
      "outputs": [
        {
          "output_type": "display_data",
          "data": {
            "image/png": "[encoded data removed]",
            "text/plain": [
              "<Figure size 432x288 with 1 Axes>"
            ]
          },
          "metadata": {
            "needs_background": "light"
          }
        }
      ]
    },
    {
      "cell_type": "markdown",
      "metadata": {
        "id": "dQA7_I-U8ns4"
      },
      "source": [
        "##### K-Means"
      ]
    },
    {
      "cell_type": "markdown",
      "metadata": {
        "id": "W91mn_5V7-RO"
      },
      "source": [
        "###### Elbow curve: curva para descobrir o número ideal de clusters (K)"
      ]
    },
    {
      "cell_type": "code",
      "metadata": {
        "colab": {
          "base_uri": "https://localhost:8080/",
          "height": 295
        },
        "id": "pNhqF48c79or",
        "outputId": "2de60839-d402-4952-f738-65ae8a2b6490"
      },
      "source": [
        "from sklearn.cluster import KMeans\n",
        "\n",
        "wcss = []\n",
        "\n",
        "for i in range(1, 15):\n",
        "    kmeans = KMeans(n_clusters = i, max_iter = 300, n_init = 10, random_state = 0)\n",
        "    kmeans.fit(dfWines_reduced)\n",
        "    wcss.append(kmeans.inertia_)\n",
        "    \n",
        "plt.plot(range(1, 15), wcss)\n",
        "plt.title('Curva de Cotovelo')\n",
        "plt.xlabel('Numero de Clusters')\n",
        "plt.ylabel('WCSS')\n",
        "plt.show()"
      ],
      "execution_count": null,
      "outputs": [
        {
          "output_type": "display_data",
          "data": {
            "image/png": "[encoded data removed]",
            "text/plain": [
              "<Figure size 432x288 with 1 Axes>"
            ]
          },
          "metadata": {
            "needs_background": "light"
          }
        }
      ]
    },
    {
      "cell_type": "markdown",
      "metadata": {
        "id": "3EbRC59B8HRg"
      },
      "source": [
        "###### Distância Euclidiana"
      ]
    },
    {
      "cell_type": "code",
      "metadata": {
        "id": "ApMyXDhFCHRo"
      },
      "source": [
        "def funcao_custo(dados, rotulo, centroides):\n",
        "  fc = 0\n",
        "  for i in range(len(dados)):\n",
        "    fc+= euclidian_distance(dados[i],centroides[int(rotulo[i])])\n",
        "  return fc\n",
        "\n",
        "def dist(dados, centroides):\n",
        "  D = []\n",
        "  for obj in dados.values:\n",
        "    #print(obj)\n",
        "    DAux = []\n",
        "    for c in centroides.values:\n",
        "      DAux.append(euclidian_distance(obj,c))\n",
        "    D.append(DAux)\n",
        "  return D\n",
        "\n",
        "def media(dados):\n",
        "  xm = 0\n",
        "  ym = 0\n",
        "  for d in dados.values:\n",
        "    xm+=d[0]\n",
        "    ym+=d[1]\n",
        "  xm=xm/len(dados)\n",
        "  ym=ym/len(dados)\n",
        "  return [xm,ym]"
      ],
      "execution_count": null,
      "outputs": []
    },
    {
      "cell_type": "code",
      "metadata": {
        "colab": {
          "base_uri": "https://localhost:8080/"
        },
        "id": "8iZ1kT_GCWEo",
        "outputId": "69715bf0-9fbf-4e28-a32b-ba54c7dfe81e"
      },
      "source": [
        "idx = np.random.randint(0, len(dfWines_reduced), 3)\n",
        "idx"
      ],
      "execution_count": null,
      "outputs": [
        {
          "output_type": "execute_result",
          "data": {
            "text/plain": [
              "array([151, 145,  28])"
            ]
          },
          "metadata": {},
          "execution_count": 11
        }
      ]
    },
    {
      "cell_type": "code",
      "metadata": {
        "colab": {
          "base_uri": "https://localhost:8080/",
          "height": 143
        },
        "id": "vhq01uEnCkPd",
        "outputId": "7a3e5a11-ba6c-4242-dbb6-472ea5dbd2d2"
      },
      "source": [
        "k = 3\n",
        "C_Euclidean = dfWines_reduced.loc[idx]\n",
        "C_Euclidean = C_Euclidean.astype(np.float)\n",
        "G_kmeans_Euclidean = np.zeros(len(dfWines_reduced.values))\n",
        "dif_fc = 1\n",
        "fc=0\n",
        "it = 0\n",
        "C_Euclidean"
      ],
      "execution_count": null,
      "outputs": [
        {
          "output_type": "execute_result",
          "data": {
            "text/html": [
              "<div>\n",
              "<style scoped>\n",
              "    .dataframe tbody tr th:only-of-type {\n",
              "        vertical-align: middle;\n",
              "    }\n",
              "\n",
              "    .dataframe tbody tr th {\n",
              "        vertical-align: top;\n",
              "    }\n",
              "\n",
              "    .dataframe thead th {\n",
              "        text-align: right;\n",
              "    }\n",
              "</style>\n",
              "<table border=\"1\" class=\"dataframe\">\n",
              "  <thead>\n",
              "    <tr style=\"text-align: right;\">\n",
              "      <th></th>\n",
              "      <th>x</th>\n",
              "      <th>y</th>\n",
              "    </tr>\n",
              "  </thead>\n",
              "  <tbody>\n",
              "    <tr>\n",
              "      <th>151</th>\n",
              "      <td>-2.549831</td>\n",
              "      <td>-2.045283</td>\n",
              "    </tr>\n",
              "    <tr>\n",
              "      <th>145</th>\n",
              "      <td>-2.625621</td>\n",
              "      <td>-0.563161</td>\n",
              "    </tr>\n",
              "    <tr>\n",
              "      <th>28</th>\n",
              "      <td>2.188406</td>\n",
              "      <td>-0.689570</td>\n",
              "    </tr>\n",
              "  </tbody>\n",
              "</table>\n",
              "</div>"
            ],
            "text/plain": [
              "            x         y\n",
              "151 -2.549831 -2.045283\n",
              "145 -2.625621 -0.563161\n",
              "28   2.188406 -0.689570"
            ]
          },
          "metadata": {},
          "execution_count": 12
        }
      ]
    },
    {
      "cell_type": "code",
      "metadata": {
        "colab": {
          "base_uri": "https://localhost:8080/",
          "height": 265
        },
        "id": "KphKKfzuCtoW",
        "outputId": "a299a08c-10d3-4319-bea7-1dcde5de406b"
      },
      "source": [
        "plt.scatter(dfWines_reduced[\"x\"], dfWines_reduced[\"y\"],c=G_kmeans_Euclidean)\n",
        "plt.scatter(C_Euclidean.values[:,0],C_Euclidean.values[:,1],s = 120,c='red')\n",
        "plt.show()"
      ],
      "execution_count": null,
      "outputs": [
        {
          "output_type": "display_data",
          "data": {
            "image/png": "[encoded data removed]",
            "text/plain": [
              "<Figure size 432x288 with 1 Axes>"
            ]
          },
          "metadata": {
            "needs_background": "light"
          }
        }
      ]
    },
    {
      "cell_type": "code",
      "metadata": {
        "id": "7oER_pRCDJfK",
        "colab": {
          "base_uri": "https://localhost:8080/"
        },
        "outputId": "01c5e84c-c9de-4280-95b5-9659346f8baa"
      },
      "source": [
        "while dif_fc != 0:\n",
        "  print(it)\n",
        "  #Calcular a Distancia entre os Centroides e os Objetox\n",
        "  D = dist(dfWines_reduced,C_Euclidean)\n",
        "  #Determinar o Centroide mais perto para cada objeto\n",
        "  for i in range(len(dfWines_reduced.values)):\n",
        "    #print(D[i])\n",
        "    #print(np.argmin(D[i]))\n",
        "    G_kmeans_Euclidean[i] = np.argmin(D[i])\n",
        "    \n",
        "  #Atualizar a posicao dos Centroides\n",
        "  for i in range(k):\n",
        "    #Encontrar os objetos de cada grupo\n",
        "    ids = []\n",
        "    for j in range(len(dfWines_reduced.values)):\n",
        "      if G_kmeans_Euclidean[j]==i :\n",
        "        ids.append(j)\n",
        "    #Calcular o ponto médio do grupo\n",
        "    C_Euclidean.values[i] = media(dfWines_reduced.loc[ids])\n",
        "  #Calcular o nova funcao de custo do novo agrupamento\n",
        "  fc_nova = funcao_custo(dfWines_reduced.values,G_kmeans_Euclidean,C_Euclidean.values)\n",
        "\n",
        "  #Atualizando as variáveis de controle\n",
        "  if fc == 0:\n",
        "    dif_fc = fc_nova\n",
        "  else:\n",
        "    dif_fc = fc - fc_nova\n",
        "  fc = fc_nova\n",
        "  it=it+1"
      ],
      "execution_count": null,
      "outputs": [
        {
          "output_type": "stream",
          "name": "stdout",
          "text": [
            "0\n",
            "1\n",
            "2\n",
            "3\n",
            "4\n",
            "5\n",
            "6\n"
          ]
        }
      ]
    },
    {
      "cell_type": "code",
      "metadata": {
        "colab": {
          "base_uri": "https://localhost:8080/",
          "height": 265
        },
        "id": "RLLqxC9xkbu2",
        "outputId": "fa9185a4-ed86-4a2d-8635-91583d7c8c7c"
      },
      "source": [
        "plt.scatter(dfWines_reduced[\"x\"], dfWines_reduced[\"y\"],c=G_kmeans_Euclidean)\n",
        "plt.scatter(C_Euclidean.values[:,0],C_Euclidean.values[:,1],s = 120,c='red')\n",
        "plt.show()"
      ],
      "execution_count": null,
      "outputs": [
        {
          "output_type": "display_data",
          "data": {
            "image/png": "[encoded data removed]",
            "text/plain": [
              "<Figure size 432x288 with 1 Axes>"
            ]
          },
          "metadata": {
            "needs_background": "light"
          }
        }
      ]
    },
    {
      "cell_type": "markdown",
      "metadata": {
        "id": "iXuClXsLk1y2"
      },
      "source": [
        "###### Correlação de Pearson "
      ]
    },
    {
      "cell_type": "code",
      "metadata": {
        "id": "7noLdaZ2kzSp"
      },
      "source": [
        "def funcao_custo(dados, rotulo, centroides):\n",
        "  fc = 0\n",
        "  for i in range(len(dados)):\n",
        "    fc+= pearsons_correlation_coefficient(dados[i],centroides[int(rotulo[i])])\n",
        "  return fc\n",
        "\n",
        "def dist(dados, centroides):\n",
        "  D = []\n",
        "  for obj in dados.values:\n",
        "    #print(obj)\n",
        "    DAux = []\n",
        "    for c in centroides.values:\n",
        "      DAux.append(pearsons_correlation_coefficient(obj,c))\n",
        "    D.append(DAux)\n",
        "  return D\n",
        "\n",
        "def media(dados):\n",
        "  xm = 0\n",
        "  ym = 0\n",
        "  for d in dados.values:\n",
        "    xm+=d[0]\n",
        "    ym+=d[1]\n",
        "  xm=xm/len(dados)\n",
        "  ym=ym/len(dados)\n",
        "  return [xm,ym]"
      ],
      "execution_count": null,
      "outputs": []
    },
    {
      "cell_type": "code",
      "metadata": {
        "colab": {
          "base_uri": "https://localhost:8080/"
        },
        "id": "KJJWhTyAkzSq",
        "outputId": "19976e09-64cf-4bc6-ac39-2db660e08b7d"
      },
      "source": [
        "idx = np.random.randint(0, len(dfWines_reduced), 3)\n",
        "idx"
      ],
      "execution_count": null,
      "outputs": [
        {
          "output_type": "execute_result",
          "data": {
            "text/plain": [
              "array([ 32, 153,  55])"
            ]
          },
          "metadata": {},
          "execution_count": 17
        }
      ]
    },
    {
      "cell_type": "code",
      "metadata": {
        "colab": {
          "base_uri": "https://localhost:8080/",
          "height": 143
        },
        "id": "0baKju-MkzSr",
        "outputId": "122b18d8-a907-4af3-cae9-5ef092b93cc8"
      },
      "source": [
        "k = 3\n",
        "C_Pearson = dfWines_reduced.loc[idx]\n",
        "C_Pearson = C_Pearson.astype(np.float)\n",
        "G_kmeans_Pearson = np.zeros(len(dfWines_reduced.values))\n",
        "dif_fc = 1\n",
        "fc=0\n",
        "it = 0\n",
        "C_Pearson"
      ],
      "execution_count": null,
      "outputs": [
        {
          "output_type": "execute_result",
          "data": {
            "text/html": [
              "<div>\n",
              "<style scoped>\n",
              "    .dataframe tbody tr th:only-of-type {\n",
              "        vertical-align: middle;\n",
              "    }\n",
              "\n",
              "    .dataframe tbody tr th {\n",
              "        vertical-align: top;\n",
              "    }\n",
              "\n",
              "    .dataframe thead th {\n",
              "        text-align: right;\n",
              "    }\n",
              "</style>\n",
              "<table border=\"1\" class=\"dataframe\">\n",
              "  <thead>\n",
              "    <tr style=\"text-align: right;\">\n",
              "      <th></th>\n",
              "      <th>x</th>\n",
              "      <th>y</th>\n",
              "    </tr>\n",
              "  </thead>\n",
              "  <tbody>\n",
              "    <tr>\n",
              "      <th>32</th>\n",
              "      <td>1.628579</td>\n",
              "      <td>-0.052704</td>\n",
              "    </tr>\n",
              "    <tr>\n",
              "      <th>153</th>\n",
              "      <td>-2.760145</td>\n",
              "      <td>-2.138932</td>\n",
              "    </tr>\n",
              "    <tr>\n",
              "      <th>55</th>\n",
              "      <td>2.469329</td>\n",
              "      <td>-1.329008</td>\n",
              "    </tr>\n",
              "  </tbody>\n",
              "</table>\n",
              "</div>"
            ],
            "text/plain": [
              "            x         y\n",
              "32   1.628579 -0.052704\n",
              "153 -2.760145 -2.138932\n",
              "55   2.469329 -1.329008"
            ]
          },
          "metadata": {},
          "execution_count": 18
        }
      ]
    },
    {
      "cell_type": "code",
      "metadata": {
        "colab": {
          "base_uri": "https://localhost:8080/",
          "height": 265
        },
        "id": "7n5Yst12kzSr",
        "outputId": "b3f5a47f-8447-4d37-ad19-7d8db45b214d"
      },
      "source": [
        "plt.scatter(dfWines_reduced[\"x\"], dfWines_reduced[\"y\"],c=G_kmeans_Pearson)\n",
        "plt.scatter(C_Pearson.values[:,0],C_Pearson.values[:,1],s = 120,c='red')\n",
        "plt.show()"
      ],
      "execution_count": null,
      "outputs": [
        {
          "output_type": "display_data",
          "data": {
            "image/png": "[encoded data removed]",
            "text/plain": [
              "<Figure size 432x288 with 1 Axes>"
            ]
          },
          "metadata": {
            "needs_background": "light"
          }
        }
      ]
    },
    {
      "cell_type": "code",
      "metadata": {
        "colab": {
          "base_uri": "https://localhost:8080/"
        },
        "id": "hOaXY9DikzSs",
        "outputId": "918b74be-8676-4bc6-aa68-e9a7e8b9af84"
      },
      "source": [
        "for l in range(100):\n",
        "  print(it)\n",
        "  #Calcular a Distancia entre os Centroides e os Objetox\n",
        "  D = dist(dfWines_reduced,C_Pearson)\n",
        "  #Determinar o Centroide mais perto para cada objeto\n",
        "  for i in range(len(dfWines_reduced.values)):\n",
        "    #print(D[i])\n",
        "    #print(np.argmin(D[i]))\n",
        "    G_kmeans_Pearson[i] = np.argmin(D[i])\n",
        "    \n",
        "  #Atualizar a posicao dos Centroides\n",
        "  for i in range(k):\n",
        "    #Encontrar os objetos de cada grupo\n",
        "    ids = []\n",
        "    for j in range(len(dfWines_reduced.values)):\n",
        "      if G_kmeans_Pearson[j]==i :\n",
        "        ids.append(j)\n",
        "    #Calcular o ponto médio do grupo\n",
        "    print(ids)\n",
        "    C_Pearson.values[i] = media(dfWines_reduced.loc[ids])\n",
        "  #Calcular o nova funcao de custo do novo agrupamento\n",
        "  fc_nova = funcao_custo(dfWines_reduced.values,G_kmeans_Pearson,C_Pearson.values)\n",
        "\n",
        "  #Atualizando as variáveis de controle\n",
        "  if fc == 0:\n",
        "    dif_fc = fc_nova\n",
        "  else:\n",
        "    dif_fc = fc - fc_nova\n",
        "  fc = fc_nova\n",
        "  it=it+1"
      ],
      "execution_count": null,
      "outputs": [
        {
          "output_type": "stream",
          "name": "stdout",
          "text": [
            "0\n",
            "[83, 130, 131, 132, 133, 134, 135, 136, 137, 138, 139, 140, 141, 142, 143, 144, 145, 146, 147, 148, 149, 150, 151, 152, 153, 154, 155, 156, 157, 158, 159, 160, 161, 162, 163, 164, 165, 166, 167, 168, 169, 170, 171, 172, 173, 174, 175, 176, 177]\n",
            "[0, 1, 2, 3, 4, 5, 6, 7, 8, 9, 10, 11, 12, 13, 14, 15, 16, 17, 18, 19, 20, 21, 22, 23, 24, 25, 26, 27, 28, 29, 30, 31, 32, 33, 34, 35, 36, 37, 38, 39, 40, 41, 42, 43, 44, 45, 46, 47, 48, 49, 50, 51, 52, 53, 54, 55, 56, 57, 58, 62, 63, 65, 66, 67, 69, 71, 73, 74, 76, 78, 79, 80, 81, 84, 85, 93, 94, 95, 97, 98, 99, 100, 104, 108, 109, 110, 115, 117, 120, 121, 124, 125, 126]\n",
            "[59, 60, 61, 64, 68, 70, 72, 75, 77, 82, 86, 87, 88, 89, 90, 91, 92, 96, 101, 102, 103, 105, 106, 107, 111, 112, 113, 114, 116, 118, 119, 122, 123, 127, 128, 129]\n",
            "1\n",
            "[1, 9, 12, 20, 21, 22, 23, 24, 27, 28, 29, 32, 35, 37, 38, 40, 41, 44, 47, 50, 51, 62, 63, 65, 66, 67, 69, 71, 73, 74, 76, 78, 79, 80, 81, 84, 85, 93, 94, 95, 97, 98, 99, 100, 102, 104, 106, 108, 109, 110, 111, 113, 115, 116, 117, 120, 121, 124, 125, 126]\n",
            "[59, 60, 61, 64, 68, 70, 72, 75, 77, 82, 83, 86, 87, 88, 89, 90, 91, 92, 96, 101, 103, 105, 107, 112, 114, 118, 119, 122, 123, 127, 128, 129, 130, 131, 132, 133, 134, 135, 136, 137, 138, 139, 140, 141, 142, 143, 144, 145, 146, 147, 148, 149, 150, 151, 152, 153, 154, 155, 156, 157, 159, 160, 161, 162, 163, 164, 165, 166, 167, 168, 169, 170, 171, 172, 173, 174, 175, 176, 177]\n",
            "[0, 2, 3, 4, 5, 6, 7, 8, 10, 11, 13, 14, 15, 16, 17, 18, 19, 25, 26, 30, 31, 33, 34, 36, 39, 42, 43, 45, 46, 48, 49, 52, 53, 54, 55, 56, 57, 58, 158]\n",
            "2\n",
            "[130, 131, 132, 133, 135, 137, 138, 139, 140, 141, 142, 143, 144, 145, 146, 147, 148, 149, 150, 151, 152, 153, 154, 155, 156, 157, 158, 159, 160, 161, 162, 163, 164, 165, 166, 167, 168, 169, 171, 172, 173, 174, 175, 176, 177]\n",
            "[0, 1, 2, 3, 4, 5, 6, 7, 8, 9, 10, 11, 12, 13, 14, 15, 16, 17, 18, 19, 20, 21, 22, 23, 24, 25, 26, 27, 28, 29, 30, 31, 32, 33, 34, 35, 36, 37, 38, 39, 40, 41, 42, 43, 44, 45, 46, 47, 48, 49, 50, 51, 52, 53, 54, 55, 56, 57, 58, 63, 65, 66, 69, 71, 73, 74, 78, 79, 81, 84, 85, 93, 94, 95, 97, 98, 99, 100, 109, 110, 120, 121, 124]\n",
            "[59, 60, 61, 62, 64, 67, 68, 70, 72, 75, 76, 77, 80, 82, 83, 86, 87, 88, 89, 90, 91, 92, 96, 101, 102, 103, 104, 105, 106, 107, 108, 111, 112, 113, 114, 115, 116, 117, 118, 119, 122, 123, 125, 126, 127, 128, 129, 134, 136, 170]\n",
            "3\n",
            "[1, 9, 20, 21, 22, 23, 24, 27, 28, 29, 32, 35, 37, 38, 40, 41, 44, 47, 50, 51, 62, 63, 65, 66, 67, 69, 71, 73, 74, 76, 78, 79, 80, 81, 84, 85, 93, 94, 95, 97, 98, 99, 100, 102, 104, 108, 109, 110, 111, 115, 116, 117, 120, 121, 124, 125, 126]\n",
            "[59, 60, 61, 64, 68, 70, 72, 75, 77, 82, 83, 86, 87, 88, 89, 90, 91, 92, 96, 101, 103, 105, 106, 107, 112, 113, 114, 118, 119, 122, 123, 127, 128, 129, 130, 131, 132, 133, 134, 135, 136, 137, 138, 139, 140, 141, 142, 143, 144, 145, 146, 147, 148, 149, 150, 151, 152, 153, 154, 155, 156, 157, 160, 161, 162, 163, 164, 165, 166, 167, 168, 169, 170, 171, 172, 173, 174, 175, 176, 177]\n",
            "[0, 2, 3, 4, 5, 6, 7, 8, 10, 11, 12, 13, 14, 15, 16, 17, 18, 19, 25, 26, 30, 31, 33, 34, 36, 39, 42, 43, 45, 46, 48, 49, 52, 53, 54, 55, 56, 57, 58, 158, 159]\n",
            "4\n",
            "[130, 131, 132, 133, 135, 136, 137, 138, 139, 140, 141, 142, 143, 144, 145, 146, 147, 148, 149, 150, 151, 152, 153, 154, 155, 156, 157, 158, 159, 160, 161, 162, 163, 164, 165, 166, 167, 168, 169, 171, 172, 173, 174, 175, 176, 177]\n",
            "[0, 1, 2, 3, 4, 5, 6, 7, 8, 9, 10, 11, 12, 13, 14, 15, 16, 17, 18, 19, 20, 21, 22, 23, 24, 25, 26, 27, 28, 29, 30, 31, 32, 33, 34, 35, 36, 37, 38, 39, 40, 41, 42, 43, 44, 45, 46, 47, 48, 49, 50, 51, 52, 53, 54, 55, 56, 57, 58, 63, 65, 66, 69, 71, 73, 74, 78, 79, 81, 84, 85, 93, 94, 95, 97, 98, 99, 100, 109, 110, 120, 121, 124]\n",
            "[59, 60, 61, 62, 64, 67, 68, 70, 72, 75, 76, 77, 80, 82, 83, 86, 87, 88, 89, 90, 91, 92, 96, 101, 102, 103, 104, 105, 106, 107, 108, 111, 112, 113, 114, 115, 116, 117, 118, 119, 122, 123, 125, 126, 127, 128, 129, 134, 170]\n",
            "5\n",
            "[1, 9, 12, 13, 20, 21, 22, 23, 24, 27, 28, 29, 32, 35, 37, 38, 40, 41, 44, 47, 50, 51, 62, 63, 65, 66, 67, 69, 71, 73, 74, 76, 78, 79, 80, 81, 84, 85, 93, 94, 95, 97, 98, 99, 100, 102, 104, 108, 109, 110, 111, 115, 116, 117, 120, 121, 124, 125, 126]\n",
            "[59, 60, 61, 64, 68, 70, 72, 75, 77, 82, 83, 86, 87, 88, 89, 90, 91, 92, 96, 101, 103, 105, 106, 107, 112, 113, 114, 118, 119, 122, 123, 127, 128, 129, 130, 131, 132, 133, 134, 135, 136, 137, 138, 139, 140, 141, 142, 143, 144, 145, 146, 147, 148, 149, 150, 151, 152, 153, 154, 155, 156, 157, 160, 161, 162, 163, 164, 165, 166, 167, 168, 169, 170, 171, 172, 173, 174, 175, 176, 177]\n",
            "[0, 2, 3, 4, 5, 6, 7, 8, 10, 11, 14, 15, 16, 17, 18, 19, 25, 26, 30, 31, 33, 34, 36, 39, 42, 43, 45, 46, 48, 49, 52, 53, 54, 55, 56, 57, 58, 158, 159]\n",
            "6\n",
            "[130, 131, 132, 133, 135, 136, 137, 138, 139, 140, 141, 142, 143, 144, 145, 146, 147, 148, 149, 150, 151, 152, 153, 154, 155, 156, 157, 158, 159, 160, 161, 162, 163, 164, 165, 166, 167, 168, 169, 171, 172, 173, 174, 175, 176, 177]\n",
            "[0, 1, 2, 3, 4, 5, 6, 7, 8, 9, 10, 11, 12, 13, 14, 15, 16, 17, 18, 19, 20, 21, 22, 23, 24, 25, 26, 27, 28, 29, 30, 31, 32, 33, 34, 35, 36, 37, 38, 39, 40, 41, 42, 43, 44, 45, 46, 47, 48, 49, 50, 51, 52, 53, 54, 55, 56, 57, 58, 63, 65, 66, 69, 71, 73, 74, 78, 79, 81, 84, 85, 93, 94, 95, 97, 98, 99, 100, 109, 110, 120, 121, 124]\n",
            "[59, 60, 61, 62, 64, 67, 68, 70, 72, 75, 76, 77, 80, 82, 83, 86, 87, 88, 89, 90, 91, 92, 96, 101, 102, 103, 104, 105, 106, 107, 108, 111, 112, 113, 114, 115, 116, 117, 118, 119, 122, 123, 125, 126, 127, 128, 129, 134, 170]\n",
            "7\n",
            "[1, 9, 12, 13, 20, 21, 22, 23, 24, 27, 28, 29, 32, 35, 37, 38, 40, 41, 44, 47, 50, 51, 62, 63, 65, 66, 67, 69, 71, 73, 74, 76, 78, 79, 80, 81, 84, 85, 93, 94, 95, 97, 98, 99, 100, 102, 104, 108, 109, 110, 111, 115, 116, 117, 120, 121, 124, 125, 126]\n",
            "[59, 60, 61, 64, 68, 70, 72, 75, 77, 82, 83, 86, 87, 88, 89, 90, 91, 92, 96, 101, 103, 105, 106, 107, 112, 113, 114, 118, 119, 122, 123, 127, 128, 129, 130, 131, 132, 133, 134, 135, 136, 137, 138, 139, 140, 141, 142, 143, 144, 145, 146, 147, 148, 149, 150, 151, 152, 153, 154, 155, 156, 157, 160, 161, 162, 163, 164, 165, 166, 167, 168, 169, 170, 171, 172, 173, 174, 175, 176, 177]\n",
            "[0, 2, 3, 4, 5, 6, 7, 8, 10, 11, 14, 15, 16, 17, 18, 19, 25, 26, 30, 31, 33, 34, 36, 39, 42, 43, 45, 46, 48, 49, 52, 53, 54, 55, 56, 57, 58, 158, 159]\n",
            "8\n",
            "[130, 131, 132, 133, 135, 136, 137, 138, 139, 140, 141, 142, 143, 144, 145, 146, 147, 148, 149, 150, 151, 152, 153, 154, 155, 156, 157, 158, 159, 160, 161, 162, 163, 164, 165, 166, 167, 168, 169, 171, 172, 173, 174, 175, 176, 177]\n",
            "[0, 1, 2, 3, 4, 5, 6, 7, 8, 9, 10, 11, 12, 13, 14, 15, 16, 17, 18, 19, 20, 21, 22, 23, 24, 25, 26, 27, 28, 29, 30, 31, 32, 33, 34, 35, 36, 37, 38, 39, 40, 41, 42, 43, 44, 45, 46, 47, 48, 49, 50, 51, 52, 53, 54, 55, 56, 57, 58, 63, 65, 66, 69, 71, 73, 74, 78, 79, 81, 84, 85, 93, 94, 95, 97, 98, 99, 100, 109, 110, 120, 121, 124]\n",
            "[59, 60, 61, 62, 64, 67, 68, 70, 72, 75, 76, 77, 80, 82, 83, 86, 87, 88, 89, 90, 91, 92, 96, 101, 102, 103, 104, 105, 106, 107, 108, 111, 112, 113, 114, 115, 116, 117, 118, 119, 122, 123, 125, 126, 127, 128, 129, 134, 170]\n",
            "9\n",
            "[1, 9, 12, 13, 20, 21, 22, 23, 24, 27, 28, 29, 32, 35, 37, 38, 40, 41, 44, 47, 50, 51, 62, 63, 65, 66, 67, 69, 71, 73, 74, 76, 78, 79, 80, 81, 84, 85, 93, 94, 95, 97, 98, 99, 100, 102, 104, 108, 109, 110, 111, 115, 116, 117, 120, 121, 124, 125, 126]\n",
            "[59, 60, 61, 64, 68, 70, 72, 75, 77, 82, 83, 86, 87, 88, 89, 90, 91, 92, 96, 101, 103, 105, 106, 107, 112, 113, 114, 118, 119, 122, 123, 127, 128, 129, 130, 131, 132, 133, 134, 135, 136, 137, 138, 139, 140, 141, 142, 143, 144, 145, 146, 147, 148, 149, 150, 151, 152, 153, 154, 155, 156, 157, 160, 161, 162, 163, 164, 165, 166, 167, 168, 169, 170, 171, 172, 173, 174, 175, 176, 177]\n",
            "[0, 2, 3, 4, 5, 6, 7, 8, 10, 11, 14, 15, 16, 17, 18, 19, 25, 26, 30, 31, 33, 34, 36, 39, 42, 43, 45, 46, 48, 49, 52, 53, 54, 55, 56, 57, 58, 158, 159]\n",
            "10\n",
            "[130, 131, 132, 133, 135, 136, 137, 138, 139, 140, 141, 142, 143, 144, 145, 146, 147, 148, 149, 150, 151, 152, 153, 154, 155, 156, 157, 158, 159, 160, 161, 162, 163, 164, 165, 166, 167, 168, 169, 171, 172, 173, 174, 175, 176, 177]\n",
            "[0, 1, 2, 3, 4, 5, 6, 7, 8, 9, 10, 11, 12, 13, 14, 15, 16, 17, 18, 19, 20, 21, 22, 23, 24, 25, 26, 27, 28, 29, 30, 31, 32, 33, 34, 35, 36, 37, 38, 39, 40, 41, 42, 43, 44, 45, 46, 47, 48, 49, 50, 51, 52, 53, 54, 55, 56, 57, 58, 63, 65, 66, 69, 71, 73, 74, 78, 79, 81, 84, 85, 93, 94, 95, 97, 98, 99, 100, 109, 110, 120, 121, 124]\n",
            "[59, 60, 61, 62, 64, 67, 68, 70, 72, 75, 76, 77, 80, 82, 83, 86, 87, 88, 89, 90, 91, 92, 96, 101, 102, 103, 104, 105, 106, 107, 108, 111, 112, 113, 114, 115, 116, 117, 118, 119, 122, 123, 125, 126, 127, 128, 129, 134, 170]\n",
            "11\n",
            "[1, 9, 12, 13, 20, 21, 22, 23, 24, 27, 28, 29, 32, 35, 37, 38, 40, 41, 44, 47, 50, 51, 62, 63, 65, 66, 67, 69, 71, 73, 74, 76, 78, 79, 80, 81, 84, 85, 93, 94, 95, 97, 98, 99, 100, 102, 104, 108, 109, 110, 111, 115, 116, 117, 120, 121, 124, 125, 126]\n",
            "[59, 60, 61, 64, 68, 70, 72, 75, 77, 82, 83, 86, 87, 88, 89, 90, 91, 92, 96, 101, 103, 105, 106, 107, 112, 113, 114, 118, 119, 122, 123, 127, 128, 129, 130, 131, 132, 133, 134, 135, 136, 137, 138, 139, 140, 141, 142, 143, 144, 145, 146, 147, 148, 149, 150, 151, 152, 153, 154, 155, 156, 157, 160, 161, 162, 163, 164, 165, 166, 167, 168, 169, 170, 171, 172, 173, 174, 175, 176, 177]\n",
            "[0, 2, 3, 4, 5, 6, 7, 8, 10, 11, 14, 15, 16, 17, 18, 19, 25, 26, 30, 31, 33, 34, 36, 39, 42, 43, 45, 46, 48, 49, 52, 53, 54, 55, 56, 57, 58, 158, 159]\n",
            "12\n",
            "[130, 131, 132, 133, 135, 136, 137, 138, 139, 140, 141, 142, 143, 144, 145, 146, 147, 148, 149, 150, 151, 152, 153, 154, 155, 156, 157, 158, 159, 160, 161, 162, 163, 164, 165, 166, 167, 168, 169, 171, 172, 173, 174, 175, 176, 177]\n",
            "[0, 1, 2, 3, 4, 5, 6, 7, 8, 9, 10, 11, 12, 13, 14, 15, 16, 17, 18, 19, 20, 21, 22, 23, 24, 25, 26, 27, 28, 29, 30, 31, 32, 33, 34, 35, 36, 37, 38, 39, 40, 41, 42, 43, 44, 45, 46, 47, 48, 49, 50, 51, 52, 53, 54, 55, 56, 57, 58, 63, 65, 66, 69, 71, 73, 74, 78, 79, 81, 84, 85, 93, 94, 95, 97, 98, 99, 100, 109, 110, 120, 121, 124]\n",
            "[59, 60, 61, 62, 64, 67, 68, 70, 72, 75, 76, 77, 80, 82, 83, 86, 87, 88, 89, 90, 91, 92, 96, 101, 102, 103, 104, 105, 106, 107, 108, 111, 112, 113, 114, 115, 116, 117, 118, 119, 122, 123, 125, 126, 127, 128, 129, 134, 170]\n",
            "13\n",
            "[1, 9, 12, 13, 20, 21, 22, 23, 24, 27, 28, 29, 32, 35, 37, 38, 40, 41, 44, 47, 50, 51, 62, 63, 65, 66, 67, 69, 71, 73, 74, 76, 78, 79, 80, 81, 84, 85, 93, 94, 95, 97, 98, 99, 100, 102, 104, 108, 109, 110, 111, 115, 116, 117, 120, 121, 124, 125, 126]\n",
            "[59, 60, 61, 64, 68, 70, 72, 75, 77, 82, 83, 86, 87, 88, 89, 90, 91, 92, 96, 101, 103, 105, 106, 107, 112, 113, 114, 118, 119, 122, 123, 127, 128, 129, 130, 131, 132, 133, 134, 135, 136, 137, 138, 139, 140, 141, 142, 143, 144, 145, 146, 147, 148, 149, 150, 151, 152, 153, 154, 155, 156, 157, 160, 161, 162, 163, 164, 165, 166, 167, 168, 169, 170, 171, 172, 173, 174, 175, 176, 177]\n",
            "[0, 2, 3, 4, 5, 6, 7, 8, 10, 11, 14, 15, 16, 17, 18, 19, 25, 26, 30, 31, 33, 34, 36, 39, 42, 43, 45, 46, 48, 49, 52, 53, 54, 55, 56, 57, 58, 158, 159]\n",
            "14\n",
            "[130, 131, 132, 133, 135, 136, 137, 138, 139, 140, 141, 142, 143, 144, 145, 146, 147, 148, 149, 150, 151, 152, 153, 154, 155, 156, 157, 158, 159, 160, 161, 162, 163, 164, 165, 166, 167, 168, 169, 171, 172, 173, 174, 175, 176, 177]\n",
            "[0, 1, 2, 3, 4, 5, 6, 7, 8, 9, 10, 11, 12, 13, 14, 15, 16, 17, 18, 19, 20, 21, 22, 23, 24, 25, 26, 27, 28, 29, 30, 31, 32, 33, 34, 35, 36, 37, 38, 39, 40, 41, 42, 43, 44, 45, 46, 47, 48, 49, 50, 51, 52, 53, 54, 55, 56, 57, 58, 63, 65, 66, 69, 71, 73, 74, 78, 79, 81, 84, 85, 93, 94, 95, 97, 98, 99, 100, 109, 110, 120, 121, 124]\n",
            "[59, 60, 61, 62, 64, 67, 68, 70, 72, 75, 76, 77, 80, 82, 83, 86, 87, 88, 89, 90, 91, 92, 96, 101, 102, 103, 104, 105, 106, 107, 108, 111, 112, 113, 114, 115, 116, 117, 118, 119, 122, 123, 125, 126, 127, 128, 129, 134, 170]\n",
            "15\n",
            "[1, 9, 12, 13, 20, 21, 22, 23, 24, 27, 28, 29, 32, 35, 37, 38, 40, 41, 44, 47, 50, 51, 62, 63, 65, 66, 67, 69, 71, 73, 74, 76, 78, 79, 80, 81, 84, 85, 93, 94, 95, 97, 98, 99, 100, 102, 104, 108, 109, 110, 111, 115, 116, 117, 120, 121, 124, 125, 126]\n",
            "[59, 60, 61, 64, 68, 70, 72, 75, 77, 82, 83, 86, 87, 88, 89, 90, 91, 92, 96, 101, 103, 105, 106, 107, 112, 113, 114, 118, 119, 122, 123, 127, 128, 129, 130, 131, 132, 133, 134, 135, 136, 137, 138, 139, 140, 141, 142, 143, 144, 145, 146, 147, 148, 149, 150, 151, 152, 153, 154, 155, 156, 157, 160, 161, 162, 163, 164, 165, 166, 167, 168, 169, 170, 171, 172, 173, 174, 175, 176, 177]\n",
            "[0, 2, 3, 4, 5, 6, 7, 8, 10, 11, 14, 15, 16, 17, 18, 19, 25, 26, 30, 31, 33, 34, 36, 39, 42, 43, 45, 46, 48, 49, 52, 53, 54, 55, 56, 57, 58, 158, 159]\n",
            "16\n",
            "[130, 131, 132, 133, 135, 136, 137, 138, 139, 140, 141, 142, 143, 144, 145, 146, 147, 148, 149, 150, 151, 152, 153, 154, 155, 156, 157, 158, 159, 160, 161, 162, 163, 164, 165, 166, 167, 168, 169, 171, 172, 173, 174, 175, 176, 177]\n",
            "[0, 1, 2, 3, 4, 5, 6, 7, 8, 9, 10, 11, 12, 13, 14, 15, 16, 17, 18, 19, 20, 21, 22, 23, 24, 25, 26, 27, 28, 29, 30, 31, 32, 33, 34, 35, 36, 37, 38, 39, 40, 41, 42, 43, 44, 45, 46, 47, 48, 49, 50, 51, 52, 53, 54, 55, 56, 57, 58, 63, 65, 66, 69, 71, 73, 74, 78, 79, 81, 84, 85, 93, 94, 95, 97, 98, 99, 100, 109, 110, 120, 121, 124]\n",
            "[59, 60, 61, 62, 64, 67, 68, 70, 72, 75, 76, 77, 80, 82, 83, 86, 87, 88, 89, 90, 91, 92, 96, 101, 102, 103, 104, 105, 106, 107, 108, 111, 112, 113, 114, 115, 116, 117, 118, 119, 122, 123, 125, 126, 127, 128, 129, 134, 170]\n",
            "17\n",
            "[1, 9, 12, 13, 20, 21, 22, 23, 24, 27, 28, 29, 32, 35, 37, 38, 40, 41, 44, 47, 50, 51, 62, 63, 65, 66, 67, 69, 71, 73, 74, 76, 78, 79, 80, 81, 84, 85, 93, 94, 95, 97, 98, 99, 100, 102, 104, 108, 109, 110, 111, 115, 116, 117, 120, 121, 124, 125, 126]\n",
            "[59, 60, 61, 64, 68, 70, 72, 75, 77, 82, 83, 86, 87, 88, 89, 90, 91, 92, 96, 101, 103, 105, 106, 107, 112, 113, 114, 118, 119, 122, 123, 127, 128, 129, 130, 131, 132, 133, 134, 135, 136, 137, 138, 139, 140, 141, 142, 143, 144, 145, 146, 147, 148, 149, 150, 151, 152, 153, 154, 155, 156, 157, 160, 161, 162, 163, 164, 165, 166, 167, 168, 169, 170, 171, 172, 173, 174, 175, 176, 177]\n",
            "[0, 2, 3, 4, 5, 6, 7, 8, 10, 11, 14, 15, 16, 17, 18, 19, 25, 26, 30, 31, 33, 34, 36, 39, 42, 43, 45, 46, 48, 49, 52, 53, 54, 55, 56, 57, 58, 158, 159]\n",
            "18\n",
            "[130, 131, 132, 133, 135, 136, 137, 138, 139, 140, 141, 142, 143, 144, 145, 146, 147, 148, 149, 150, 151, 152, 153, 154, 155, 156, 157, 158, 159, 160, 161, 162, 163, 164, 165, 166, 167, 168, 169, 171, 172, 173, 174, 175, 176, 177]\n",
            "[0, 1, 2, 3, 4, 5, 6, 7, 8, 9, 10, 11, 12, 13, 14, 15, 16, 17, 18, 19, 20, 21, 22, 23, 24, 25, 26, 27, 28, 29, 30, 31, 32, 33, 34, 35, 36, 37, 38, 39, 40, 41, 42, 43, 44, 45, 46, 47, 48, 49, 50, 51, 52, 53, 54, 55, 56, 57, 58, 63, 65, 66, 69, 71, 73, 74, 78, 79, 81, 84, 85, 93, 94, 95, 97, 98, 99, 100, 109, 110, 120, 121, 124]\n",
            "[59, 60, 61, 62, 64, 67, 68, 70, 72, 75, 76, 77, 80, 82, 83, 86, 87, 88, 89, 90, 91, 92, 96, 101, 102, 103, 104, 105, 106, 107, 108, 111, 112, 113, 114, 115, 116, 117, 118, 119, 122, 123, 125, 126, 127, 128, 129, 134, 170]\n",
            "19\n",
            "[1, 9, 12, 13, 20, 21, 22, 23, 24, 27, 28, 29, 32, 35, 37, 38, 40, 41, 44, 47, 50, 51, 62, 63, 65, 66, 67, 69, 71, 73, 74, 76, 78, 79, 80, 81, 84, 85, 93, 94, 95, 97, 98, 99, 100, 102, 104, 108, 109, 110, 111, 115, 116, 117, 120, 121, 124, 125, 126]\n",
            "[59, 60, 61, 64, 68, 70, 72, 75, 77, 82, 83, 86, 87, 88, 89, 90, 91, 92, 96, 101, 103, 105, 106, 107, 112, 113, 114, 118, 119, 122, 123, 127, 128, 129, 130, 131, 132, 133, 134, 135, 136, 137, 138, 139, 140, 141, 142, 143, 144, 145, 146, 147, 148, 149, 150, 151, 152, 153, 154, 155, 156, 157, 160, 161, 162, 163, 164, 165, 166, 167, 168, 169, 170, 171, 172, 173, 174, 175, 176, 177]\n",
            "[0, 2, 3, 4, 5, 6, 7, 8, 10, 11, 14, 15, 16, 17, 18, 19, 25, 26, 30, 31, 33, 34, 36, 39, 42, 43, 45, 46, 48, 49, 52, 53, 54, 55, 56, 57, 58, 158, 159]\n",
            "20\n",
            "[130, 131, 132, 133, 135, 136, 137, 138, 139, 140, 141, 142, 143, 144, 145, 146, 147, 148, 149, 150, 151, 152, 153, 154, 155, 156, 157, 158, 159, 160, 161, 162, 163, 164, 165, 166, 167, 168, 169, 171, 172, 173, 174, 175, 176, 177]\n",
            "[0, 1, 2, 3, 4, 5, 6, 7, 8, 9, 10, 11, 12, 13, 14, 15, 16, 17, 18, 19, 20, 21, 22, 23, 24, 25, 26, 27, 28, 29, 30, 31, 32, 33, 34, 35, 36, 37, 38, 39, 40, 41, 42, 43, 44, 45, 46, 47, 48, 49, 50, 51, 52, 53, 54, 55, 56, 57, 58, 63, 65, 66, 69, 71, 73, 74, 78, 79, 81, 84, 85, 93, 94, 95, 97, 98, 99, 100, 109, 110, 120, 121, 124]\n",
            "[59, 60, 61, 62, 64, 67, 68, 70, 72, 75, 76, 77, 80, 82, 83, 86, 87, 88, 89, 90, 91, 92, 96, 101, 102, 103, 104, 105, 106, 107, 108, 111, 112, 113, 114, 115, 116, 117, 118, 119, 122, 123, 125, 126, 127, 128, 129, 134, 170]\n",
            "21\n",
            "[1, 9, 12, 13, 20, 21, 22, 23, 24, 27, 28, 29, 32, 35, 37, 38, 40, 41, 44, 47, 50, 51, 62, 63, 65, 66, 67, 69, 71, 73, 74, 76, 78, 79, 80, 81, 84, 85, 93, 94, 95, 97, 98, 99, 100, 102, 104, 108, 109, 110, 111, 115, 116, 117, 120, 121, 124, 125, 126]\n",
            "[59, 60, 61, 64, 68, 70, 72, 75, 77, 82, 83, 86, 87, 88, 89, 90, 91, 92, 96, 101, 103, 105, 106, 107, 112, 113, 114, 118, 119, 122, 123, 127, 128, 129, 130, 131, 132, 133, 134, 135, 136, 137, 138, 139, 140, 141, 142, 143, 144, 145, 146, 147, 148, 149, 150, 151, 152, 153, 154, 155, 156, 157, 160, 161, 162, 163, 164, 165, 166, 167, 168, 169, 170, 171, 172, 173, 174, 175, 176, 177]\n",
            "[0, 2, 3, 4, 5, 6, 7, 8, 10, 11, 14, 15, 16, 17, 18, 19, 25, 26, 30, 31, 33, 34, 36, 39, 42, 43, 45, 46, 48, 49, 52, 53, 54, 55, 56, 57, 58, 158, 159]\n",
            "22\n",
            "[130, 131, 132, 133, 135, 136, 137, 138, 139, 140, 141, 142, 143, 144, 145, 146, 147, 148, 149, 150, 151, 152, 153, 154, 155, 156, 157, 158, 159, 160, 161, 162, 163, 164, 165, 166, 167, 168, 169, 171, 172, 173, 174, 175, 176, 177]\n",
            "[0, 1, 2, 3, 4, 5, 6, 7, 8, 9, 10, 11, 12, 13, 14, 15, 16, 17, 18, 19, 20, 21, 22, 23, 24, 25, 26, 27, 28, 29, 30, 31, 32, 33, 34, 35, 36, 37, 38, 39, 40, 41, 42, 43, 44, 45, 46, 47, 48, 49, 50, 51, 52, 53, 54, 55, 56, 57, 58, 63, 65, 66, 69, 71, 73, 74, 78, 79, 81, 84, 85, 93, 94, 95, 97, 98, 99, 100, 109, 110, 120, 121, 124]\n",
            "[59, 60, 61, 62, 64, 67, 68, 70, 72, 75, 76, 77, 80, 82, 83, 86, 87, 88, 89, 90, 91, 92, 96, 101, 102, 103, 104, 105, 106, 107, 108, 111, 112, 113, 114, 115, 116, 117, 118, 119, 122, 123, 125, 126, 127, 128, 129, 134, 170]\n",
            "23\n",
            "[1, 9, 12, 13, 20, 21, 22, 23, 24, 27, 28, 29, 32, 35, 37, 38, 40, 41, 44, 47, 50, 51, 62, 63, 65, 66, 67, 69, 71, 73, 74, 76, 78, 79, 80, 81, 84, 85, 93, 94, 95, 97, 98, 99, 100, 102, 104, 108, 109, 110, 111, 115, 116, 117, 120, 121, 124, 125, 126]\n",
            "[59, 60, 61, 64, 68, 70, 72, 75, 77, 82, 83, 86, 87, 88, 89, 90, 91, 92, 96, 101, 103, 105, 106, 107, 112, 113, 114, 118, 119, 122, 123, 127, 128, 129, 130, 131, 132, 133, 134, 135, 136, 137, 138, 139, 140, 141, 142, 143, 144, 145, 146, 147, 148, 149, 150, 151, 152, 153, 154, 155, 156, 157, 160, 161, 162, 163, 164, 165, 166, 167, 168, 169, 170, 171, 172, 173, 174, 175, 176, 177]\n",
            "[0, 2, 3, 4, 5, 6, 7, 8, 10, 11, 14, 15, 16, 17, 18, 19, 25, 26, 30, 31, 33, 34, 36, 39, 42, 43, 45, 46, 48, 49, 52, 53, 54, 55, 56, 57, 58, 158, 159]\n",
            "24\n",
            "[130, 131, 132, 133, 135, 136, 137, 138, 139, 140, 141, 142, 143, 144, 145, 146, 147, 148, 149, 150, 151, 152, 153, 154, 155, 156, 157, 158, 159, 160, 161, 162, 163, 164, 165, 166, 167, 168, 169, 171, 172, 173, 174, 175, 176, 177]\n",
            "[0, 1, 2, 3, 4, 5, 6, 7, 8, 9, 10, 11, 12, 13, 14, 15, 16, 17, 18, 19, 20, 21, 22, 23, 24, 25, 26, 27, 28, 29, 30, 31, 32, 33, 34, 35, 36, 37, 38, 39, 40, 41, 42, 43, 44, 45, 46, 47, 48, 49, 50, 51, 52, 53, 54, 55, 56, 57, 58, 63, 65, 66, 69, 71, 73, 74, 78, 79, 81, 84, 85, 93, 94, 95, 97, 98, 99, 100, 109, 110, 120, 121, 124]\n",
            "[59, 60, 61, 62, 64, 67, 68, 70, 72, 75, 76, 77, 80, 82, 83, 86, 87, 88, 89, 90, 91, 92, 96, 101, 102, 103, 104, 105, 106, 107, 108, 111, 112, 113, 114, 115, 116, 117, 118, 119, 122, 123, 125, 126, 127, 128, 129, 134, 170]\n",
            "25\n",
            "[1, 9, 12, 13, 20, 21, 22, 23, 24, 27, 28, 29, 32, 35, 37, 38, 40, 41, 44, 47, 50, 51, 62, 63, 65, 66, 67, 69, 71, 73, 74, 76, 78, 79, 80, 81, 84, 85, 93, 94, 95, 97, 98, 99, 100, 102, 104, 108, 109, 110, 111, 115, 116, 117, 120, 121, 124, 125, 126]\n",
            "[59, 60, 61, 64, 68, 70, 72, 75, 77, 82, 83, 86, 87, 88, 89, 90, 91, 92, 96, 101, 103, 105, 106, 107, 112, 113, 114, 118, 119, 122, 123, 127, 128, 129, 130, 131, 132, 133, 134, 135, 136, 137, 138, 139, 140, 141, 142, 143, 144, 145, 146, 147, 148, 149, 150, 151, 152, 153, 154, 155, 156, 157, 160, 161, 162, 163, 164, 165, 166, 167, 168, 169, 170, 171, 172, 173, 174, 175, 176, 177]\n",
            "[0, 2, 3, 4, 5, 6, 7, 8, 10, 11, 14, 15, 16, 17, 18, 19, 25, 26, 30, 31, 33, 34, 36, 39, 42, 43, 45, 46, 48, 49, 52, 53, 54, 55, 56, 57, 58, 158, 159]\n",
            "26\n",
            "[130, 131, 132, 133, 135, 136, 137, 138, 139, 140, 141, 142, 143, 144, 145, 146, 147, 148, 149, 150, 151, 152, 153, 154, 155, 156, 157, 158, 159, 160, 161, 162, 163, 164, 165, 166, 167, 168, 169, 171, 172, 173, 174, 175, 176, 177]\n",
            "[0, 1, 2, 3, 4, 5, 6, 7, 8, 9, 10, 11, 12, 13, 14, 15, 16, 17, 18, 19, 20, 21, 22, 23, 24, 25, 26, 27, 28, 29, 30, 31, 32, 33, 34, 35, 36, 37, 38, 39, 40, 41, 42, 43, 44, 45, 46, 47, 48, 49, 50, 51, 52, 53, 54, 55, 56, 57, 58, 63, 65, 66, 69, 71, 73, 74, 78, 79, 81, 84, 85, 93, 94, 95, 97, 98, 99, 100, 109, 110, 120, 121, 124]\n",
            "[59, 60, 61, 62, 64, 67, 68, 70, 72, 75, 76, 77, 80, 82, 83, 86, 87, 88, 89, 90, 91, 92, 96, 101, 102, 103, 104, 105, 106, 107, 108, 111, 112, 113, 114, 115, 116, 117, 118, 119, 122, 123, 125, 126, 127, 128, 129, 134, 170]\n",
            "27\n",
            "[1, 9, 12, 13, 20, 21, 22, 23, 24, 27, 28, 29, 32, 35, 37, 38, 40, 41, 44, 47, 50, 51, 62, 63, 65, 66, 67, 69, 71, 73, 74, 76, 78, 79, 80, 81, 84, 85, 93, 94, 95, 97, 98, 99, 100, 102, 104, 108, 109, 110, 111, 115, 116, 117, 120, 121, 124, 125, 126]\n",
            "[59, 60, 61, 64, 68, 70, 72, 75, 77, 82, 83, 86, 87, 88, 89, 90, 91, 92, 96, 101, 103, 105, 106, 107, 112, 113, 114, 118, 119, 122, 123, 127, 128, 129, 130, 131, 132, 133, 134, 135, 136, 137, 138, 139, 140, 141, 142, 143, 144, 145, 146, 147, 148, 149, 150, 151, 152, 153, 154, 155, 156, 157, 160, 161, 162, 163, 164, 165, 166, 167, 168, 169, 170, 171, 172, 173, 174, 175, 176, 177]\n",
            "[0, 2, 3, 4, 5, 6, 7, 8, 10, 11, 14, 15, 16, 17, 18, 19, 25, 26, 30, 31, 33, 34, 36, 39, 42, 43, 45, 46, 48, 49, 52, 53, 54, 55, 56, 57, 58, 158, 159]\n",
            "28\n",
            "[130, 131, 132, 133, 135, 136, 137, 138, 139, 140, 141, 142, 143, 144, 145, 146, 147, 148, 149, 150, 151, 152, 153, 154, 155, 156, 157, 158, 159, 160, 161, 162, 163, 164, 165, 166, 167, 168, 169, 171, 172, 173, 174, 175, 176, 177]\n",
            "[0, 1, 2, 3, 4, 5, 6, 7, 8, 9, 10, 11, 12, 13, 14, 15, 16, 17, 18, 19, 20, 21, 22, 23, 24, 25, 26, 27, 28, 29, 30, 31, 32, 33, 34, 35, 36, 37, 38, 39, 40, 41, 42, 43, 44, 45, 46, 47, 48, 49, 50, 51, 52, 53, 54, 55, 56, 57, 58, 63, 65, 66, 69, 71, 73, 74, 78, 79, 81, 84, 85, 93, 94, 95, 97, 98, 99, 100, 109, 110, 120, 121, 124]\n",
            "[59, 60, 61, 62, 64, 67, 68, 70, 72, 75, 76, 77, 80, 82, 83, 86, 87, 88, 89, 90, 91, 92, 96, 101, 102, 103, 104, 105, 106, 107, 108, 111, 112, 113, 114, 115, 116, 117, 118, 119, 122, 123, 125, 126, 127, 128, 129, 134, 170]\n",
            "29\n",
            "[1, 9, 12, 13, 20, 21, 22, 23, 24, 27, 28, 29, 32, 35, 37, 38, 40, 41, 44, 47, 50, 51, 62, 63, 65, 66, 67, 69, 71, 73, 74, 76, 78, 79, 80, 81, 84, 85, 93, 94, 95, 97, 98, 99, 100, 102, 104, 108, 109, 110, 111, 115, 116, 117, 120, 121, 124, 125, 126]\n",
            "[59, 60, 61, 64, 68, 70, 72, 75, 77, 82, 83, 86, 87, 88, 89, 90, 91, 92, 96, 101, 103, 105, 106, 107, 112, 113, 114, 118, 119, 122, 123, 127, 128, 129, 130, 131, 132, 133, 134, 135, 136, 137, 138, 139, 140, 141, 142, 143, 144, 145, 146, 147, 148, 149, 150, 151, 152, 153, 154, 155, 156, 157, 160, 161, 162, 163, 164, 165, 166, 167, 168, 169, 170, 171, 172, 173, 174, 175, 176, 177]\n",
            "[0, 2, 3, 4, 5, 6, 7, 8, 10, 11, 14, 15, 16, 17, 18, 19, 25, 26, 30, 31, 33, 34, 36, 39, 42, 43, 45, 46, 48, 49, 52, 53, 54, 55, 56, 57, 58, 158, 159]\n",
            "30\n",
            "[130, 131, 132, 133, 135, 136, 137, 138, 139, 140, 141, 142, 143, 144, 145, 146, 147, 148, 149, 150, 151, 152, 153, 154, 155, 156, 157, 158, 159, 160, 161, 162, 163, 164, 165, 166, 167, 168, 169, 171, 172, 173, 174, 175, 176, 177]\n",
            "[0, 1, 2, 3, 4, 5, 6, 7, 8, 9, 10, 11, 12, 13, 14, 15, 16, 17, 18, 19, 20, 21, 22, 23, 24, 25, 26, 27, 28, 29, 30, 31, 32, 33, 34, 35, 36, 37, 38, 39, 40, 41, 42, 43, 44, 45, 46, 47, 48, 49, 50, 51, 52, 53, 54, 55, 56, 57, 58, 63, 65, 66, 69, 71, 73, 74, 78, 79, 81, 84, 85, 93, 94, 95, 97, 98, 99, 100, 109, 110, 120, 121, 124]\n",
            "[59, 60, 61, 62, 64, 67, 68, 70, 72, 75, 76, 77, 80, 82, 83, 86, 87, 88, 89, 90, 91, 92, 96, 101, 102, 103, 104, 105, 106, 107, 108, 111, 112, 113, 114, 115, 116, 117, 118, 119, 122, 123, 125, 126, 127, 128, 129, 134, 170]\n",
            "31\n",
            "[1, 9, 12, 13, 20, 21, 22, 23, 24, 27, 28, 29, 32, 35, 37, 38, 40, 41, 44, 47, 50, 51, 62, 63, 65, 66, 67, 69, 71, 73, 74, 76, 78, 79, 80, 81, 84, 85, 93, 94, 95, 97, 98, 99, 100, 102, 104, 108, 109, 110, 111, 115, 116, 117, 120, 121, 124, 125, 126]\n",
            "[59, 60, 61, 64, 68, 70, 72, 75, 77, 82, 83, 86, 87, 88, 89, 90, 91, 92, 96, 101, 103, 105, 106, 107, 112, 113, 114, 118, 119, 122, 123, 127, 128, 129, 130, 131, 132, 133, 134, 135, 136, 137, 138, 139, 140, 141, 142, 143, 144, 145, 146, 147, 148, 149, 150, 151, 152, 153, 154, 155, 156, 157, 160, 161, 162, 163, 164, 165, 166, 167, 168, 169, 170, 171, 172, 173, 174, 175, 176, 177]\n",
            "[0, 2, 3, 4, 5, 6, 7, 8, 10, 11, 14, 15, 16, 17, 18, 19, 25, 26, 30, 31, 33, 34, 36, 39, 42, 43, 45, 46, 48, 49, 52, 53, 54, 55, 56, 57, 58, 158, 159]\n",
            "32\n",
            "[130, 131, 132, 133, 135, 136, 137, 138, 139, 140, 141, 142, 143, 144, 145, 146, 147, 148, 149, 150, 151, 152, 153, 154, 155, 156, 157, 158, 159, 160, 161, 162, 163, 164, 165, 166, 167, 168, 169, 171, 172, 173, 174, 175, 176, 177]\n",
            "[0, 1, 2, 3, 4, 5, 6, 7, 8, 9, 10, 11, 12, 13, 14, 15, 16, 17, 18, 19, 20, 21, 22, 23, 24, 25, 26, 27, 28, 29, 30, 31, 32, 33, 34, 35, 36, 37, 38, 39, 40, 41, 42, 43, 44, 45, 46, 47, 48, 49, 50, 51, 52, 53, 54, 55, 56, 57, 58, 63, 65, 66, 69, 71, 73, 74, 78, 79, 81, 84, 85, 93, 94, 95, 97, 98, 99, 100, 109, 110, 120, 121, 124]\n",
            "[59, 60, 61, 62, 64, 67, 68, 70, 72, 75, 76, 77, 80, 82, 83, 86, 87, 88, 89, 90, 91, 92, 96, 101, 102, 103, 104, 105, 106, 107, 108, 111, 112, 113, 114, 115, 116, 117, 118, 119, 122, 123, 125, 126, 127, 128, 129, 134, 170]\n",
            "33\n",
            "[1, 9, 12, 13, 20, 21, 22, 23, 24, 27, 28, 29, 32, 35, 37, 38, 40, 41, 44, 47, 50, 51, 62, 63, 65, 66, 67, 69, 71, 73, 74, 76, 78, 79, 80, 81, 84, 85, 93, 94, 95, 97, 98, 99, 100, 102, 104, 108, 109, 110, 111, 115, 116, 117, 120, 121, 124, 125, 126]\n",
            "[59, 60, 61, 64, 68, 70, 72, 75, 77, 82, 83, 86, 87, 88, 89, 90, 91, 92, 96, 101, 103, 105, 106, 107, 112, 113, 114, 118, 119, 122, 123, 127, 128, 129, 130, 131, 132, 133, 134, 135, 136, 137, 138, 139, 140, 141, 142, 143, 144, 145, 146, 147, 148, 149, 150, 151, 152, 153, 154, 155, 156, 157, 160, 161, 162, 163, 164, 165, 166, 167, 168, 169, 170, 171, 172, 173, 174, 175, 176, 177]\n",
            "[0, 2, 3, 4, 5, 6, 7, 8, 10, 11, 14, 15, 16, 17, 18, 19, 25, 26, 30, 31, 33, 34, 36, 39, 42, 43, 45, 46, 48, 49, 52, 53, 54, 55, 56, 57, 58, 158, 159]\n",
            "34\n",
            "[130, 131, 132, 133, 135, 136, 137, 138, 139, 140, 141, 142, 143, 144, 145, 146, 147, 148, 149, 150, 151, 152, 153, 154, 155, 156, 157, 158, 159, 160, 161, 162, 163, 164, 165, 166, 167, 168, 169, 171, 172, 173, 174, 175, 176, 177]\n",
            "[0, 1, 2, 3, 4, 5, 6, 7, 8, 9, 10, 11, 12, 13, 14, 15, 16, 17, 18, 19, 20, 21, 22, 23, 24, 25, 26, 27, 28, 29, 30, 31, 32, 33, 34, 35, 36, 37, 38, 39, 40, 41, 42, 43, 44, 45, 46, 47, 48, 49, 50, 51, 52, 53, 54, 55, 56, 57, 58, 63, 65, 66, 69, 71, 73, 74, 78, 79, 81, 84, 85, 93, 94, 95, 97, 98, 99, 100, 109, 110, 120, 121, 124]\n",
            "[59, 60, 61, 62, 64, 67, 68, 70, 72, 75, 76, 77, 80, 82, 83, 86, 87, 88, 89, 90, 91, 92, 96, 101, 102, 103, 104, 105, 106, 107, 108, 111, 112, 113, 114, 115, 116, 117, 118, 119, 122, 123, 125, 126, 127, 128, 129, 134, 170]\n",
            "35\n",
            "[1, 9, 12, 13, 20, 21, 22, 23, 24, 27, 28, 29, 32, 35, 37, 38, 40, 41, 44, 47, 50, 51, 62, 63, 65, 66, 67, 69, 71, 73, 74, 76, 78, 79, 80, 81, 84, 85, 93, 94, 95, 97, 98, 99, 100, 102, 104, 108, 109, 110, 111, 115, 116, 117, 120, 121, 124, 125, 126]\n",
            "[59, 60, 61, 64, 68, 70, 72, 75, 77, 82, 83, 86, 87, 88, 89, 90, 91, 92, 96, 101, 103, 105, 106, 107, 112, 113, 114, 118, 119, 122, 123, 127, 128, 129, 130, 131, 132, 133, 134, 135, 136, 137, 138, 139, 140, 141, 142, 143, 144, 145, 146, 147, 148, 149, 150, 151, 152, 153, 154, 155, 156, 157, 160, 161, 162, 163, 164, 165, 166, 167, 168, 169, 170, 171, 172, 173, 174, 175, 176, 177]\n",
            "[0, 2, 3, 4, 5, 6, 7, 8, 10, 11, 14, 15, 16, 17, 18, 19, 25, 26, 30, 31, 33, 34, 36, 39, 42, 43, 45, 46, 48, 49, 52, 53, 54, 55, 56, 57, 58, 158, 159]\n",
            "36\n",
            "[130, 131, 132, 133, 135, 136, 137, 138, 139, 140, 141, 142, 143, 144, 145, 146, 147, 148, 149, 150, 151, 152, 153, 154, 155, 156, 157, 158, 159, 160, 161, 162, 163, 164, 165, 166, 167, 168, 169, 171, 172, 173, 174, 175, 176, 177]\n",
            "[0, 1, 2, 3, 4, 5, 6, 7, 8, 9, 10, 11, 12, 13, 14, 15, 16, 17, 18, 19, 20, 21, 22, 23, 24, 25, 26, 27, 28, 29, 30, 31, 32, 33, 34, 35, 36, 37, 38, 39, 40, 41, 42, 43, 44, 45, 46, 47, 48, 49, 50, 51, 52, 53, 54, 55, 56, 57, 58, 63, 65, 66, 69, 71, 73, 74, 78, 79, 81, 84, 85, 93, 94, 95, 97, 98, 99, 100, 109, 110, 120, 121, 124]\n",
            "[59, 60, 61, 62, 64, 67, 68, 70, 72, 75, 76, 77, 80, 82, 83, 86, 87, 88, 89, 90, 91, 92, 96, 101, 102, 103, 104, 105, 106, 107, 108, 111, 112, 113, 114, 115, 116, 117, 118, 119, 122, 123, 125, 126, 127, 128, 129, 134, 170]\n",
            "37\n",
            "[1, 9, 12, 13, 20, 21, 22, 23, 24, 27, 28, 29, 32, 35, 37, 38, 40, 41, 44, 47, 50, 51, 62, 63, 65, 66, 67, 69, 71, 73, 74, 76, 78, 79, 80, 81, 84, 85, 93, 94, 95, 97, 98, 99, 100, 102, 104, 108, 109, 110, 111, 115, 116, 117, 120, 121, 124, 125, 126]\n",
            "[59, 60, 61, 64, 68, 70, 72, 75, 77, 82, 83, 86, 87, 88, 89, 90, 91, 92, 96, 101, 103, 105, 106, 107, 112, 113, 114, 118, 119, 122, 123, 127, 128, 129, 130, 131, 132, 133, 134, 135, 136, 137, 138, 139, 140, 141, 142, 143, 144, 145, 146, 147, 148, 149, 150, 151, 152, 153, 154, 155, 156, 157, 160, 161, 162, 163, 164, 165, 166, 167, 168, 169, 170, 171, 172, 173, 174, 175, 176, 177]\n",
            "[0, 2, 3, 4, 5, 6, 7, 8, 10, 11, 14, 15, 16, 17, 18, 19, 25, 26, 30, 31, 33, 34, 36, 39, 42, 43, 45, 46, 48, 49, 52, 53, 54, 55, 56, 57, 58, 158, 159]\n",
            "38\n",
            "[130, 131, 132, 133, 135, 136, 137, 138, 139, 140, 141, 142, 143, 144, 145, 146, 147, 148, 149, 150, 151, 152, 153, 154, 155, 156, 157, 158, 159, 160, 161, 162, 163, 164, 165, 166, 167, 168, 169, 171, 172, 173, 174, 175, 176, 177]\n",
            "[0, 1, 2, 3, 4, 5, 6, 7, 8, 9, 10, 11, 12, 13, 14, 15, 16, 17, 18, 19, 20, 21, 22, 23, 24, 25, 26, 27, 28, 29, 30, 31, 32, 33, 34, 35, 36, 37, 38, 39, 40, 41, 42, 43, 44, 45, 46, 47, 48, 49, 50, 51, 52, 53, 54, 55, 56, 57, 58, 63, 65, 66, 69, 71, 73, 74, 78, 79, 81, 84, 85, 93, 94, 95, 97, 98, 99, 100, 109, 110, 120, 121, 124]\n",
            "[59, 60, 61, 62, 64, 67, 68, 70, 72, 75, 76, 77, 80, 82, 83, 86, 87, 88, 89, 90, 91, 92, 96, 101, 102, 103, 104, 105, 106, 107, 108, 111, 112, 113, 114, 115, 116, 117, 118, 119, 122, 123, 125, 126, 127, 128, 129, 134, 170]\n",
            "39\n",
            "[1, 9, 12, 13, 20, 21, 22, 23, 24, 27, 28, 29, 32, 35, 37, 38, 40, 41, 44, 47, 50, 51, 62, 63, 65, 66, 67, 69, 71, 73, 74, 76, 78, 79, 80, 81, 84, 85, 93, 94, 95, 97, 98, 99, 100, 102, 104, 108, 109, 110, 111, 115, 116, 117, 120, 121, 124, 125, 126]\n",
            "[59, 60, 61, 64, 68, 70, 72, 75, 77, 82, 83, 86, 87, 88, 89, 90, 91, 92, 96, 101, 103, 105, 106, 107, 112, 113, 114, 118, 119, 122, 123, 127, 128, 129, 130, 131, 132, 133, 134, 135, 136, 137, 138, 139, 140, 141, 142, 143, 144, 145, 146, 147, 148, 149, 150, 151, 152, 153, 154, 155, 156, 157, 160, 161, 162, 163, 164, 165, 166, 167, 168, 169, 170, 171, 172, 173, 174, 175, 176, 177]\n",
            "[0, 2, 3, 4, 5, 6, 7, 8, 10, 11, 14, 15, 16, 17, 18, 19, 25, 26, 30, 31, 33, 34, 36, 39, 42, 43, 45, 46, 48, 49, 52, 53, 54, 55, 56, 57, 58, 158, 159]\n",
            "40\n",
            "[130, 131, 132, 133, 135, 136, 137, 138, 139, 140, 141, 142, 143, 144, 145, 146, 147, 148, 149, 150, 151, 152, 153, 154, 155, 156, 157, 158, 159, 160, 161, 162, 163, 164, 165, 166, 167, 168, 169, 171, 172, 173, 174, 175, 176, 177]\n",
            "[0, 1, 2, 3, 4, 5, 6, 7, 8, 9, 10, 11, 12, 13, 14, 15, 16, 17, 18, 19, 20, 21, 22, 23, 24, 25, 26, 27, 28, 29, 30, 31, 32, 33, 34, 35, 36, 37, 38, 39, 40, 41, 42, 43, 44, 45, 46, 47, 48, 49, 50, 51, 52, 53, 54, 55, 56, 57, 58, 63, 65, 66, 69, 71, 73, 74, 78, 79, 81, 84, 85, 93, 94, 95, 97, 98, 99, 100, 109, 110, 120, 121, 124]\n",
            "[59, 60, 61, 62, 64, 67, 68, 70, 72, 75, 76, 77, 80, 82, 83, 86, 87, 88, 89, 90, 91, 92, 96, 101, 102, 103, 104, 105, 106, 107, 108, 111, 112, 113, 114, 115, 116, 117, 118, 119, 122, 123, 125, 126, 127, 128, 129, 134, 170]\n",
            "41\n",
            "[1, 9, 12, 13, 20, 21, 22, 23, 24, 27, 28, 29, 32, 35, 37, 38, 40, 41, 44, 47, 50, 51, 62, 63, 65, 66, 67, 69, 71, 73, 74, 76, 78, 79, 80, 81, 84, 85, 93, 94, 95, 97, 98, 99, 100, 102, 104, 108, 109, 110, 111, 115, 116, 117, 120, 121, 124, 125, 126]\n",
            "[59, 60, 61, 64, 68, 70, 72, 75, 77, 82, 83, 86, 87, 88, 89, 90, 91, 92, 96, 101, 103, 105, 106, 107, 112, 113, 114, 118, 119, 122, 123, 127, 128, 129, 130, 131, 132, 133, 134, 135, 136, 137, 138, 139, 140, 141, 142, 143, 144, 145, 146, 147, 148, 149, 150, 151, 152, 153, 154, 155, 156, 157, 160, 161, 162, 163, 164, 165, 166, 167, 168, 169, 170, 171, 172, 173, 174, 175, 176, 177]\n",
            "[0, 2, 3, 4, 5, 6, 7, 8, 10, 11, 14, 15, 16, 17, 18, 19, 25, 26, 30, 31, 33, 34, 36, 39, 42, 43, 45, 46, 48, 49, 52, 53, 54, 55, 56, 57, 58, 158, 159]\n",
            "42\n",
            "[130, 131, 132, 133, 135, 136, 137, 138, 139, 140, 141, 142, 143, 144, 145, 146, 147, 148, 149, 150, 151, 152, 153, 154, 155, 156, 157, 158, 159, 160, 161, 162, 163, 164, 165, 166, 167, 168, 169, 171, 172, 173, 174, 175, 176, 177]\n",
            "[0, 1, 2, 3, 4, 5, 6, 7, 8, 9, 10, 11, 12, 13, 14, 15, 16, 17, 18, 19, 20, 21, 22, 23, 24, 25, 26, 27, 28, 29, 30, 31, 32, 33, 34, 35, 36, 37, 38, 39, 40, 41, 42, 43, 44, 45, 46, 47, 48, 49, 50, 51, 52, 53, 54, 55, 56, 57, 58, 63, 65, 66, 69, 71, 73, 74, 78, 79, 81, 84, 85, 93, 94, 95, 97, 98, 99, 100, 109, 110, 120, 121, 124]\n",
            "[59, 60, 61, 62, 64, 67, 68, 70, 72, 75, 76, 77, 80, 82, 83, 86, 87, 88, 89, 90, 91, 92, 96, 101, 102, 103, 104, 105, 106, 107, 108, 111, 112, 113, 114, 115, 116, 117, 118, 119, 122, 123, 125, 126, 127, 128, 129, 134, 170]\n",
            "43\n",
            "[1, 9, 12, 13, 20, 21, 22, 23, 24, 27, 28, 29, 32, 35, 37, 38, 40, 41, 44, 47, 50, 51, 62, 63, 65, 66, 67, 69, 71, 73, 74, 76, 78, 79, 80, 81, 84, 85, 93, 94, 95, 97, 98, 99, 100, 102, 104, 108, 109, 110, 111, 115, 116, 117, 120, 121, 124, 125, 126]\n",
            "[59, 60, 61, 64, 68, 70, 72, 75, 77, 82, 83, 86, 87, 88, 89, 90, 91, 92, 96, 101, 103, 105, 106, 107, 112, 113, 114, 118, 119, 122, 123, 127, 128, 129, 130, 131, 132, 133, 134, 135, 136, 137, 138, 139, 140, 141, 142, 143, 144, 145, 146, 147, 148, 149, 150, 151, 152, 153, 154, 155, 156, 157, 160, 161, 162, 163, 164, 165, 166, 167, 168, 169, 170, 171, 172, 173, 174, 175, 176, 177]\n",
            "[0, 2, 3, 4, 5, 6, 7, 8, 10, 11, 14, 15, 16, 17, 18, 19, 25, 26, 30, 31, 33, 34, 36, 39, 42, 43, 45, 46, 48, 49, 52, 53, 54, 55, 56, 57, 58, 158, 159]\n",
            "44\n",
            "[130, 131, 132, 133, 135, 136, 137, 138, 139, 140, 141, 142, 143, 144, 145, 146, 147, 148, 149, 150, 151, 152, 153, 154, 155, 156, 157, 158, 159, 160, 161, 162, 163, 164, 165, 166, 167, 168, 169, 171, 172, 173, 174, 175, 176, 177]\n",
            "[0, 1, 2, 3, 4, 5, 6, 7, 8, 9, 10, 11, 12, 13, 14, 15, 16, 17, 18, 19, 20, 21, 22, 23, 24, 25, 26, 27, 28, 29, 30, 31, 32, 33, 34, 35, 36, 37, 38, 39, 40, 41, 42, 43, 44, 45, 46, 47, 48, 49, 50, 51, 52, 53, 54, 55, 56, 57, 58, 63, 65, 66, 69, 71, 73, 74, 78, 79, 81, 84, 85, 93, 94, 95, 97, 98, 99, 100, 109, 110, 120, 121, 124]\n",
            "[59, 60, 61, 62, 64, 67, 68, 70, 72, 75, 76, 77, 80, 82, 83, 86, 87, 88, 89, 90, 91, 92, 96, 101, 102, 103, 104, 105, 106, 107, 108, 111, 112, 113, 114, 115, 116, 117, 118, 119, 122, 123, 125, 126, 127, 128, 129, 134, 170]\n",
            "45\n",
            "[1, 9, 12, 13, 20, 21, 22, 23, 24, 27, 28, 29, 32, 35, 37, 38, 40, 41, 44, 47, 50, 51, 62, 63, 65, 66, 67, 69, 71, 73, 74, 76, 78, 79, 80, 81, 84, 85, 93, 94, 95, 97, 98, 99, 100, 102, 104, 108, 109, 110, 111, 115, 116, 117, 120, 121, 124, 125, 126]\n",
            "[59, 60, 61, 64, 68, 70, 72, 75, 77, 82, 83, 86, 87, 88, 89, 90, 91, 92, 96, 101, 103, 105, 106, 107, 112, 113, 114, 118, 119, 122, 123, 127, 128, 129, 130, 131, 132, 133, 134, 135, 136, 137, 138, 139, 140, 141, 142, 143, 144, 145, 146, 147, 148, 149, 150, 151, 152, 153, 154, 155, 156, 157, 160, 161, 162, 163, 164, 165, 166, 167, 168, 169, 170, 171, 172, 173, 174, 175, 176, 177]\n",
            "[0, 2, 3, 4, 5, 6, 7, 8, 10, 11, 14, 15, 16, 17, 18, 19, 25, 26, 30, 31, 33, 34, 36, 39, 42, 43, 45, 46, 48, 49, 52, 53, 54, 55, 56, 57, 58, 158, 159]\n",
            "46\n",
            "[130, 131, 132, 133, 135, 136, 137, 138, 139, 140, 141, 142, 143, 144, 145, 146, 147, 148, 149, 150, 151, 152, 153, 154, 155, 156, 157, 158, 159, 160, 161, 162, 163, 164, 165, 166, 167, 168, 169, 171, 172, 173, 174, 175, 176, 177]\n",
            "[0, 1, 2, 3, 4, 5, 6, 7, 8, 9, 10, 11, 12, 13, 14, 15, 16, 17, 18, 19, 20, 21, 22, 23, 24, 25, 26, 27, 28, 29, 30, 31, 32, 33, 34, 35, 36, 37, 38, 39, 40, 41, 42, 43, 44, 45, 46, 47, 48, 49, 50, 51, 52, 53, 54, 55, 56, 57, 58, 63, 65, 66, 69, 71, 73, 74, 78, 79, 81, 84, 85, 93, 94, 95, 97, 98, 99, 100, 109, 110, 120, 121, 124]\n",
            "[59, 60, 61, 62, 64, 67, 68, 70, 72, 75, 76, 77, 80, 82, 83, 86, 87, 88, 89, 90, 91, 92, 96, 101, 102, 103, 104, 105, 106, 107, 108, 111, 112, 113, 114, 115, 116, 117, 118, 119, 122, 123, 125, 126, 127, 128, 129, 134, 170]\n",
            "47\n",
            "[1, 9, 12, 13, 20, 21, 22, 23, 24, 27, 28, 29, 32, 35, 37, 38, 40, 41, 44, 47, 50, 51, 62, 63, 65, 66, 67, 69, 71, 73, 74, 76, 78, 79, 80, 81, 84, 85, 93, 94, 95, 97, 98, 99, 100, 102, 104, 108, 109, 110, 111, 115, 116, 117, 120, 121, 124, 125, 126]\n",
            "[59, 60, 61, 64, 68, 70, 72, 75, 77, 82, 83, 86, 87, 88, 89, 90, 91, 92, 96, 101, 103, 105, 106, 107, 112, 113, 114, 118, 119, 122, 123, 127, 128, 129, 130, 131, 132, 133, 134, 135, 136, 137, 138, 139, 140, 141, 142, 143, 144, 145, 146, 147, 148, 149, 150, 151, 152, 153, 154, 155, 156, 157, 160, 161, 162, 163, 164, 165, 166, 167, 168, 169, 170, 171, 172, 173, 174, 175, 176, 177]\n",
            "[0, 2, 3, 4, 5, 6, 7, 8, 10, 11, 14, 15, 16, 17, 18, 19, 25, 26, 30, 31, 33, 34, 36, 39, 42, 43, 45, 46, 48, 49, 52, 53, 54, 55, 56, 57, 58, 158, 159]\n",
            "48\n",
            "[130, 131, 132, 133, 135, 136, 137, 138, 139, 140, 141, 142, 143, 144, 145, 146, 147, 148, 149, 150, 151, 152, 153, 154, 155, 156, 157, 158, 159, 160, 161, 162, 163, 164, 165, 166, 167, 168, 169, 171, 172, 173, 174, 175, 176, 177]\n",
            "[0, 1, 2, 3, 4, 5, 6, 7, 8, 9, 10, 11, 12, 13, 14, 15, 16, 17, 18, 19, 20, 21, 22, 23, 24, 25, 26, 27, 28, 29, 30, 31, 32, 33, 34, 35, 36, 37, 38, 39, 40, 41, 42, 43, 44, 45, 46, 47, 48, 49, 50, 51, 52, 53, 54, 55, 56, 57, 58, 63, 65, 66, 69, 71, 73, 74, 78, 79, 81, 84, 85, 93, 94, 95, 97, 98, 99, 100, 109, 110, 120, 121, 124]\n",
            "[59, 60, 61, 62, 64, 67, 68, 70, 72, 75, 76, 77, 80, 82, 83, 86, 87, 88, 89, 90, 91, 92, 96, 101, 102, 103, 104, 105, 106, 107, 108, 111, 112, 113, 114, 115, 116, 117, 118, 119, 122, 123, 125, 126, 127, 128, 129, 134, 170]\n",
            "49\n",
            "[1, 9, 12, 13, 20, 21, 22, 23, 24, 27, 28, 29, 32, 35, 37, 38, 40, 41, 44, 47, 50, 51, 62, 63, 65, 66, 67, 69, 71, 73, 74, 76, 78, 79, 80, 81, 84, 85, 93, 94, 95, 97, 98, 99, 100, 102, 104, 108, 109, 110, 111, 115, 116, 117, 120, 121, 124, 125, 126]\n",
            "[59, 60, 61, 64, 68, 70, 72, 75, 77, 82, 83, 86, 87, 88, 89, 90, 91, 92, 96, 101, 103, 105, 106, 107, 112, 113, 114, 118, 119, 122, 123, 127, 128, 129, 130, 131, 132, 133, 134, 135, 136, 137, 138, 139, 140, 141, 142, 143, 144, 145, 146, 147, 148, 149, 150, 151, 152, 153, 154, 155, 156, 157, 160, 161, 162, 163, 164, 165, 166, 167, 168, 169, 170, 171, 172, 173, 174, 175, 176, 177]\n",
            "[0, 2, 3, 4, 5, 6, 7, 8, 10, 11, 14, 15, 16, 17, 18, 19, 25, 26, 30, 31, 33, 34, 36, 39, 42, 43, 45, 46, 48, 49, 52, 53, 54, 55, 56, 57, 58, 158, 159]\n",
            "50\n",
            "[130, 131, 132, 133, 135, 136, 137, 138, 139, 140, 141, 142, 143, 144, 145, 146, 147, 148, 149, 150, 151, 152, 153, 154, 155, 156, 157, 158, 159, 160, 161, 162, 163, 164, 165, 166, 167, 168, 169, 171, 172, 173, 174, 175, 176, 177]\n",
            "[0, 1, 2, 3, 4, 5, 6, 7, 8, 9, 10, 11, 12, 13, 14, 15, 16, 17, 18, 19, 20, 21, 22, 23, 24, 25, 26, 27, 28, 29, 30, 31, 32, 33, 34, 35, 36, 37, 38, 39, 40, 41, 42, 43, 44, 45, 46, 47, 48, 49, 50, 51, 52, 53, 54, 55, 56, 57, 58, 63, 65, 66, 69, 71, 73, 74, 78, 79, 81, 84, 85, 93, 94, 95, 97, 98, 99, 100, 109, 110, 120, 121, 124]\n",
            "[59, 60, 61, 62, 64, 67, 68, 70, 72, 75, 76, 77, 80, 82, 83, 86, 87, 88, 89, 90, 91, 92, 96, 101, 102, 103, 104, 105, 106, 107, 108, 111, 112, 113, 114, 115, 116, 117, 118, 119, 122, 123, 125, 126, 127, 128, 129, 134, 170]\n",
            "51\n",
            "[1, 9, 12, 13, 20, 21, 22, 23, 24, 27, 28, 29, 32, 35, 37, 38, 40, 41, 44, 47, 50, 51, 62, 63, 65, 66, 67, 69, 71, 73, 74, 76, 78, 79, 80, 81, 84, 85, 93, 94, 95, 97, 98, 99, 100, 102, 104, 108, 109, 110, 111, 115, 116, 117, 120, 121, 124, 125, 126]\n",
            "[59, 60, 61, 64, 68, 70, 72, 75, 77, 82, 83, 86, 87, 88, 89, 90, 91, 92, 96, 101, 103, 105, 106, 107, 112, 113, 114, 118, 119, 122, 123, 127, 128, 129, 130, 131, 132, 133, 134, 135, 136, 137, 138, 139, 140, 141, 142, 143, 144, 145, 146, 147, 148, 149, 150, 151, 152, 153, 154, 155, 156, 157, 160, 161, 162, 163, 164, 165, 166, 167, 168, 169, 170, 171, 172, 173, 174, 175, 176, 177]\n",
            "[0, 2, 3, 4, 5, 6, 7, 8, 10, 11, 14, 15, 16, 17, 18, 19, 25, 26, 30, 31, 33, 34, 36, 39, 42, 43, 45, 46, 48, 49, 52, 53, 54, 55, 56, 57, 58, 158, 159]\n",
            "52\n",
            "[130, 131, 132, 133, 135, 136, 137, 138, 139, 140, 141, 142, 143, 144, 145, 146, 147, 148, 149, 150, 151, 152, 153, 154, 155, 156, 157, 158, 159, 160, 161, 162, 163, 164, 165, 166, 167, 168, 169, 171, 172, 173, 174, 175, 176, 177]\n",
            "[0, 1, 2, 3, 4, 5, 6, 7, 8, 9, 10, 11, 12, 13, 14, 15, 16, 17, 18, 19, 20, 21, 22, 23, 24, 25, 26, 27, 28, 29, 30, 31, 32, 33, 34, 35, 36, 37, 38, 39, 40, 41, 42, 43, 44, 45, 46, 47, 48, 49, 50, 51, 52, 53, 54, 55, 56, 57, 58, 63, 65, 66, 69, 71, 73, 74, 78, 79, 81, 84, 85, 93, 94, 95, 97, 98, 99, 100, 109, 110, 120, 121, 124]\n",
            "[59, 60, 61, 62, 64, 67, 68, 70, 72, 75, 76, 77, 80, 82, 83, 86, 87, 88, 89, 90, 91, 92, 96, 101, 102, 103, 104, 105, 106, 107, 108, 111, 112, 113, 114, 115, 116, 117, 118, 119, 122, 123, 125, 126, 127, 128, 129, 134, 170]\n",
            "53\n",
            "[1, 9, 12, 13, 20, 21, 22, 23, 24, 27, 28, 29, 32, 35, 37, 38, 40, 41, 44, 47, 50, 51, 62, 63, 65, 66, 67, 69, 71, 73, 74, 76, 78, 79, 80, 81, 84, 85, 93, 94, 95, 97, 98, 99, 100, 102, 104, 108, 109, 110, 111, 115, 116, 117, 120, 121, 124, 125, 126]\n",
            "[59, 60, 61, 64, 68, 70, 72, 75, 77, 82, 83, 86, 87, 88, 89, 90, 91, 92, 96, 101, 103, 105, 106, 107, 112, 113, 114, 118, 119, 122, 123, 127, 128, 129, 130, 131, 132, 133, 134, 135, 136, 137, 138, 139, 140, 141, 142, 143, 144, 145, 146, 147, 148, 149, 150, 151, 152, 153, 154, 155, 156, 157, 160, 161, 162, 163, 164, 165, 166, 167, 168, 169, 170, 171, 172, 173, 174, 175, 176, 177]\n",
            "[0, 2, 3, 4, 5, 6, 7, 8, 10, 11, 14, 15, 16, 17, 18, 19, 25, 26, 30, 31, 33, 34, 36, 39, 42, 43, 45, 46, 48, 49, 52, 53, 54, 55, 56, 57, 58, 158, 159]\n",
            "54\n",
            "[130, 131, 132, 133, 135, 136, 137, 138, 139, 140, 141, 142, 143, 144, 145, 146, 147, 148, 149, 150, 151, 152, 153, 154, 155, 156, 157, 158, 159, 160, 161, 162, 163, 164, 165, 166, 167, 168, 169, 171, 172, 173, 174, 175, 176, 177]\n",
            "[0, 1, 2, 3, 4, 5, 6, 7, 8, 9, 10, 11, 12, 13, 14, 15, 16, 17, 18, 19, 20, 21, 22, 23, 24, 25, 26, 27, 28, 29, 30, 31, 32, 33, 34, 35, 36, 37, 38, 39, 40, 41, 42, 43, 44, 45, 46, 47, 48, 49, 50, 51, 52, 53, 54, 55, 56, 57, 58, 63, 65, 66, 69, 71, 73, 74, 78, 79, 81, 84, 85, 93, 94, 95, 97, 98, 99, 100, 109, 110, 120, 121, 124]\n",
            "[59, 60, 61, 62, 64, 67, 68, 70, 72, 75, 76, 77, 80, 82, 83, 86, 87, 88, 89, 90, 91, 92, 96, 101, 102, 103, 104, 105, 106, 107, 108, 111, 112, 113, 114, 115, 116, 117, 118, 119, 122, 123, 125, 126, 127, 128, 129, 134, 170]\n",
            "55\n",
            "[1, 9, 12, 13, 20, 21, 22, 23, 24, 27, 28, 29, 32, 35, 37, 38, 40, 41, 44, 47, 50, 51, 62, 63, 65, 66, 67, 69, 71, 73, 74, 76, 78, 79, 80, 81, 84, 85, 93, 94, 95, 97, 98, 99, 100, 102, 104, 108, 109, 110, 111, 115, 116, 117, 120, 121, 124, 125, 126]\n",
            "[59, 60, 61, 64, 68, 70, 72, 75, 77, 82, 83, 86, 87, 88, 89, 90, 91, 92, 96, 101, 103, 105, 106, 107, 112, 113, 114, 118, 119, 122, 123, 127, 128, 129, 130, 131, 132, 133, 134, 135, 136, 137, 138, 139, 140, 141, 142, 143, 144, 145, 146, 147, 148, 149, 150, 151, 152, 153, 154, 155, 156, 157, 160, 161, 162, 163, 164, 165, 166, 167, 168, 169, 170, 171, 172, 173, 174, 175, 176, 177]\n",
            "[0, 2, 3, 4, 5, 6, 7, 8, 10, 11, 14, 15, 16, 17, 18, 19, 25, 26, 30, 31, 33, 34, 36, 39, 42, 43, 45, 46, 48, 49, 52, 53, 54, 55, 56, 57, 58, 158, 159]\n",
            "56\n",
            "[130, 131, 132, 133, 135, 136, 137, 138, 139, 140, 141, 142, 143, 144, 145, 146, 147, 148, 149, 150, 151, 152, 153, 154, 155, 156, 157, 158, 159, 160, 161, 162, 163, 164, 165, 166, 167, 168, 169, 171, 172, 173, 174, 175, 176, 177]\n",
            "[0, 1, 2, 3, 4, 5, 6, 7, 8, 9, 10, 11, 12, 13, 14, 15, 16, 17, 18, 19, 20, 21, 22, 23, 24, 25, 26, 27, 28, 29, 30, 31, 32, 33, 34, 35, 36, 37, 38, 39, 40, 41, 42, 43, 44, 45, 46, 47, 48, 49, 50, 51, 52, 53, 54, 55, 56, 57, 58, 63, 65, 66, 69, 71, 73, 74, 78, 79, 81, 84, 85, 93, 94, 95, 97, 98, 99, 100, 109, 110, 120, 121, 124]\n",
            "[59, 60, 61, 62, 64, 67, 68, 70, 72, 75, 76, 77, 80, 82, 83, 86, 87, 88, 89, 90, 91, 92, 96, 101, 102, 103, 104, 105, 106, 107, 108, 111, 112, 113, 114, 115, 116, 117, 118, 119, 122, 123, 125, 126, 127, 128, 129, 134, 170]\n",
            "57\n",
            "[1, 9, 12, 13, 20, 21, 22, 23, 24, 27, 28, 29, 32, 35, 37, 38, 40, 41, 44, 47, 50, 51, 62, 63, 65, 66, 67, 69, 71, 73, 74, 76, 78, 79, 80, 81, 84, 85, 93, 94, 95, 97, 98, 99, 100, 102, 104, 108, 109, 110, 111, 115, 116, 117, 120, 121, 124, 125, 126]\n",
            "[59, 60, 61, 64, 68, 70, 72, 75, 77, 82, 83, 86, 87, 88, 89, 90, 91, 92, 96, 101, 103, 105, 106, 107, 112, 113, 114, 118, 119, 122, 123, 127, 128, 129, 130, 131, 132, 133, 134, 135, 136, 137, 138, 139, 140, 141, 142, 143, 144, 145, 146, 147, 148, 149, 150, 151, 152, 153, 154, 155, 156, 157, 160, 161, 162, 163, 164, 165, 166, 167, 168, 169, 170, 171, 172, 173, 174, 175, 176, 177]\n",
            "[0, 2, 3, 4, 5, 6, 7, 8, 10, 11, 14, 15, 16, 17, 18, 19, 25, 26, 30, 31, 33, 34, 36, 39, 42, 43, 45, 46, 48, 49, 52, 53, 54, 55, 56, 57, 58, 158, 159]\n",
            "58\n",
            "[130, 131, 132, 133, 135, 136, 137, 138, 139, 140, 141, 142, 143, 144, 145, 146, 147, 148, 149, 150, 151, 152, 153, 154, 155, 156, 157, 158, 159, 160, 161, 162, 163, 164, 165, 166, 167, 168, 169, 171, 172, 173, 174, 175, 176, 177]\n",
            "[0, 1, 2, 3, 4, 5, 6, 7, 8, 9, 10, 11, 12, 13, 14, 15, 16, 17, 18, 19, 20, 21, 22, 23, 24, 25, 26, 27, 28, 29, 30, 31, 32, 33, 34, 35, 36, 37, 38, 39, 40, 41, 42, 43, 44, 45, 46, 47, 48, 49, 50, 51, 52, 53, 54, 55, 56, 57, 58, 63, 65, 66, 69, 71, 73, 74, 78, 79, 81, 84, 85, 93, 94, 95, 97, 98, 99, 100, 109, 110, 120, 121, 124]\n",
            "[59, 60, 61, 62, 64, 67, 68, 70, 72, 75, 76, 77, 80, 82, 83, 86, 87, 88, 89, 90, 91, 92, 96, 101, 102, 103, 104, 105, 106, 107, 108, 111, 112, 113, 114, 115, 116, 117, 118, 119, 122, 123, 125, 126, 127, 128, 129, 134, 170]\n",
            "59\n",
            "[1, 9, 12, 13, 20, 21, 22, 23, 24, 27, 28, 29, 32, 35, 37, 38, 40, 41, 44, 47, 50, 51, 62, 63, 65, 66, 67, 69, 71, 73, 74, 76, 78, 79, 80, 81, 84, 85, 93, 94, 95, 97, 98, 99, 100, 102, 104, 108, 109, 110, 111, 115, 116, 117, 120, 121, 124, 125, 126]\n",
            "[59, 60, 61, 64, 68, 70, 72, 75, 77, 82, 83, 86, 87, 88, 89, 90, 91, 92, 96, 101, 103, 105, 106, 107, 112, 113, 114, 118, 119, 122, 123, 127, 128, 129, 130, 131, 132, 133, 134, 135, 136, 137, 138, 139, 140, 141, 142, 143, 144, 145, 146, 147, 148, 149, 150, 151, 152, 153, 154, 155, 156, 157, 160, 161, 162, 163, 164, 165, 166, 167, 168, 169, 170, 171, 172, 173, 174, 175, 176, 177]\n",
            "[0, 2, 3, 4, 5, 6, 7, 8, 10, 11, 14, 15, 16, 17, 18, 19, 25, 26, 30, 31, 33, 34, 36, 39, 42, 43, 45, 46, 48, 49, 52, 53, 54, 55, 56, 57, 58, 158, 159]\n",
            "60\n",
            "[130, 131, 132, 133, 135, 136, 137, 138, 139, 140, 141, 142, 143, 144, 145, 146, 147, 148, 149, 150, 151, 152, 153, 154, 155, 156, 157, 158, 159, 160, 161, 162, 163, 164, 165, 166, 167, 168, 169, 171, 172, 173, 174, 175, 176, 177]\n",
            "[0, 1, 2, 3, 4, 5, 6, 7, 8, 9, 10, 11, 12, 13, 14, 15, 16, 17, 18, 19, 20, 21, 22, 23, 24, 25, 26, 27, 28, 29, 30, 31, 32, 33, 34, 35, 36, 37, 38, 39, 40, 41, 42, 43, 44, 45, 46, 47, 48, 49, 50, 51, 52, 53, 54, 55, 56, 57, 58, 63, 65, 66, 69, 71, 73, 74, 78, 79, 81, 84, 85, 93, 94, 95, 97, 98, 99, 100, 109, 110, 120, 121, 124]\n",
            "[59, 60, 61, 62, 64, 67, 68, 70, 72, 75, 76, 77, 80, 82, 83, 86, 87, 88, 89, 90, 91, 92, 96, 101, 102, 103, 104, 105, 106, 107, 108, 111, 112, 113, 114, 115, 116, 117, 118, 119, 122, 123, 125, 126, 127, 128, 129, 134, 170]\n",
            "61\n",
            "[1, 9, 12, 13, 20, 21, 22, 23, 24, 27, 28, 29, 32, 35, 37, 38, 40, 41, 44, 47, 50, 51, 62, 63, 65, 66, 67, 69, 71, 73, 74, 76, 78, 79, 80, 81, 84, 85, 93, 94, 95, 97, 98, 99, 100, 102, 104, 108, 109, 110, 111, 115, 116, 117, 120, 121, 124, 125, 126]\n",
            "[59, 60, 61, 64, 68, 70, 72, 75, 77, 82, 83, 86, 87, 88, 89, 90, 91, 92, 96, 101, 103, 105, 106, 107, 112, 113, 114, 118, 119, 122, 123, 127, 128, 129, 130, 131, 132, 133, 134, 135, 136, 137, 138, 139, 140, 141, 142, 143, 144, 145, 146, 147, 148, 149, 150, 151, 152, 153, 154, 155, 156, 157, 160, 161, 162, 163, 164, 165, 166, 167, 168, 169, 170, 171, 172, 173, 174, 175, 176, 177]\n",
            "[0, 2, 3, 4, 5, 6, 7, 8, 10, 11, 14, 15, 16, 17, 18, 19, 25, 26, 30, 31, 33, 34, 36, 39, 42, 43, 45, 46, 48, 49, 52, 53, 54, 55, 56, 57, 58, 158, 159]\n",
            "62\n",
            "[130, 131, 132, 133, 135, 136, 137, 138, 139, 140, 141, 142, 143, 144, 145, 146, 147, 148, 149, 150, 151, 152, 153, 154, 155, 156, 157, 158, 159, 160, 161, 162, 163, 164, 165, 166, 167, 168, 169, 171, 172, 173, 174, 175, 176, 177]\n",
            "[0, 1, 2, 3, 4, 5, 6, 7, 8, 9, 10, 11, 12, 13, 14, 15, 16, 17, 18, 19, 20, 21, 22, 23, 24, 25, 26, 27, 28, 29, 30, 31, 32, 33, 34, 35, 36, 37, 38, 39, 40, 41, 42, 43, 44, 45, 46, 47, 48, 49, 50, 51, 52, 53, 54, 55, 56, 57, 58, 63, 65, 66, 69, 71, 73, 74, 78, 79, 81, 84, 85, 93, 94, 95, 97, 98, 99, 100, 109, 110, 120, 121, 124]\n",
            "[59, 60, 61, 62, 64, 67, 68, 70, 72, 75, 76, 77, 80, 82, 83, 86, 87, 88, 89, 90, 91, 92, 96, 101, 102, 103, 104, 105, 106, 107, 108, 111, 112, 113, 114, 115, 116, 117, 118, 119, 122, 123, 125, 126, 127, 128, 129, 134, 170]\n",
            "63\n",
            "[1, 9, 12, 13, 20, 21, 22, 23, 24, 27, 28, 29, 32, 35, 37, 38, 40, 41, 44, 47, 50, 51, 62, 63, 65, 66, 67, 69, 71, 73, 74, 76, 78, 79, 80, 81, 84, 85, 93, 94, 95, 97, 98, 99, 100, 102, 104, 108, 109, 110, 111, 115, 116, 117, 120, 121, 124, 125, 126]\n",
            "[59, 60, 61, 64, 68, 70, 72, 75, 77, 82, 83, 86, 87, 88, 89, 90, 91, 92, 96, 101, 103, 105, 106, 107, 112, 113, 114, 118, 119, 122, 123, 127, 128, 129, 130, 131, 132, 133, 134, 135, 136, 137, 138, 139, 140, 141, 142, 143, 144, 145, 146, 147, 148, 149, 150, 151, 152, 153, 154, 155, 156, 157, 160, 161, 162, 163, 164, 165, 166, 167, 168, 169, 170, 171, 172, 173, 174, 175, 176, 177]\n",
            "[0, 2, 3, 4, 5, 6, 7, 8, 10, 11, 14, 15, 16, 17, 18, 19, 25, 26, 30, 31, 33, 34, 36, 39, 42, 43, 45, 46, 48, 49, 52, 53, 54, 55, 56, 57, 58, 158, 159]\n",
            "64\n",
            "[130, 131, 132, 133, 135, 136, 137, 138, 139, 140, 141, 142, 143, 144, 145, 146, 147, 148, 149, 150, 151, 152, 153, 154, 155, 156, 157, 158, 159, 160, 161, 162, 163, 164, 165, 166, 167, 168, 169, 171, 172, 173, 174, 175, 176, 177]\n",
            "[0, 1, 2, 3, 4, 5, 6, 7, 8, 9, 10, 11, 12, 13, 14, 15, 16, 17, 18, 19, 20, 21, 22, 23, 24, 25, 26, 27, 28, 29, 30, 31, 32, 33, 34, 35, 36, 37, 38, 39, 40, 41, 42, 43, 44, 45, 46, 47, 48, 49, 50, 51, 52, 53, 54, 55, 56, 57, 58, 63, 65, 66, 69, 71, 73, 74, 78, 79, 81, 84, 85, 93, 94, 95, 97, 98, 99, 100, 109, 110, 120, 121, 124]\n",
            "[59, 60, 61, 62, 64, 67, 68, 70, 72, 75, 76, 77, 80, 82, 83, 86, 87, 88, 89, 90, 91, 92, 96, 101, 102, 103, 104, 105, 106, 107, 108, 111, 112, 113, 114, 115, 116, 117, 118, 119, 122, 123, 125, 126, 127, 128, 129, 134, 170]\n",
            "65\n",
            "[1, 9, 12, 13, 20, 21, 22, 23, 24, 27, 28, 29, 32, 35, 37, 38, 40, 41, 44, 47, 50, 51, 62, 63, 65, 66, 67, 69, 71, 73, 74, 76, 78, 79, 80, 81, 84, 85, 93, 94, 95, 97, 98, 99, 100, 102, 104, 108, 109, 110, 111, 115, 116, 117, 120, 121, 124, 125, 126]\n",
            "[59, 60, 61, 64, 68, 70, 72, 75, 77, 82, 83, 86, 87, 88, 89, 90, 91, 92, 96, 101, 103, 105, 106, 107, 112, 113, 114, 118, 119, 122, 123, 127, 128, 129, 130, 131, 132, 133, 134, 135, 136, 137, 138, 139, 140, 141, 142, 143, 144, 145, 146, 147, 148, 149, 150, 151, 152, 153, 154, 155, 156, 157, 160, 161, 162, 163, 164, 165, 166, 167, 168, 169, 170, 171, 172, 173, 174, 175, 176, 177]\n",
            "[0, 2, 3, 4, 5, 6, 7, 8, 10, 11, 14, 15, 16, 17, 18, 19, 25, 26, 30, 31, 33, 34, 36, 39, 42, 43, 45, 46, 48, 49, 52, 53, 54, 55, 56, 57, 58, 158, 159]\n",
            "66\n",
            "[130, 131, 132, 133, 135, 136, 137, 138, 139, 140, 141, 142, 143, 144, 145, 146, 147, 148, 149, 150, 151, 152, 153, 154, 155, 156, 157, 158, 159, 160, 161, 162, 163, 164, 165, 166, 167, 168, 169, 171, 172, 173, 174, 175, 176, 177]\n",
            "[0, 1, 2, 3, 4, 5, 6, 7, 8, 9, 10, 11, 12, 13, 14, 15, 16, 17, 18, 19, 20, 21, 22, 23, 24, 25, 26, 27, 28, 29, 30, 31, 32, 33, 34, 35, 36, 37, 38, 39, 40, 41, 42, 43, 44, 45, 46, 47, 48, 49, 50, 51, 52, 53, 54, 55, 56, 57, 58, 63, 65, 66, 69, 71, 73, 74, 78, 79, 81, 84, 85, 93, 94, 95, 97, 98, 99, 100, 109, 110, 120, 121, 124]\n",
            "[59, 60, 61, 62, 64, 67, 68, 70, 72, 75, 76, 77, 80, 82, 83, 86, 87, 88, 89, 90, 91, 92, 96, 101, 102, 103, 104, 105, 106, 107, 108, 111, 112, 113, 114, 115, 116, 117, 118, 119, 122, 123, 125, 126, 127, 128, 129, 134, 170]\n",
            "67\n",
            "[1, 9, 12, 13, 20, 21, 22, 23, 24, 27, 28, 29, 32, 35, 37, 38, 40, 41, 44, 47, 50, 51, 62, 63, 65, 66, 67, 69, 71, 73, 74, 76, 78, 79, 80, 81, 84, 85, 93, 94, 95, 97, 98, 99, 100, 102, 104, 108, 109, 110, 111, 115, 116, 117, 120, 121, 124, 125, 126]\n",
            "[59, 60, 61, 64, 68, 70, 72, 75, 77, 82, 83, 86, 87, 88, 89, 90, 91, 92, 96, 101, 103, 105, 106, 107, 112, 113, 114, 118, 119, 122, 123, 127, 128, 129, 130, 131, 132, 133, 134, 135, 136, 137, 138, 139, 140, 141, 142, 143, 144, 145, 146, 147, 148, 149, 150, 151, 152, 153, 154, 155, 156, 157, 160, 161, 162, 163, 164, 165, 166, 167, 168, 169, 170, 171, 172, 173, 174, 175, 176, 177]\n",
            "[0, 2, 3, 4, 5, 6, 7, 8, 10, 11, 14, 15, 16, 17, 18, 19, 25, 26, 30, 31, 33, 34, 36, 39, 42, 43, 45, 46, 48, 49, 52, 53, 54, 55, 56, 57, 58, 158, 159]\n",
            "68\n",
            "[130, 131, 132, 133, 135, 136, 137, 138, 139, 140, 141, 142, 143, 144, 145, 146, 147, 148, 149, 150, 151, 152, 153, 154, 155, 156, 157, 158, 159, 160, 161, 162, 163, 164, 165, 166, 167, 168, 169, 171, 172, 173, 174, 175, 176, 177]\n",
            "[0, 1, 2, 3, 4, 5, 6, 7, 8, 9, 10, 11, 12, 13, 14, 15, 16, 17, 18, 19, 20, 21, 22, 23, 24, 25, 26, 27, 28, 29, 30, 31, 32, 33, 34, 35, 36, 37, 38, 39, 40, 41, 42, 43, 44, 45, 46, 47, 48, 49, 50, 51, 52, 53, 54, 55, 56, 57, 58, 63, 65, 66, 69, 71, 73, 74, 78, 79, 81, 84, 85, 93, 94, 95, 97, 98, 99, 100, 109, 110, 120, 121, 124]\n",
            "[59, 60, 61, 62, 64, 67, 68, 70, 72, 75, 76, 77, 80, 82, 83, 86, 87, 88, 89, 90, 91, 92, 96, 101, 102, 103, 104, 105, 106, 107, 108, 111, 112, 113, 114, 115, 116, 117, 118, 119, 122, 123, 125, 126, 127, 128, 129, 134, 170]\n",
            "69\n",
            "[1, 9, 12, 13, 20, 21, 22, 23, 24, 27, 28, 29, 32, 35, 37, 38, 40, 41, 44, 47, 50, 51, 62, 63, 65, 66, 67, 69, 71, 73, 74, 76, 78, 79, 80, 81, 84, 85, 93, 94, 95, 97, 98, 99, 100, 102, 104, 108, 109, 110, 111, 115, 116, 117, 120, 121, 124, 125, 126]\n",
            "[59, 60, 61, 64, 68, 70, 72, 75, 77, 82, 83, 86, 87, 88, 89, 90, 91, 92, 96, 101, 103, 105, 106, 107, 112, 113, 114, 118, 119, 122, 123, 127, 128, 129, 130, 131, 132, 133, 134, 135, 136, 137, 138, 139, 140, 141, 142, 143, 144, 145, 146, 147, 148, 149, 150, 151, 152, 153, 154, 155, 156, 157, 160, 161, 162, 163, 164, 165, 166, 167, 168, 169, 170, 171, 172, 173, 174, 175, 176, 177]\n",
            "[0, 2, 3, 4, 5, 6, 7, 8, 10, 11, 14, 15, 16, 17, 18, 19, 25, 26, 30, 31, 33, 34, 36, 39, 42, 43, 45, 46, 48, 49, 52, 53, 54, 55, 56, 57, 58, 158, 159]\n",
            "70\n",
            "[130, 131, 132, 133, 135, 136, 137, 138, 139, 140, 141, 142, 143, 144, 145, 146, 147, 148, 149, 150, 151, 152, 153, 154, 155, 156, 157, 158, 159, 160, 161, 162, 163, 164, 165, 166, 167, 168, 169, 171, 172, 173, 174, 175, 176, 177]\n",
            "[0, 1, 2, 3, 4, 5, 6, 7, 8, 9, 10, 11, 12, 13, 14, 15, 16, 17, 18, 19, 20, 21, 22, 23, 24, 25, 26, 27, 28, 29, 30, 31, 32, 33, 34, 35, 36, 37, 38, 39, 40, 41, 42, 43, 44, 45, 46, 47, 48, 49, 50, 51, 52, 53, 54, 55, 56, 57, 58, 63, 65, 66, 69, 71, 73, 74, 78, 79, 81, 84, 85, 93, 94, 95, 97, 98, 99, 100, 109, 110, 120, 121, 124]\n",
            "[59, 60, 61, 62, 64, 67, 68, 70, 72, 75, 76, 77, 80, 82, 83, 86, 87, 88, 89, 90, 91, 92, 96, 101, 102, 103, 104, 105, 106, 107, 108, 111, 112, 113, 114, 115, 116, 117, 118, 119, 122, 123, 125, 126, 127, 128, 129, 134, 170]\n",
            "71\n",
            "[1, 9, 12, 13, 20, 21, 22, 23, 24, 27, 28, 29, 32, 35, 37, 38, 40, 41, 44, 47, 50, 51, 62, 63, 65, 66, 67, 69, 71, 73, 74, 76, 78, 79, 80, 81, 84, 85, 93, 94, 95, 97, 98, 99, 100, 102, 104, 108, 109, 110, 111, 115, 116, 117, 120, 121, 124, 125, 126]\n",
            "[59, 60, 61, 64, 68, 70, 72, 75, 77, 82, 83, 86, 87, 88, 89, 90, 91, 92, 96, 101, 103, 105, 106, 107, 112, 113, 114, 118, 119, 122, 123, 127, 128, 129, 130, 131, 132, 133, 134, 135, 136, 137, 138, 139, 140, 141, 142, 143, 144, 145, 146, 147, 148, 149, 150, 151, 152, 153, 154, 155, 156, 157, 160, 161, 162, 163, 164, 165, 166, 167, 168, 169, 170, 171, 172, 173, 174, 175, 176, 177]\n",
            "[0, 2, 3, 4, 5, 6, 7, 8, 10, 11, 14, 15, 16, 17, 18, 19, 25, 26, 30, 31, 33, 34, 36, 39, 42, 43, 45, 46, 48, 49, 52, 53, 54, 55, 56, 57, 58, 158, 159]\n",
            "72\n",
            "[130, 131, 132, 133, 135, 136, 137, 138, 139, 140, 141, 142, 143, 144, 145, 146, 147, 148, 149, 150, 151, 152, 153, 154, 155, 156, 157, 158, 159, 160, 161, 162, 163, 164, 165, 166, 167, 168, 169, 171, 172, 173, 174, 175, 176, 177]\n",
            "[0, 1, 2, 3, 4, 5, 6, 7, 8, 9, 10, 11, 12, 13, 14, 15, 16, 17, 18, 19, 20, 21, 22, 23, 24, 25, 26, 27, 28, 29, 30, 31, 32, 33, 34, 35, 36, 37, 38, 39, 40, 41, 42, 43, 44, 45, 46, 47, 48, 49, 50, 51, 52, 53, 54, 55, 56, 57, 58, 63, 65, 66, 69, 71, 73, 74, 78, 79, 81, 84, 85, 93, 94, 95, 97, 98, 99, 100, 109, 110, 120, 121, 124]\n",
            "[59, 60, 61, 62, 64, 67, 68, 70, 72, 75, 76, 77, 80, 82, 83, 86, 87, 88, 89, 90, 91, 92, 96, 101, 102, 103, 104, 105, 106, 107, 108, 111, 112, 113, 114, 115, 116, 117, 118, 119, 122, 123, 125, 126, 127, 128, 129, 134, 170]\n",
            "73\n",
            "[1, 9, 12, 13, 20, 21, 22, 23, 24, 27, 28, 29, 32, 35, 37, 38, 40, 41, 44, 47, 50, 51, 62, 63, 65, 66, 67, 69, 71, 73, 74, 76, 78, 79, 80, 81, 84, 85, 93, 94, 95, 97, 98, 99, 100, 102, 104, 108, 109, 110, 111, 115, 116, 117, 120, 121, 124, 125, 126]\n",
            "[59, 60, 61, 64, 68, 70, 72, 75, 77, 82, 83, 86, 87, 88, 89, 90, 91, 92, 96, 101, 103, 105, 106, 107, 112, 113, 114, 118, 119, 122, 123, 127, 128, 129, 130, 131, 132, 133, 134, 135, 136, 137, 138, 139, 140, 141, 142, 143, 144, 145, 146, 147, 148, 149, 150, 151, 152, 153, 154, 155, 156, 157, 160, 161, 162, 163, 164, 165, 166, 167, 168, 169, 170, 171, 172, 173, 174, 175, 176, 177]\n",
            "[0, 2, 3, 4, 5, 6, 7, 8, 10, 11, 14, 15, 16, 17, 18, 19, 25, 26, 30, 31, 33, 34, 36, 39, 42, 43, 45, 46, 48, 49, 52, 53, 54, 55, 56, 57, 58, 158, 159]\n",
            "74\n",
            "[130, 131, 132, 133, 135, 136, 137, 138, 139, 140, 141, 142, 143, 144, 145, 146, 147, 148, 149, 150, 151, 152, 153, 154, 155, 156, 157, 158, 159, 160, 161, 162, 163, 164, 165, 166, 167, 168, 169, 171, 172, 173, 174, 175, 176, 177]\n",
            "[0, 1, 2, 3, 4, 5, 6, 7, 8, 9, 10, 11, 12, 13, 14, 15, 16, 17, 18, 19, 20, 21, 22, 23, 24, 25, 26, 27, 28, 29, 30, 31, 32, 33, 34, 35, 36, 37, 38, 39, 40, 41, 42, 43, 44, 45, 46, 47, 48, 49, 50, 51, 52, 53, 54, 55, 56, 57, 58, 63, 65, 66, 69, 71, 73, 74, 78, 79, 81, 84, 85, 93, 94, 95, 97, 98, 99, 100, 109, 110, 120, 121, 124]\n",
            "[59, 60, 61, 62, 64, 67, 68, 70, 72, 75, 76, 77, 80, 82, 83, 86, 87, 88, 89, 90, 91, 92, 96, 101, 102, 103, 104, 105, 106, 107, 108, 111, 112, 113, 114, 115, 116, 117, 118, 119, 122, 123, 125, 126, 127, 128, 129, 134, 170]\n",
            "75\n",
            "[1, 9, 12, 13, 20, 21, 22, 23, 24, 27, 28, 29, 32, 35, 37, 38, 40, 41, 44, 47, 50, 51, 62, 63, 65, 66, 67, 69, 71, 73, 74, 76, 78, 79, 80, 81, 84, 85, 93, 94, 95, 97, 98, 99, 100, 102, 104, 108, 109, 110, 111, 115, 116, 117, 120, 121, 124, 125, 126]\n",
            "[59, 60, 61, 64, 68, 70, 72, 75, 77, 82, 83, 86, 87, 88, 89, 90, 91, 92, 96, 101, 103, 105, 106, 107, 112, 113, 114, 118, 119, 122, 123, 127, 128, 129, 130, 131, 132, 133, 134, 135, 136, 137, 138, 139, 140, 141, 142, 143, 144, 145, 146, 147, 148, 149, 150, 151, 152, 153, 154, 155, 156, 157, 160, 161, 162, 163, 164, 165, 166, 167, 168, 169, 170, 171, 172, 173, 174, 175, 176, 177]\n",
            "[0, 2, 3, 4, 5, 6, 7, 8, 10, 11, 14, 15, 16, 17, 18, 19, 25, 26, 30, 31, 33, 34, 36, 39, 42, 43, 45, 46, 48, 49, 52, 53, 54, 55, 56, 57, 58, 158, 159]\n",
            "76\n",
            "[130, 131, 132, 133, 135, 136, 137, 138, 139, 140, 141, 142, 143, 144, 145, 146, 147, 148, 149, 150, 151, 152, 153, 154, 155, 156, 157, 158, 159, 160, 161, 162, 163, 164, 165, 166, 167, 168, 169, 171, 172, 173, 174, 175, 176, 177]\n",
            "[0, 1, 2, 3, 4, 5, 6, 7, 8, 9, 10, 11, 12, 13, 14, 15, 16, 17, 18, 19, 20, 21, 22, 23, 24, 25, 26, 27, 28, 29, 30, 31, 32, 33, 34, 35, 36, 37, 38, 39, 40, 41, 42, 43, 44, 45, 46, 47, 48, 49, 50, 51, 52, 53, 54, 55, 56, 57, 58, 63, 65, 66, 69, 71, 73, 74, 78, 79, 81, 84, 85, 93, 94, 95, 97, 98, 99, 100, 109, 110, 120, 121, 124]\n",
            "[59, 60, 61, 62, 64, 67, 68, 70, 72, 75, 76, 77, 80, 82, 83, 86, 87, 88, 89, 90, 91, 92, 96, 101, 102, 103, 104, 105, 106, 107, 108, 111, 112, 113, 114, 115, 116, 117, 118, 119, 122, 123, 125, 126, 127, 128, 129, 134, 170]\n",
            "77\n",
            "[1, 9, 12, 13, 20, 21, 22, 23, 24, 27, 28, 29, 32, 35, 37, 38, 40, 41, 44, 47, 50, 51, 62, 63, 65, 66, 67, 69, 71, 73, 74, 76, 78, 79, 80, 81, 84, 85, 93, 94, 95, 97, 98, 99, 100, 102, 104, 108, 109, 110, 111, 115, 116, 117, 120, 121, 124, 125, 126]\n",
            "[59, 60, 61, 64, 68, 70, 72, 75, 77, 82, 83, 86, 87, 88, 89, 90, 91, 92, 96, 101, 103, 105, 106, 107, 112, 113, 114, 118, 119, 122, 123, 127, 128, 129, 130, 131, 132, 133, 134, 135, 136, 137, 138, 139, 140, 141, 142, 143, 144, 145, 146, 147, 148, 149, 150, 151, 152, 153, 154, 155, 156, 157, 160, 161, 162, 163, 164, 165, 166, 167, 168, 169, 170, 171, 172, 173, 174, 175, 176, 177]\n",
            "[0, 2, 3, 4, 5, 6, 7, 8, 10, 11, 14, 15, 16, 17, 18, 19, 25, 26, 30, 31, 33, 34, 36, 39, 42, 43, 45, 46, 48, 49, 52, 53, 54, 55, 56, 57, 58, 158, 159]\n",
            "78\n",
            "[130, 131, 132, 133, 135, 136, 137, 138, 139, 140, 141, 142, 143, 144, 145, 146, 147, 148, 149, 150, 151, 152, 153, 154, 155, 156, 157, 158, 159, 160, 161, 162, 163, 164, 165, 166, 167, 168, 169, 171, 172, 173, 174, 175, 176, 177]\n",
            "[0, 1, 2, 3, 4, 5, 6, 7, 8, 9, 10, 11, 12, 13, 14, 15, 16, 17, 18, 19, 20, 21, 22, 23, 24, 25, 26, 27, 28, 29, 30, 31, 32, 33, 34, 35, 36, 37, 38, 39, 40, 41, 42, 43, 44, 45, 46, 47, 48, 49, 50, 51, 52, 53, 54, 55, 56, 57, 58, 63, 65, 66, 69, 71, 73, 74, 78, 79, 81, 84, 85, 93, 94, 95, 97, 98, 99, 100, 109, 110, 120, 121, 124]\n",
            "[59, 60, 61, 62, 64, 67, 68, 70, 72, 75, 76, 77, 80, 82, 83, 86, 87, 88, 89, 90, 91, 92, 96, 101, 102, 103, 104, 105, 106, 107, 108, 111, 112, 113, 114, 115, 116, 117, 118, 119, 122, 123, 125, 126, 127, 128, 129, 134, 170]\n",
            "79\n",
            "[1, 9, 12, 13, 20, 21, 22, 23, 24, 27, 28, 29, 32, 35, 37, 38, 40, 41, 44, 47, 50, 51, 62, 63, 65, 66, 67, 69, 71, 73, 74, 76, 78, 79, 80, 81, 84, 85, 93, 94, 95, 97, 98, 99, 100, 102, 104, 108, 109, 110, 111, 115, 116, 117, 120, 121, 124, 125, 126]\n",
            "[59, 60, 61, 64, 68, 70, 72, 75, 77, 82, 83, 86, 87, 88, 89, 90, 91, 92, 96, 101, 103, 105, 106, 107, 112, 113, 114, 118, 119, 122, 123, 127, 128, 129, 130, 131, 132, 133, 134, 135, 136, 137, 138, 139, 140, 141, 142, 143, 144, 145, 146, 147, 148, 149, 150, 151, 152, 153, 154, 155, 156, 157, 160, 161, 162, 163, 164, 165, 166, 167, 168, 169, 170, 171, 172, 173, 174, 175, 176, 177]\n",
            "[0, 2, 3, 4, 5, 6, 7, 8, 10, 11, 14, 15, 16, 17, 18, 19, 25, 26, 30, 31, 33, 34, 36, 39, 42, 43, 45, 46, 48, 49, 52, 53, 54, 55, 56, 57, 58, 158, 159]\n",
            "80\n",
            "[130, 131, 132, 133, 135, 136, 137, 138, 139, 140, 141, 142, 143, 144, 145, 146, 147, 148, 149, 150, 151, 152, 153, 154, 155, 156, 157, 158, 159, 160, 161, 162, 163, 164, 165, 166, 167, 168, 169, 171, 172, 173, 174, 175, 176, 177]\n",
            "[0, 1, 2, 3, 4, 5, 6, 7, 8, 9, 10, 11, 12, 13, 14, 15, 16, 17, 18, 19, 20, 21, 22, 23, 24, 25, 26, 27, 28, 29, 30, 31, 32, 33, 34, 35, 36, 37, 38, 39, 40, 41, 42, 43, 44, 45, 46, 47, 48, 49, 50, 51, 52, 53, 54, 55, 56, 57, 58, 63, 65, 66, 69, 71, 73, 74, 78, 79, 81, 84, 85, 93, 94, 95, 97, 98, 99, 100, 109, 110, 120, 121, 124]\n",
            "[59, 60, 61, 62, 64, 67, 68, 70, 72, 75, 76, 77, 80, 82, 83, 86, 87, 88, 89, 90, 91, 92, 96, 101, 102, 103, 104, 105, 106, 107, 108, 111, 112, 113, 114, 115, 116, 117, 118, 119, 122, 123, 125, 126, 127, 128, 129, 134, 170]\n",
            "81\n",
            "[1, 9, 12, 13, 20, 21, 22, 23, 24, 27, 28, 29, 32, 35, 37, 38, 40, 41, 44, 47, 50, 51, 62, 63, 65, 66, 67, 69, 71, 73, 74, 76, 78, 79, 80, 81, 84, 85, 93, 94, 95, 97, 98, 99, 100, 102, 104, 108, 109, 110, 111, 115, 116, 117, 120, 121, 124, 125, 126]\n",
            "[59, 60, 61, 64, 68, 70, 72, 75, 77, 82, 83, 86, 87, 88, 89, 90, 91, 92, 96, 101, 103, 105, 106, 107, 112, 113, 114, 118, 119, 122, 123, 127, 128, 129, 130, 131, 132, 133, 134, 135, 136, 137, 138, 139, 140, 141, 142, 143, 144, 145, 146, 147, 148, 149, 150, 151, 152, 153, 154, 155, 156, 157, 160, 161, 162, 163, 164, 165, 166, 167, 168, 169, 170, 171, 172, 173, 174, 175, 176, 177]\n",
            "[0, 2, 3, 4, 5, 6, 7, 8, 10, 11, 14, 15, 16, 17, 18, 19, 25, 26, 30, 31, 33, 34, 36, 39, 42, 43, 45, 46, 48, 49, 52, 53, 54, 55, 56, 57, 58, 158, 159]\n",
            "82\n",
            "[130, 131, 132, 133, 135, 136, 137, 138, 139, 140, 141, 142, 143, 144, 145, 146, 147, 148, 149, 150, 151, 152, 153, 154, 155, 156, 157, 158, 159, 160, 161, 162, 163, 164, 165, 166, 167, 168, 169, 171, 172, 173, 174, 175, 176, 177]\n",
            "[0, 1, 2, 3, 4, 5, 6, 7, 8, 9, 10, 11, 12, 13, 14, 15, 16, 17, 18, 19, 20, 21, 22, 23, 24, 25, 26, 27, 28, 29, 30, 31, 32, 33, 34, 35, 36, 37, 38, 39, 40, 41, 42, 43, 44, 45, 46, 47, 48, 49, 50, 51, 52, 53, 54, 55, 56, 57, 58, 63, 65, 66, 69, 71, 73, 74, 78, 79, 81, 84, 85, 93, 94, 95, 97, 98, 99, 100, 109, 110, 120, 121, 124]\n",
            "[59, 60, 61, 62, 64, 67, 68, 70, 72, 75, 76, 77, 80, 82, 83, 86, 87, 88, 89, 90, 91, 92, 96, 101, 102, 103, 104, 105, 106, 107, 108, 111, 112, 113, 114, 115, 116, 117, 118, 119, 122, 123, 125, 126, 127, 128, 129, 134, 170]\n",
            "83\n",
            "[1, 9, 12, 13, 20, 21, 22, 23, 24, 27, 28, 29, 32, 35, 37, 38, 40, 41, 44, 47, 50, 51, 62, 63, 65, 66, 67, 69, 71, 73, 74, 76, 78, 79, 80, 81, 84, 85, 93, 94, 95, 97, 98, 99, 100, 102, 104, 108, 109, 110, 111, 115, 116, 117, 120, 121, 124, 125, 126]\n",
            "[59, 60, 61, 64, 68, 70, 72, 75, 77, 82, 83, 86, 87, 88, 89, 90, 91, 92, 96, 101, 103, 105, 106, 107, 112, 113, 114, 118, 119, 122, 123, 127, 128, 129, 130, 131, 132, 133, 134, 135, 136, 137, 138, 139, 140, 141, 142, 143, 144, 145, 146, 147, 148, 149, 150, 151, 152, 153, 154, 155, 156, 157, 160, 161, 162, 163, 164, 165, 166, 167, 168, 169, 170, 171, 172, 173, 174, 175, 176, 177]\n",
            "[0, 2, 3, 4, 5, 6, 7, 8, 10, 11, 14, 15, 16, 17, 18, 19, 25, 26, 30, 31, 33, 34, 36, 39, 42, 43, 45, 46, 48, 49, 52, 53, 54, 55, 56, 57, 58, 158, 159]\n",
            "84\n",
            "[130, 131, 132, 133, 135, 136, 137, 138, 139, 140, 141, 142, 143, 144, 145, 146, 147, 148, 149, 150, 151, 152, 153, 154, 155, 156, 157, 158, 159, 160, 161, 162, 163, 164, 165, 166, 167, 168, 169, 171, 172, 173, 174, 175, 176, 177]\n",
            "[0, 1, 2, 3, 4, 5, 6, 7, 8, 9, 10, 11, 12, 13, 14, 15, 16, 17, 18, 19, 20, 21, 22, 23, 24, 25, 26, 27, 28, 29, 30, 31, 32, 33, 34, 35, 36, 37, 38, 39, 40, 41, 42, 43, 44, 45, 46, 47, 48, 49, 50, 51, 52, 53, 54, 55, 56, 57, 58, 63, 65, 66, 69, 71, 73, 74, 78, 79, 81, 84, 85, 93, 94, 95, 97, 98, 99, 100, 109, 110, 120, 121, 124]\n",
            "[59, 60, 61, 62, 64, 67, 68, 70, 72, 75, 76, 77, 80, 82, 83, 86, 87, 88, 89, 90, 91, 92, 96, 101, 102, 103, 104, 105, 106, 107, 108, 111, 112, 113, 114, 115, 116, 117, 118, 119, 122, 123, 125, 126, 127, 128, 129, 134, 170]\n",
            "85\n",
            "[1, 9, 12, 13, 20, 21, 22, 23, 24, 27, 28, 29, 32, 35, 37, 38, 40, 41, 44, 47, 50, 51, 62, 63, 65, 66, 67, 69, 71, 73, 74, 76, 78, 79, 80, 81, 84, 85, 93, 94, 95, 97, 98, 99, 100, 102, 104, 108, 109, 110, 111, 115, 116, 117, 120, 121, 124, 125, 126]\n",
            "[59, 60, 61, 64, 68, 70, 72, 75, 77, 82, 83, 86, 87, 88, 89, 90, 91, 92, 96, 101, 103, 105, 106, 107, 112, 113, 114, 118, 119, 122, 123, 127, 128, 129, 130, 131, 132, 133, 134, 135, 136, 137, 138, 139, 140, 141, 142, 143, 144, 145, 146, 147, 148, 149, 150, 151, 152, 153, 154, 155, 156, 157, 160, 161, 162, 163, 164, 165, 166, 167, 168, 169, 170, 171, 172, 173, 174, 175, 176, 177]\n",
            "[0, 2, 3, 4, 5, 6, 7, 8, 10, 11, 14, 15, 16, 17, 18, 19, 25, 26, 30, 31, 33, 34, 36, 39, 42, 43, 45, 46, 48, 49, 52, 53, 54, 55, 56, 57, 58, 158, 159]\n",
            "86\n",
            "[130, 131, 132, 133, 135, 136, 137, 138, 139, 140, 141, 142, 143, 144, 145, 146, 147, 148, 149, 150, 151, 152, 153, 154, 155, 156, 157, 158, 159, 160, 161, 162, 163, 164, 165, 166, 167, 168, 169, 171, 172, 173, 174, 175, 176, 177]\n",
            "[0, 1, 2, 3, 4, 5, 6, 7, 8, 9, 10, 11, 12, 13, 14, 15, 16, 17, 18, 19, 20, 21, 22, 23, 24, 25, 26, 27, 28, 29, 30, 31, 32, 33, 34, 35, 36, 37, 38, 39, 40, 41, 42, 43, 44, 45, 46, 47, 48, 49, 50, 51, 52, 53, 54, 55, 56, 57, 58, 63, 65, 66, 69, 71, 73, 74, 78, 79, 81, 84, 85, 93, 94, 95, 97, 98, 99, 100, 109, 110, 120, 121, 124]\n",
            "[59, 60, 61, 62, 64, 67, 68, 70, 72, 75, 76, 77, 80, 82, 83, 86, 87, 88, 89, 90, 91, 92, 96, 101, 102, 103, 104, 105, 106, 107, 108, 111, 112, 113, 114, 115, 116, 117, 118, 119, 122, 123, 125, 126, 127, 128, 129, 134, 170]\n",
            "87\n",
            "[1, 9, 12, 13, 20, 21, 22, 23, 24, 27, 28, 29, 32, 35, 37, 38, 40, 41, 44, 47, 50, 51, 62, 63, 65, 66, 67, 69, 71, 73, 74, 76, 78, 79, 80, 81, 84, 85, 93, 94, 95, 97, 98, 99, 100, 102, 104, 108, 109, 110, 111, 115, 116, 117, 120, 121, 124, 125, 126]\n",
            "[59, 60, 61, 64, 68, 70, 72, 75, 77, 82, 83, 86, 87, 88, 89, 90, 91, 92, 96, 101, 103, 105, 106, 107, 112, 113, 114, 118, 119, 122, 123, 127, 128, 129, 130, 131, 132, 133, 134, 135, 136, 137, 138, 139, 140, 141, 142, 143, 144, 145, 146, 147, 148, 149, 150, 151, 152, 153, 154, 155, 156, 157, 160, 161, 162, 163, 164, 165, 166, 167, 168, 169, 170, 171, 172, 173, 174, 175, 176, 177]\n",
            "[0, 2, 3, 4, 5, 6, 7, 8, 10, 11, 14, 15, 16, 17, 18, 19, 25, 26, 30, 31, 33, 34, 36, 39, 42, 43, 45, 46, 48, 49, 52, 53, 54, 55, 56, 57, 58, 158, 159]\n",
            "88\n",
            "[130, 131, 132, 133, 135, 136, 137, 138, 139, 140, 141, 142, 143, 144, 145, 146, 147, 148, 149, 150, 151, 152, 153, 154, 155, 156, 157, 158, 159, 160, 161, 162, 163, 164, 165, 166, 167, 168, 169, 171, 172, 173, 174, 175, 176, 177]\n",
            "[0, 1, 2, 3, 4, 5, 6, 7, 8, 9, 10, 11, 12, 13, 14, 15, 16, 17, 18, 19, 20, 21, 22, 23, 24, 25, 26, 27, 28, 29, 30, 31, 32, 33, 34, 35, 36, 37, 38, 39, 40, 41, 42, 43, 44, 45, 46, 47, 48, 49, 50, 51, 52, 53, 54, 55, 56, 57, 58, 63, 65, 66, 69, 71, 73, 74, 78, 79, 81, 84, 85, 93, 94, 95, 97, 98, 99, 100, 109, 110, 120, 121, 124]\n",
            "[59, 60, 61, 62, 64, 67, 68, 70, 72, 75, 76, 77, 80, 82, 83, 86, 87, 88, 89, 90, 91, 92, 96, 101, 102, 103, 104, 105, 106, 107, 108, 111, 112, 113, 114, 115, 116, 117, 118, 119, 122, 123, 125, 126, 127, 128, 129, 134, 170]\n",
            "89\n",
            "[1, 9, 12, 13, 20, 21, 22, 23, 24, 27, 28, 29, 32, 35, 37, 38, 40, 41, 44, 47, 50, 51, 62, 63, 65, 66, 67, 69, 71, 73, 74, 76, 78, 79, 80, 81, 84, 85, 93, 94, 95, 97, 98, 99, 100, 102, 104, 108, 109, 110, 111, 115, 116, 117, 120, 121, 124, 125, 126]\n",
            "[59, 60, 61, 64, 68, 70, 72, 75, 77, 82, 83, 86, 87, 88, 89, 90, 91, 92, 96, 101, 103, 105, 106, 107, 112, 113, 114, 118, 119, 122, 123, 127, 128, 129, 130, 131, 132, 133, 134, 135, 136, 137, 138, 139, 140, 141, 142, 143, 144, 145, 146, 147, 148, 149, 150, 151, 152, 153, 154, 155, 156, 157, 160, 161, 162, 163, 164, 165, 166, 167, 168, 169, 170, 171, 172, 173, 174, 175, 176, 177]\n",
            "[0, 2, 3, 4, 5, 6, 7, 8, 10, 11, 14, 15, 16, 17, 18, 19, 25, 26, 30, 31, 33, 34, 36, 39, 42, 43, 45, 46, 48, 49, 52, 53, 54, 55, 56, 57, 58, 158, 159]\n",
            "90\n",
            "[130, 131, 132, 133, 135, 136, 137, 138, 139, 140, 141, 142, 143, 144, 145, 146, 147, 148, 149, 150, 151, 152, 153, 154, 155, 156, 157, 158, 159, 160, 161, 162, 163, 164, 165, 166, 167, 168, 169, 171, 172, 173, 174, 175, 176, 177]\n",
            "[0, 1, 2, 3, 4, 5, 6, 7, 8, 9, 10, 11, 12, 13, 14, 15, 16, 17, 18, 19, 20, 21, 22, 23, 24, 25, 26, 27, 28, 29, 30, 31, 32, 33, 34, 35, 36, 37, 38, 39, 40, 41, 42, 43, 44, 45, 46, 47, 48, 49, 50, 51, 52, 53, 54, 55, 56, 57, 58, 63, 65, 66, 69, 71, 73, 74, 78, 79, 81, 84, 85, 93, 94, 95, 97, 98, 99, 100, 109, 110, 120, 121, 124]\n",
            "[59, 60, 61, 62, 64, 67, 68, 70, 72, 75, 76, 77, 80, 82, 83, 86, 87, 88, 89, 90, 91, 92, 96, 101, 102, 103, 104, 105, 106, 107, 108, 111, 112, 113, 114, 115, 116, 117, 118, 119, 122, 123, 125, 126, 127, 128, 129, 134, 170]\n",
            "91\n",
            "[1, 9, 12, 13, 20, 21, 22, 23, 24, 27, 28, 29, 32, 35, 37, 38, 40, 41, 44, 47, 50, 51, 62, 63, 65, 66, 67, 69, 71, 73, 74, 76, 78, 79, 80, 81, 84, 85, 93, 94, 95, 97, 98, 99, 100, 102, 104, 108, 109, 110, 111, 115, 116, 117, 120, 121, 124, 125, 126]\n",
            "[59, 60, 61, 64, 68, 70, 72, 75, 77, 82, 83, 86, 87, 88, 89, 90, 91, 92, 96, 101, 103, 105, 106, 107, 112, 113, 114, 118, 119, 122, 123, 127, 128, 129, 130, 131, 132, 133, 134, 135, 136, 137, 138, 139, 140, 141, 142, 143, 144, 145, 146, 147, 148, 149, 150, 151, 152, 153, 154, 155, 156, 157, 160, 161, 162, 163, 164, 165, 166, 167, 168, 169, 170, 171, 172, 173, 174, 175, 176, 177]\n",
            "[0, 2, 3, 4, 5, 6, 7, 8, 10, 11, 14, 15, 16, 17, 18, 19, 25, 26, 30, 31, 33, 34, 36, 39, 42, 43, 45, 46, 48, 49, 52, 53, 54, 55, 56, 57, 58, 158, 159]\n",
            "92\n",
            "[130, 131, 132, 133, 135, 136, 137, 138, 139, 140, 141, 142, 143, 144, 145, 146, 147, 148, 149, 150, 151, 152, 153, 154, 155, 156, 157, 158, 159, 160, 161, 162, 163, 164, 165, 166, 167, 168, 169, 171, 172, 173, 174, 175, 176, 177]\n",
            "[0, 1, 2, 3, 4, 5, 6, 7, 8, 9, 10, 11, 12, 13, 14, 15, 16, 17, 18, 19, 20, 21, 22, 23, 24, 25, 26, 27, 28, 29, 30, 31, 32, 33, 34, 35, 36, 37, 38, 39, 40, 41, 42, 43, 44, 45, 46, 47, 48, 49, 50, 51, 52, 53, 54, 55, 56, 57, 58, 63, 65, 66, 69, 71, 73, 74, 78, 79, 81, 84, 85, 93, 94, 95, 97, 98, 99, 100, 109, 110, 120, 121, 124]\n",
            "[59, 60, 61, 62, 64, 67, 68, 70, 72, 75, 76, 77, 80, 82, 83, 86, 87, 88, 89, 90, 91, 92, 96, 101, 102, 103, 104, 105, 106, 107, 108, 111, 112, 113, 114, 115, 116, 117, 118, 119, 122, 123, 125, 126, 127, 128, 129, 134, 170]\n",
            "93\n",
            "[1, 9, 12, 13, 20, 21, 22, 23, 24, 27, 28, 29, 32, 35, 37, 38, 40, 41, 44, 47, 50, 51, 62, 63, 65, 66, 67, 69, 71, 73, 74, 76, 78, 79, 80, 81, 84, 85, 93, 94, 95, 97, 98, 99, 100, 102, 104, 108, 109, 110, 111, 115, 116, 117, 120, 121, 124, 125, 126]\n",
            "[59, 60, 61, 64, 68, 70, 72, 75, 77, 82, 83, 86, 87, 88, 89, 90, 91, 92, 96, 101, 103, 105, 106, 107, 112, 113, 114, 118, 119, 122, 123, 127, 128, 129, 130, 131, 132, 133, 134, 135, 136, 137, 138, 139, 140, 141, 142, 143, 144, 145, 146, 147, 148, 149, 150, 151, 152, 153, 154, 155, 156, 157, 160, 161, 162, 163, 164, 165, 166, 167, 168, 169, 170, 171, 172, 173, 174, 175, 176, 177]\n",
            "[0, 2, 3, 4, 5, 6, 7, 8, 10, 11, 14, 15, 16, 17, 18, 19, 25, 26, 30, 31, 33, 34, 36, 39, 42, 43, 45, 46, 48, 49, 52, 53, 54, 55, 56, 57, 58, 158, 159]\n",
            "94\n",
            "[130, 131, 132, 133, 135, 136, 137, 138, 139, 140, 141, 142, 143, 144, 145, 146, 147, 148, 149, 150, 151, 152, 153, 154, 155, 156, 157, 158, 159, 160, 161, 162, 163, 164, 165, 166, 167, 168, 169, 171, 172, 173, 174, 175, 176, 177]\n",
            "[0, 1, 2, 3, 4, 5, 6, 7, 8, 9, 10, 11, 12, 13, 14, 15, 16, 17, 18, 19, 20, 21, 22, 23, 24, 25, 26, 27, 28, 29, 30, 31, 32, 33, 34, 35, 36, 37, 38, 39, 40, 41, 42, 43, 44, 45, 46, 47, 48, 49, 50, 51, 52, 53, 54, 55, 56, 57, 58, 63, 65, 66, 69, 71, 73, 74, 78, 79, 81, 84, 85, 93, 94, 95, 97, 98, 99, 100, 109, 110, 120, 121, 124]\n",
            "[59, 60, 61, 62, 64, 67, 68, 70, 72, 75, 76, 77, 80, 82, 83, 86, 87, 88, 89, 90, 91, 92, 96, 101, 102, 103, 104, 105, 106, 107, 108, 111, 112, 113, 114, 115, 116, 117, 118, 119, 122, 123, 125, 126, 127, 128, 129, 134, 170]\n",
            "95\n",
            "[1, 9, 12, 13, 20, 21, 22, 23, 24, 27, 28, 29, 32, 35, 37, 38, 40, 41, 44, 47, 50, 51, 62, 63, 65, 66, 67, 69, 71, 73, 74, 76, 78, 79, 80, 81, 84, 85, 93, 94, 95, 97, 98, 99, 100, 102, 104, 108, 109, 110, 111, 115, 116, 117, 120, 121, 124, 125, 126]\n",
            "[59, 60, 61, 64, 68, 70, 72, 75, 77, 82, 83, 86, 87, 88, 89, 90, 91, 92, 96, 101, 103, 105, 106, 107, 112, 113, 114, 118, 119, 122, 123, 127, 128, 129, 130, 131, 132, 133, 134, 135, 136, 137, 138, 139, 140, 141, 142, 143, 144, 145, 146, 147, 148, 149, 150, 151, 152, 153, 154, 155, 156, 157, 160, 161, 162, 163, 164, 165, 166, 167, 168, 169, 170, 171, 172, 173, 174, 175, 176, 177]\n",
            "[0, 2, 3, 4, 5, 6, 7, 8, 10, 11, 14, 15, 16, 17, 18, 19, 25, 26, 30, 31, 33, 34, 36, 39, 42, 43, 45, 46, 48, 49, 52, 53, 54, 55, 56, 57, 58, 158, 159]\n",
            "96\n",
            "[130, 131, 132, 133, 135, 136, 137, 138, 139, 140, 141, 142, 143, 144, 145, 146, 147, 148, 149, 150, 151, 152, 153, 154, 155, 156, 157, 158, 159, 160, 161, 162, 163, 164, 165, 166, 167, 168, 169, 171, 172, 173, 174, 175, 176, 177]\n",
            "[0, 1, 2, 3, 4, 5, 6, 7, 8, 9, 10, 11, 12, 13, 14, 15, 16, 17, 18, 19, 20, 21, 22, 23, 24, 25, 26, 27, 28, 29, 30, 31, 32, 33, 34, 35, 36, 37, 38, 39, 40, 41, 42, 43, 44, 45, 46, 47, 48, 49, 50, 51, 52, 53, 54, 55, 56, 57, 58, 63, 65, 66, 69, 71, 73, 74, 78, 79, 81, 84, 85, 93, 94, 95, 97, 98, 99, 100, 109, 110, 120, 121, 124]\n",
            "[59, 60, 61, 62, 64, 67, 68, 70, 72, 75, 76, 77, 80, 82, 83, 86, 87, 88, 89, 90, 91, 92, 96, 101, 102, 103, 104, 105, 106, 107, 108, 111, 112, 113, 114, 115, 116, 117, 118, 119, 122, 123, 125, 126, 127, 128, 129, 134, 170]\n",
            "97\n",
            "[1, 9, 12, 13, 20, 21, 22, 23, 24, 27, 28, 29, 32, 35, 37, 38, 40, 41, 44, 47, 50, 51, 62, 63, 65, 66, 67, 69, 71, 73, 74, 76, 78, 79, 80, 81, 84, 85, 93, 94, 95, 97, 98, 99, 100, 102, 104, 108, 109, 110, 111, 115, 116, 117, 120, 121, 124, 125, 126]\n",
            "[59, 60, 61, 64, 68, 70, 72, 75, 77, 82, 83, 86, 87, 88, 89, 90, 91, 92, 96, 101, 103, 105, 106, 107, 112, 113, 114, 118, 119, 122, 123, 127, 128, 129, 130, 131, 132, 133, 134, 135, 136, 137, 138, 139, 140, 141, 142, 143, 144, 145, 146, 147, 148, 149, 150, 151, 152, 153, 154, 155, 156, 157, 160, 161, 162, 163, 164, 165, 166, 167, 168, 169, 170, 171, 172, 173, 174, 175, 176, 177]\n",
            "[0, 2, 3, 4, 5, 6, 7, 8, 10, 11, 14, 15, 16, 17, 18, 19, 25, 26, 30, 31, 33, 34, 36, 39, 42, 43, 45, 46, 48, 49, 52, 53, 54, 55, 56, 57, 58, 158, 159]\n",
            "98\n",
            "[130, 131, 132, 133, 135, 136, 137, 138, 139, 140, 141, 142, 143, 144, 145, 146, 147, 148, 149, 150, 151, 152, 153, 154, 155, 156, 157, 158, 159, 160, 161, 162, 163, 164, 165, 166, 167, 168, 169, 171, 172, 173, 174, 175, 176, 177]\n",
            "[0, 1, 2, 3, 4, 5, 6, 7, 8, 9, 10, 11, 12, 13, 14, 15, 16, 17, 18, 19, 20, 21, 22, 23, 24, 25, 26, 27, 28, 29, 30, 31, 32, 33, 34, 35, 36, 37, 38, 39, 40, 41, 42, 43, 44, 45, 46, 47, 48, 49, 50, 51, 52, 53, 54, 55, 56, 57, 58, 63, 65, 66, 69, 71, 73, 74, 78, 79, 81, 84, 85, 93, 94, 95, 97, 98, 99, 100, 109, 110, 120, 121, 124]\n",
            "[59, 60, 61, 62, 64, 67, 68, 70, 72, 75, 76, 77, 80, 82, 83, 86, 87, 88, 89, 90, 91, 92, 96, 101, 102, 103, 104, 105, 106, 107, 108, 111, 112, 113, 114, 115, 116, 117, 118, 119, 122, 123, 125, 126, 127, 128, 129, 134, 170]\n",
            "99\n",
            "[1, 9, 12, 13, 20, 21, 22, 23, 24, 27, 28, 29, 32, 35, 37, 38, 40, 41, 44, 47, 50, 51, 62, 63, 65, 66, 67, 69, 71, 73, 74, 76, 78, 79, 80, 81, 84, 85, 93, 94, 95, 97, 98, 99, 100, 102, 104, 108, 109, 110, 111, 115, 116, 117, 120, 121, 124, 125, 126]\n",
            "[59, 60, 61, 64, 68, 70, 72, 75, 77, 82, 83, 86, 87, 88, 89, 90, 91, 92, 96, 101, 103, 105, 106, 107, 112, 113, 114, 118, 119, 122, 123, 127, 128, 129, 130, 131, 132, 133, 134, 135, 136, 137, 138, 139, 140, 141, 142, 143, 144, 145, 146, 147, 148, 149, 150, 151, 152, 153, 154, 155, 156, 157, 160, 161, 162, 163, 164, 165, 166, 167, 168, 169, 170, 171, 172, 173, 174, 175, 176, 177]\n",
            "[0, 2, 3, 4, 5, 6, 7, 8, 10, 11, 14, 15, 16, 17, 18, 19, 25, 26, 30, 31, 33, 34, 36, 39, 42, 43, 45, 46, 48, 49, 52, 53, 54, 55, 56, 57, 58, 158, 159]\n"
          ]
        }
      ]
    },
    {
      "cell_type": "code",
      "metadata": {
        "colab": {
          "base_uri": "https://localhost:8080/",
          "height": 265
        },
        "id": "HdcimWN7kzSs",
        "outputId": "ca252fbd-8685-4873-d0ee-23eea19b2bae"
      },
      "source": [
        "plt.scatter(dfWines_reduced[\"x\"], dfWines_reduced[\"y\"],c=G_kmeans_Pearson)\n",
        "plt.scatter(C_Pearson.values[:,0],C_Pearson.values[:,1],s = 120,c='red')\n",
        "plt.show()"
      ],
      "execution_count": null,
      "outputs": [
        {
          "output_type": "display_data",
          "data": {
            "image/png": "[encoded data removed]",
            "text/plain": [
              "<Figure size 432x288 with 1 Axes>"
            ]
          },
          "metadata": {
            "needs_background": "light"
          }
        }
      ]
    },
    {
      "cell_type": "markdown",
      "metadata": {
        "id": "0UrX-yIP8qTE"
      },
      "source": [
        "##### DBScan"
      ]
    },
    {
      "cell_type": "markdown",
      "metadata": {
        "id": "1F416vCVF7A9"
      },
      "source": [
        "###### Distância Euclidiana"
      ]
    },
    {
      "cell_type": "code",
      "metadata": {
        "id": "h29YPDsY478C"
      },
      "source": [
        "minPts = 5\n",
        "raio = 0.60"
      ],
      "execution_count": null,
      "outputs": []
    },
    {
      "cell_type": "code",
      "metadata": {
        "id": "3L3I3Pju6sk4"
      },
      "source": [
        "def dbscan_distance_euclidian(data):\n",
        "  distances = []\n",
        "  for x1 in data:\n",
        "    line_distance = []\n",
        "    for x2 in data:\n",
        "      line_distance.append(euclidian_distance(x1, x2))\n",
        "    distances.append(line_distance)\n",
        "  return distances"
      ],
      "execution_count": null,
      "outputs": []
    },
    {
      "cell_type": "code",
      "metadata": {
        "id": "cUyUM0l645Fs"
      },
      "source": [
        "distances = dbscan_distance_euclidian(dfWines_reduced.values)\n",
        "visited = np.zeros(len(dfWines_reduced))\n",
        "label = 1\n",
        "G_dbscan_Euclidean = -1*np.ones(len(dfWines_reduced))"
      ],
      "execution_count": null,
      "outputs": []
    },
    {
      "cell_type": "code",
      "metadata": {
        "id": "1TmWCNF_45pl"
      },
      "source": [
        "\n",
        "for i in range(len(dfWines_reduced.values)):\n",
        "  if visited[i] == 0:\n",
        "    visited[i] = 1\n",
        "    vizinhos = []\n",
        "    for j in range(len(dfWines_reduced.values)):\n",
        "      if distances[i][j]<=raio:\n",
        "        vizinhos.append(j)\n",
        "      \n",
        "    if len(vizinhos)>=minPts:\n",
        "      G_dbscan_Euclidean[i] =label\n",
        "      v=0\n",
        "      while v<len(vizinhos):\n",
        "        if (visited[vizinhos[v]]==0) or (G_dbscan_Euclidean[vizinhos[v]]==-1):\n",
        "          aux  = [] \n",
        "          for j2 in range(len(dfWines_reduced.values)):\n",
        "            if distances[vizinhos[v]][j2] <=raio :\n",
        "                vizinhos.append(j2)\n",
        "\n",
        "          visited[vizinhos[v]] = 1\n",
        "        G_dbscan_Euclidean[vizinhos[v]] = label\n",
        "        v+=1\n",
        "      label+=1"
      ],
      "execution_count": null,
      "outputs": []
    },
    {
      "cell_type": "code",
      "metadata": {
        "id": "N9uzdyYy8lhD",
        "colab": {
          "base_uri": "https://localhost:8080/"
        },
        "outputId": "b046d6cb-5b14-4a8b-bb11-f7bad73585c3"
      },
      "source": [
        "G_dbscan_Euclidean"
      ],
      "execution_count": null,
      "outputs": [
        {
          "output_type": "execute_result",
          "data": {
            "text/plain": [
              "array([ 1.,  1.,  1., -1.,  1.,  1.,  1.,  1.,  1.,  1.,  1.,  1.,  1.,\n",
              "        1., -1.,  1.,  1.,  1., -1.,  1.,  1.,  1.,  1.,  1.,  1.,  1.,\n",
              "        1.,  1.,  1.,  1.,  1.,  1.,  1.,  1.,  1.,  1.,  1.,  1.,  1.,\n",
              "        1.,  1.,  1.,  1.,  1.,  1., -1.,  1.,  1.,  1.,  1., -1.,  1.,\n",
              "        1.,  1.,  1.,  1.,  1.,  1.,  1.,  1.,  1.,  1.,  1.,  1.,  1.,\n",
              "        1.,  1.,  1.,  1.,  1.,  1.,  1.,  1.,  1.,  1.,  1.,  1.,  1.,\n",
              "        1.,  1., -1.,  1.,  1.,  2.,  1.,  1.,  1.,  1.,  1.,  1.,  1.,\n",
              "        1.,  1.,  1.,  1.,  1.,  1.,  1.,  1.,  1.,  1.,  1.,  1.,  1.,\n",
              "        1.,  1.,  1.,  1.,  1.,  1.,  1.,  1.,  1.,  1.,  1., -1.,  1.,\n",
              "        1.,  1.,  1.,  1.,  1.,  1.,  1.,  1.,  1.,  1.,  1.,  1.,  1.,\n",
              "       -1.,  2.,  2.,  2.,  2.,  2.,  2.,  2.,  2.,  2.,  2.,  2.,  2.,\n",
              "        2.,  2.,  2.,  2.,  2.,  2.,  2.,  2.,  2.,  2.,  2.,  2.,  2.,\n",
              "        2.,  2., -1., -1.,  2.,  2.,  2.,  2.,  2.,  2.,  2.,  2.,  2.,\n",
              "        2.,  2.,  2.,  2.,  2.,  2.,  2.,  2.,  2.])"
            ]
          },
          "metadata": {},
          "execution_count": 27
        }
      ]
    },
    {
      "cell_type": "code",
      "metadata": {
        "id": "hPKGlgNH8nmU",
        "colab": {
          "base_uri": "https://localhost:8080/",
          "height": 265
        },
        "outputId": "f753b5f5-17dd-436c-f0dd-885323485c62"
      },
      "source": [
        "plt.scatter(dfWines_reduced[\"x\"], dfWines_reduced[\"y\"],c=G_dbscan_Euclidean)\n",
        "plt.show()"
      ],
      "execution_count": null,
      "outputs": [
        {
          "output_type": "display_data",
          "data": {
            "image/png": "[encoded data removed]",
            "text/plain": [
              "<Figure size 432x288 with 1 Axes>"
            ]
          },
          "metadata": {
            "needs_background": "light"
          }
        }
      ]
    },
    {
      "cell_type": "code",
      "metadata": {
        "id": "9MKpjFAOCNN2"
      },
      "source": [
        ""
      ],
      "execution_count": null,
      "outputs": []
    },
    {
      "cell_type": "markdown",
      "metadata": {
        "id": "TMeYxCLKF_CF"
      },
      "source": [
        "###### Distância de Manhattan"
      ]
    },
    {
      "cell_type": "code",
      "metadata": {
        "id": "kzLmLHOoGHf3"
      },
      "source": [
        "minPts = 3\n",
        "raio = 0.80"
      ],
      "execution_count": null,
      "outputs": []
    },
    {
      "cell_type": "code",
      "metadata": {
        "id": "G6-gJHxBGBoH"
      },
      "source": [
        "def dbscan_distance_manhattan(data):\n",
        "  distances = []\n",
        "  for x1 in data:\n",
        "    line_distance = []\n",
        "    for x2 in data:\n",
        "      line_distance.append(manhattan_distance(x1, x2))\n",
        "    distances.append(line_distance)\n",
        "  return distances"
      ],
      "execution_count": null,
      "outputs": []
    },
    {
      "cell_type": "code",
      "metadata": {
        "id": "K8ot72b0GHf3"
      },
      "source": [
        "distances = dbscan_distance_manhattan(dfWines_reduced.values)\n",
        "visited = np.zeros(len(dfWines_reduced))\n",
        "label = 1\n",
        "G_dbscan_Manhattan = -1*np.ones(len(dfWines_reduced))"
      ],
      "execution_count": null,
      "outputs": []
    },
    {
      "cell_type": "code",
      "metadata": {
        "id": "3CQv7RBzGHf3"
      },
      "source": [
        "\n",
        "for i in range(len(dfWines_reduced.values)):\n",
        "  if visited[i] == 0:\n",
        "    visited[i] = 1\n",
        "    vizinhos = []\n",
        "    for j in range(len(dfWines_reduced.values)):\n",
        "      if abs(distances[i][j])<=raio:\n",
        "        vizinhos.append(j)\n",
        "      \n",
        "    if len(vizinhos)>=minPts:\n",
        "      G_dbscan_Manhattan[i] =label\n",
        "      v=0\n",
        "      while v<len(vizinhos):\n",
        "        if (visited[vizinhos[v]]==0) or (G_dbscan_Manhattan[vizinhos[v]]==-1):\n",
        "          aux  = [] \n",
        "          for j2 in range(len(dfWines_reduced.values)):\n",
        "            if distances[vizinhos[v]][j2] <=raio :\n",
        "                vizinhos.append(j2)\n",
        "\n",
        "          visited[vizinhos[v]] = 1\n",
        "        G_dbscan_Manhattan[vizinhos[v]] = label\n",
        "        v+=1\n",
        "      label+=1"
      ],
      "execution_count": null,
      "outputs": []
    },
    {
      "cell_type": "code",
      "metadata": {
        "colab": {
          "base_uri": "https://localhost:8080/"
        },
        "id": "0YkTBeoTGHf4",
        "outputId": "08a57c10-422b-472b-b66d-41780ba08a2d"
      },
      "source": [
        "G_dbscan_Manhattan"
      ],
      "execution_count": null,
      "outputs": [
        {
          "output_type": "execute_result",
          "data": {
            "text/plain": [
              "array([ 1.,  1.,  1., -1.,  1.,  1.,  1.,  1.,  1.,  1.,  1.,  1.,  1.,\n",
              "        1., -1.,  1.,  1.,  1., -1.,  1.,  1.,  1.,  1.,  1.,  1.,  1.,\n",
              "        1.,  1.,  1.,  1.,  1.,  1.,  1.,  1.,  1.,  1.,  1.,  1.,  1.,\n",
              "        1.,  1.,  1.,  1.,  1.,  1., -1.,  1.,  1.,  1.,  1.,  1.,  1.,\n",
              "        1.,  1.,  1.,  1.,  1.,  1.,  1.,  1.,  1.,  1.,  1.,  1.,  1.,\n",
              "        1.,  1.,  1.,  1.,  1.,  1.,  1.,  1.,  1.,  1.,  1.,  1.,  1.,\n",
              "        1.,  1., -1.,  1.,  1.,  2.,  1.,  1.,  1.,  1.,  1.,  1.,  1.,\n",
              "        1.,  1.,  1.,  1.,  1.,  1.,  1.,  1.,  1.,  1.,  1.,  1.,  1.,\n",
              "        1.,  1.,  1.,  1.,  1.,  1.,  1.,  1.,  1.,  1.,  1., -1.,  1.,\n",
              "        1.,  1.,  1.,  1.,  1.,  1.,  1.,  1.,  1.,  1.,  1.,  1.,  1.,\n",
              "       -1.,  2.,  2.,  2.,  2.,  2.,  2.,  2.,  2.,  2.,  2.,  2.,  2.,\n",
              "        2.,  2.,  2.,  2.,  2.,  2.,  2.,  2.,  2.,  2.,  2.,  2.,  2.,\n",
              "        2.,  2., -1.,  2.,  2.,  2.,  2.,  2.,  2.,  2.,  2.,  2.,  2.,\n",
              "        2.,  2.,  2.,  2.,  2.,  2.,  2.,  2.,  2.])"
            ]
          },
          "metadata": {},
          "execution_count": 33
        }
      ]
    },
    {
      "cell_type": "code",
      "metadata": {
        "colab": {
          "base_uri": "https://localhost:8080/",
          "height": 265
        },
        "id": "SlmRxfYVGHf4",
        "outputId": "e025d4a6-0cf5-4b9a-b957-af22f682d9b4"
      },
      "source": [
        "plt.scatter(dfWines_reduced[\"x\"], dfWines_reduced[\"y\"],c=G_dbscan_Manhattan)\n",
        "plt.show()"
      ],
      "execution_count": null,
      "outputs": [
        {
          "output_type": "display_data",
          "data": {
            "image/png": "[encoded data removed]",
            "text/plain": [
              "<Figure size 432x288 with 1 Axes>"
            ]
          },
          "metadata": {
            "needs_background": "light"
          }
        }
      ]
    },
    {
      "cell_type": "markdown",
      "metadata": {
        "id": "-OiWPjouIo0e"
      },
      "source": [
        "#### Exercício 5 - Centroides K-Means"
      ]
    },
    {
      "cell_type": "code",
      "metadata": {
        "id": "1x1oRWQf8u7U",
        "colab": {
          "base_uri": "https://localhost:8080/"
        },
        "outputId": "1beb7df3-4754-4af8-8ed5-2610f08fe394"
      },
      "source": [
        "print(\"Centróides - Distância Euclidiana\")\n",
        "for centroid in C_Euclidean.values:\n",
        "  print(\"Centróide: \", centroid)\n",
        "\n",
        "print(\"\")\n",
        "\n",
        "print(\"Centróides - Distância de Pearson\")\n",
        "for centroid in C_Pearson.values:\n",
        "  print(\"Centróide: \", centroid)"
      ],
      "execution_count": null,
      "outputs": [
        {
          "output_type": "stream",
          "name": "stdout",
          "text": [
            "Centróides - Distância Euclidiana\n",
            "Centróide:  [-2.74392982 -1.2141906 ]\n",
            "Centróide:  [-0.25245407  1.79727782]\n",
            "Centróide:  [ 2.24036885 -0.77516247]\n",
            "\n",
            "Centróides - Distância de Pearson\n",
            "Centróide:  [1.38200347 0.96016747]\n",
            "Centróide:  [-2.08480418  0.01510274]\n",
            "Centróide:  [ 2.18579818 -1.48354101]\n"
          ]
        }
      ]
    },
    {
      "cell_type": "markdown",
      "metadata": {
        "id": "dOMtgt35IzIS"
      },
      "source": [
        "#### Exercício 6 - Atributos Ordenados"
      ]
    },
    {
      "cell_type": "code",
      "metadata": {
        "colab": {
          "base_uri": "https://localhost:8080/"
        },
        "id": "WLm4xv2xMxBQ",
        "outputId": "65ec4016-2b67-4209-9b03-1ef0cfb718f4"
      },
      "source": [
        "G_kmeans_Euclidean"
      ],
      "execution_count": null,
      "outputs": [
        {
          "output_type": "execute_result",
          "data": {
            "text/plain": [
              "array([2., 2., 2., 2., 2., 2., 2., 2., 2., 2., 2., 2., 2., 2., 2., 2., 2.,\n",
              "       2., 2., 2., 2., 2., 2., 2., 2., 2., 2., 2., 2., 2., 2., 2., 2., 2.,\n",
              "       2., 2., 2., 2., 1., 2., 2., 2., 2., 2., 2., 2., 2., 2., 2., 2., 2.,\n",
              "       2., 2., 2., 2., 2., 2., 2., 2., 1., 1., 1., 1., 1., 1., 1., 1., 1.,\n",
              "       1., 1., 1., 1., 1., 2., 1., 1., 1., 1., 1., 1., 1., 1., 1., 0., 1.,\n",
              "       1., 1., 1., 1., 1., 1., 1., 1., 1., 1., 2., 1., 1., 1., 1., 1., 1.,\n",
              "       1., 1., 1., 1., 1., 1., 1., 1., 1., 1., 1., 1., 1., 1., 1., 1., 0.,\n",
              "       1., 1., 2., 1., 1., 1., 1., 1., 1., 1., 1., 0., 0., 0., 0., 0., 0.,\n",
              "       0., 0., 0., 0., 0., 0., 0., 0., 0., 0., 0., 0., 0., 0., 0., 0., 0.,\n",
              "       0., 0., 0., 0., 0., 0., 0., 0., 0., 0., 0., 0., 0., 0., 0., 0., 0.,\n",
              "       0., 0., 0., 0., 0., 0., 0., 0.])"
            ]
          },
          "metadata": {},
          "execution_count": 34
        }
      ]
    },
    {
      "cell_type": "code",
      "metadata": {
        "id": "pAg29ZW88wA0",
        "colab": {
          "base_uri": "https://localhost:8080/",
          "height": 414
        },
        "outputId": "7058af5a-7e23-4c31-e633-fc090e94d5fe"
      },
      "source": [
        "grupoKmeansEuclidean = []\n",
        "for i in range(len(G_kmeans_Euclidean)):\n",
        "  grupoKmeansEuclidean.append([list(dfWines_reduced.iloc[i].values),int(G_kmeans_Euclidean[i])])\n",
        "\n",
        "pd.DataFrame(grupoKmeansEuclidean, columns=[\"Coordenada do Dado\", \"Grupo\"]).sort_values(by='Grupo')"
      ],
      "execution_count": null,
      "outputs": [
        {
          "output_type": "execute_result",
          "data": {
            "text/html": [
              "<div>\n",
              "<style scoped>\n",
              "    .dataframe tbody tr th:only-of-type {\n",
              "        vertical-align: middle;\n",
              "    }\n",
              "\n",
              "    .dataframe tbody tr th {\n",
              "        vertical-align: top;\n",
              "    }\n",
              "\n",
              "    .dataframe thead th {\n",
              "        text-align: right;\n",
              "    }\n",
              "</style>\n",
              "<table border=\"1\" class=\"dataframe\">\n",
              "  <thead>\n",
              "    <tr style=\"text-align: right;\">\n",
              "      <th></th>\n",
              "      <th>Coordenada do Dado</th>\n",
              "      <th>Grupo</th>\n",
              "    </tr>\n",
              "  </thead>\n",
              "  <tbody>\n",
              "    <tr>\n",
              "      <th>177</th>\n",
              "      <td>[-3.2087581641980236, -2.768919566047572]</td>\n",
              "      <td>0</td>\n",
              "    </tr>\n",
              "    <tr>\n",
              "      <th>149</th>\n",
              "      <td>[-2.8996593330239127, -2.0410570079384636]</td>\n",
              "      <td>0</td>\n",
              "    </tr>\n",
              "    <tr>\n",
              "      <th>148</th>\n",
              "      <td>[-2.8070637200816604, -1.5705337870411966]</td>\n",
              "      <td>0</td>\n",
              "    </tr>\n",
              "    <tr>\n",
              "      <th>147</th>\n",
              "      <td>[-3.5826413720011066, -1.2727027497272991]</td>\n",
              "      <td>0</td>\n",
              "    </tr>\n",
              "    <tr>\n",
              "      <th>146</th>\n",
              "      <td>[-4.28063877875109, -0.6496709640237063]</td>\n",
              "      <td>0</td>\n",
              "    </tr>\n",
              "    <tr>\n",
              "      <th>...</th>\n",
              "      <td>...</td>\n",
              "      <td>...</td>\n",
              "    </tr>\n",
              "    <tr>\n",
              "      <th>34</th>\n",
              "      <td>[1.4103885265954061, -0.6979343246113573]</td>\n",
              "      <td>2</td>\n",
              "    </tr>\n",
              "    <tr>\n",
              "      <th>33</th>\n",
              "      <td>[1.9026908622381478, -1.6330604347699846]</td>\n",
              "      <td>2</td>\n",
              "    </tr>\n",
              "    <tr>\n",
              "      <th>32</th>\n",
              "      <td>[1.6285791164309185, -0.052704450575324926]</td>\n",
              "      <td>2</td>\n",
              "    </tr>\n",
              "    <tr>\n",
              "      <th>47</th>\n",
              "      <td>[2.821339274192248, -0.6462585991417067]</td>\n",
              "      <td>2</td>\n",
              "    </tr>\n",
              "    <tr>\n",
              "      <th>0</th>\n",
              "      <td>[3.316750812214776, -1.4434626343180106]</td>\n",
              "      <td>2</td>\n",
              "    </tr>\n",
              "  </tbody>\n",
              "</table>\n",
              "<p>178 rows × 2 columns</p>\n",
              "</div>"
            ],
            "text/plain": [
              "                              Coordenada do Dado  Grupo\n",
              "177    [-3.2087581641980236, -2.768919566047572]      0\n",
              "149   [-2.8996593330239127, -2.0410570079384636]      0\n",
              "148   [-2.8070637200816604, -1.5705337870411966]      0\n",
              "147   [-3.5826413720011066, -1.2727027497272991]      0\n",
              "146     [-4.28063877875109, -0.6496709640237063]      0\n",
              "..                                           ...    ...\n",
              "34     [1.4103885265954061, -0.6979343246113573]      2\n",
              "33     [1.9026908622381478, -1.6330604347699846]      2\n",
              "32   [1.6285791164309185, -0.052704450575324926]      2\n",
              "47      [2.821339274192248, -0.6462585991417067]      2\n",
              "0       [3.316750812214776, -1.4434626343180106]      2\n",
              "\n",
              "[178 rows x 2 columns]"
            ]
          },
          "metadata": {},
          "execution_count": 35
        }
      ]
    },
    {
      "cell_type": "code",
      "metadata": {
        "colab": {
          "base_uri": "https://localhost:8080/",
          "height": 414
        },
        "id": "9dKPWDIkOtXP",
        "outputId": "92cca6fb-31c1-4bd8-f74c-b54e12248970"
      },
      "source": [
        "grupoKmeansPearson = []\n",
        "for i in range(len(G_kmeans_Pearson)):\n",
        "  grupoKmeansPearson.append([list(dfWines_reduced.iloc[i].values),int(G_kmeans_Pearson[i])])\n",
        "\n",
        "pd.DataFrame(grupoKmeansPearson, columns=[\"Coordenada do Dado\", \"Grupo\"]).sort_values(by='Grupo')"
      ],
      "execution_count": null,
      "outputs": [
        {
          "output_type": "execute_result",
          "data": {
            "text/html": [
              "<div>\n",
              "<style scoped>\n",
              "    .dataframe tbody tr th:only-of-type {\n",
              "        vertical-align: middle;\n",
              "    }\n",
              "\n",
              "    .dataframe tbody tr th {\n",
              "        vertical-align: top;\n",
              "    }\n",
              "\n",
              "    .dataframe thead th {\n",
              "        text-align: right;\n",
              "    }\n",
              "</style>\n",
              "<table border=\"1\" class=\"dataframe\">\n",
              "  <thead>\n",
              "    <tr style=\"text-align: right;\">\n",
              "      <th></th>\n",
              "      <th>Coordenada do Dado</th>\n",
              "      <th>Grupo</th>\n",
              "    </tr>\n",
              "  </thead>\n",
              "  <tbody>\n",
              "    <tr>\n",
              "      <th>67</th>\n",
              "      <td>[0.18338402668475604, 2.4271461147035702]</td>\n",
              "      <td>0</td>\n",
              "    </tr>\n",
              "    <tr>\n",
              "      <th>95</th>\n",
              "      <td>[2.5438651841995537, -0.16927402279974094]</td>\n",
              "      <td>0</td>\n",
              "    </tr>\n",
              "    <tr>\n",
              "      <th>32</th>\n",
              "      <td>[1.6285791164309185, -0.052704450575324926]</td>\n",
              "      <td>0</td>\n",
              "    </tr>\n",
              "    <tr>\n",
              "      <th>94</th>\n",
              "      <td>[0.9574553638036433, 2.2235284346674615]</td>\n",
              "      <td>0</td>\n",
              "    </tr>\n",
              "    <tr>\n",
              "      <th>93</th>\n",
              "      <td>[0.7466659419884518, 2.3129317092207407]</td>\n",
              "      <td>0</td>\n",
              "    </tr>\n",
              "    <tr>\n",
              "      <th>...</th>\n",
              "      <td>...</td>\n",
              "      <td>...</td>\n",
              "    </tr>\n",
              "    <tr>\n",
              "      <th>107</th>\n",
              "      <td>[-1.6206725727874796, 1.3555833880259585]</td>\n",
              "      <td>2</td>\n",
              "    </tr>\n",
              "    <tr>\n",
              "      <th>106</th>\n",
              "      <td>[-0.3662673573520641, 2.1693532978292835]</td>\n",
              "      <td>2</td>\n",
              "    </tr>\n",
              "    <tr>\n",
              "      <th>105</th>\n",
              "      <td>[-1.772499077960035, 1.7172884693761445]</td>\n",
              "      <td>2</td>\n",
              "    </tr>\n",
              "    <tr>\n",
              "      <th>101</th>\n",
              "      <td>[-0.549531726649465, 2.293128643245626]</td>\n",
              "      <td>2</td>\n",
              "    </tr>\n",
              "    <tr>\n",
              "      <th>177</th>\n",
              "      <td>[-3.2087581641980236, -2.768919566047572]</td>\n",
              "      <td>2</td>\n",
              "    </tr>\n",
              "  </tbody>\n",
              "</table>\n",
              "<p>178 rows × 2 columns</p>\n",
              "</div>"
            ],
            "text/plain": [
              "                              Coordenada do Dado  Grupo\n",
              "67     [0.18338402668475604, 2.4271461147035702]      0\n",
              "95    [2.5438651841995537, -0.16927402279974094]      0\n",
              "32   [1.6285791164309185, -0.052704450575324926]      0\n",
              "94      [0.9574553638036433, 2.2235284346674615]      0\n",
              "93      [0.7466659419884518, 2.3129317092207407]      0\n",
              "..                                           ...    ...\n",
              "107    [-1.6206725727874796, 1.3555833880259585]      2\n",
              "106    [-0.3662673573520641, 2.1693532978292835]      2\n",
              "105     [-1.772499077960035, 1.7172884693761445]      2\n",
              "101      [-0.549531726649465, 2.293128643245626]      2\n",
              "177    [-3.2087581641980236, -2.768919566047572]      2\n",
              "\n",
              "[178 rows x 2 columns]"
            ]
          },
          "metadata": {},
          "execution_count": 36
        }
      ]
    },
    {
      "cell_type": "code",
      "metadata": {
        "colab": {
          "base_uri": "https://localhost:8080/",
          "height": 414
        },
        "id": "FVZf96ttO-Ju",
        "outputId": "b3d37c8a-e66f-42d3-e50f-e4b9dd15ff55"
      },
      "source": [
        "grupoDbScanEuclidean = []\n",
        "for i in range(len(G_dbscan_Euclidean)):\n",
        "  grupoDbScanEuclidean.append([list(dfWines_reduced.iloc[i].values),int(G_dbscan_Euclidean[i])])\n",
        "\n",
        "pd.DataFrame(grupoDbScanEuclidean, columns=[\"Coordenada do Dado\", \"Grupo\"]).sort_values(by='Grupo')"
      ],
      "execution_count": null,
      "outputs": [
        {
          "output_type": "execute_result",
          "data": {
            "text/html": [
              "<div>\n",
              "<style scoped>\n",
              "    .dataframe tbody tr th:only-of-type {\n",
              "        vertical-align: middle;\n",
              "    }\n",
              "\n",
              "    .dataframe tbody tr th {\n",
              "        vertical-align: top;\n",
              "    }\n",
              "\n",
              "    .dataframe thead th {\n",
              "        text-align: right;\n",
              "    }\n",
              "</style>\n",
              "<table border=\"1\" class=\"dataframe\">\n",
              "  <thead>\n",
              "    <tr style=\"text-align: right;\">\n",
              "      <th></th>\n",
              "      <th>Coordenada do Dado</th>\n",
              "      <th>Grupo</th>\n",
              "    </tr>\n",
              "  </thead>\n",
              "  <tbody>\n",
              "    <tr>\n",
              "      <th>18</th>\n",
              "      <td>[3.541985081943469, -2.51834366930665]</td>\n",
              "      <td>-1</td>\n",
              "    </tr>\n",
              "    <tr>\n",
              "      <th>50</th>\n",
              "      <td>[3.2149174747738227, -0.16699199499679399]</td>\n",
              "      <td>-1</td>\n",
              "    </tr>\n",
              "    <tr>\n",
              "      <th>80</th>\n",
              "      <td>[0.7620639041096007, 3.3750538099635357]</td>\n",
              "      <td>-1</td>\n",
              "    </tr>\n",
              "    <tr>\n",
              "      <th>14</th>\n",
              "      <td>[4.31278390676556, -2.0959755753412663]</td>\n",
              "      <td>-1</td>\n",
              "    </tr>\n",
              "    <tr>\n",
              "      <th>45</th>\n",
              "      <td>[1.1361661775610163, -1.7771073929776402]</td>\n",
              "      <td>-1</td>\n",
              "    </tr>\n",
              "    <tr>\n",
              "      <th>...</th>\n",
              "      <td>...</td>\n",
              "      <td>...</td>\n",
              "    </tr>\n",
              "    <tr>\n",
              "      <th>148</th>\n",
              "      <td>[-2.8070637200816604, -1.5705337870411966]</td>\n",
              "      <td>2</td>\n",
              "    </tr>\n",
              "    <tr>\n",
              "      <th>149</th>\n",
              "      <td>[-2.8996593330239127, -2.0410570079384636]</td>\n",
              "      <td>2</td>\n",
              "    </tr>\n",
              "    <tr>\n",
              "      <th>150</th>\n",
              "      <td>[-2.320736976549206, -2.3563660755566724]</td>\n",
              "      <td>2</td>\n",
              "    </tr>\n",
              "    <tr>\n",
              "      <th>152</th>\n",
              "      <td>[-1.8125412848422984, -1.527645946268748]</td>\n",
              "      <td>2</td>\n",
              "    </tr>\n",
              "    <tr>\n",
              "      <th>177</th>\n",
              "      <td>[-3.2087581641980236, -2.768919566047572]</td>\n",
              "      <td>2</td>\n",
              "    </tr>\n",
              "  </tbody>\n",
              "</table>\n",
              "<p>178 rows × 2 columns</p>\n",
              "</div>"
            ],
            "text/plain": [
              "                             Coordenada do Dado  Grupo\n",
              "18       [3.541985081943469, -2.51834366930665]     -1\n",
              "50   [3.2149174747738227, -0.16699199499679399]     -1\n",
              "80     [0.7620639041096007, 3.3750538099635357]     -1\n",
              "14      [4.31278390676556, -2.0959755753412663]     -1\n",
              "45    [1.1361661775610163, -1.7771073929776402]     -1\n",
              "..                                          ...    ...\n",
              "148  [-2.8070637200816604, -1.5705337870411966]      2\n",
              "149  [-2.8996593330239127, -2.0410570079384636]      2\n",
              "150   [-2.320736976549206, -2.3563660755566724]      2\n",
              "152   [-1.8125412848422984, -1.527645946268748]      2\n",
              "177   [-3.2087581641980236, -2.768919566047572]      2\n",
              "\n",
              "[178 rows x 2 columns]"
            ]
          },
          "metadata": {},
          "execution_count": 37
        }
      ]
    },
    {
      "cell_type": "code",
      "metadata": {
        "colab": {
          "base_uri": "https://localhost:8080/",
          "height": 414
        },
        "id": "2i21TVR7PIGX",
        "outputId": "80c8a4d3-b66a-421b-d204-4d6401f08ade"
      },
      "source": [
        "grupoDbScanManhattan = []\n",
        "for i in range(len(G_dbscan_Manhattan)):\n",
        "  grupoDbScanManhattan.append([list(dfWines_reduced.iloc[i].values),int(G_dbscan_Manhattan[i])])\n",
        "\n",
        "pd.DataFrame(grupoDbScanManhattan, columns=[\"Coordenada do Dado\", \"Grupo\"]).sort_values(by='Grupo')"
      ],
      "execution_count": null,
      "outputs": [
        {
          "output_type": "execute_result",
          "data": {
            "text/html": [
              "<div>\n",
              "<style scoped>\n",
              "    .dataframe tbody tr th:only-of-type {\n",
              "        vertical-align: middle;\n",
              "    }\n",
              "\n",
              "    .dataframe tbody tr th {\n",
              "        vertical-align: top;\n",
              "    }\n",
              "\n",
              "    .dataframe thead th {\n",
              "        text-align: right;\n",
              "    }\n",
              "</style>\n",
              "<table border=\"1\" class=\"dataframe\">\n",
              "  <thead>\n",
              "    <tr style=\"text-align: right;\">\n",
              "      <th></th>\n",
              "      <th>Coordenada do Dado</th>\n",
              "      <th>Grupo</th>\n",
              "    </tr>\n",
              "  </thead>\n",
              "  <tbody>\n",
              "    <tr>\n",
              "      <th>115</th>\n",
              "      <td>[0.4820744097730959, 3.871783848407241]</td>\n",
              "      <td>-1</td>\n",
              "    </tr>\n",
              "    <tr>\n",
              "      <th>158</th>\n",
              "      <td>[-1.0481818968536787, -3.5150896912197283]</td>\n",
              "      <td>-1</td>\n",
              "    </tr>\n",
              "    <tr>\n",
              "      <th>130</th>\n",
              "      <td>[-1.3271016561416027, -0.17038923204902762]</td>\n",
              "      <td>-1</td>\n",
              "    </tr>\n",
              "    <tr>\n",
              "      <th>3</th>\n",
              "      <td>[3.7570656097732025, -2.7563719137107148]</td>\n",
              "      <td>-1</td>\n",
              "    </tr>\n",
              "    <tr>\n",
              "      <th>18</th>\n",
              "      <td>[3.541985081943469, -2.51834366930665]</td>\n",
              "      <td>-1</td>\n",
              "    </tr>\n",
              "    <tr>\n",
              "      <th>...</th>\n",
              "      <td>...</td>\n",
              "      <td>...</td>\n",
              "    </tr>\n",
              "    <tr>\n",
              "      <th>148</th>\n",
              "      <td>[-2.8070637200816604, -1.5705337870411966]</td>\n",
              "      <td>2</td>\n",
              "    </tr>\n",
              "    <tr>\n",
              "      <th>149</th>\n",
              "      <td>[-2.8996593330239127, -2.0410570079384636]</td>\n",
              "      <td>2</td>\n",
              "    </tr>\n",
              "    <tr>\n",
              "      <th>150</th>\n",
              "      <td>[-2.320736976549206, -2.3563660755566724]</td>\n",
              "      <td>2</td>\n",
              "    </tr>\n",
              "    <tr>\n",
              "      <th>152</th>\n",
              "      <td>[-1.8125412848422984, -1.527645946268748]</td>\n",
              "      <td>2</td>\n",
              "    </tr>\n",
              "    <tr>\n",
              "      <th>177</th>\n",
              "      <td>[-3.2087581641980236, -2.768919566047572]</td>\n",
              "      <td>2</td>\n",
              "    </tr>\n",
              "  </tbody>\n",
              "</table>\n",
              "<p>178 rows × 2 columns</p>\n",
              "</div>"
            ],
            "text/plain": [
              "                              Coordenada do Dado  Grupo\n",
              "115      [0.4820744097730959, 3.871783848407241]     -1\n",
              "158   [-1.0481818968536787, -3.5150896912197283]     -1\n",
              "130  [-1.3271016561416027, -0.17038923204902762]     -1\n",
              "3      [3.7570656097732025, -2.7563719137107148]     -1\n",
              "18        [3.541985081943469, -2.51834366930665]     -1\n",
              "..                                           ...    ...\n",
              "148   [-2.8070637200816604, -1.5705337870411966]      2\n",
              "149   [-2.8996593330239127, -2.0410570079384636]      2\n",
              "150    [-2.320736976549206, -2.3563660755566724]      2\n",
              "152    [-1.8125412848422984, -1.527645946268748]      2\n",
              "177    [-3.2087581641980236, -2.768919566047572]      2\n",
              "\n",
              "[178 rows x 2 columns]"
            ]
          },
          "metadata": {},
          "execution_count": 38
        }
      ]
    },
    {
      "cell_type": "markdown",
      "metadata": {
        "id": "UqDfyKyAI76R"
      },
      "source": [
        "#### Exercício 7 - Visualização dos dados"
      ]
    },
    {
      "cell_type": "markdown",
      "metadata": {
        "id": "tK6jDAhgkhpU"
      },
      "source": [
        "###### K-Means com Distância Euclidiana"
      ]
    },
    {
      "cell_type": "code",
      "metadata": {
        "colab": {
          "base_uri": "https://localhost:8080/",
          "height": 265
        },
        "id": "Se4DjYuDlDl0",
        "outputId": "02eadb30-5469-4280-a4f9-af56dd73e398"
      },
      "source": [
        "plt.scatter(dfWines_reduced[\"x\"], dfWines_reduced[\"y\"],c=G_kmeans_Euclidean)\n",
        "plt.scatter(C_Euclidean.values[:,0],C_Euclidean.values[:,1],s = 120,c='red')\n",
        "plt.show()"
      ],
      "execution_count": null,
      "outputs": [
        {
          "output_type": "display_data",
          "data": {
            "image/png": "[encoded data removed]",
            "text/plain": [
              "<Figure size 432x288 with 1 Axes>"
            ]
          },
          "metadata": {
            "needs_background": "light"
          }
        }
      ]
    },
    {
      "cell_type": "markdown",
      "metadata": {
        "id": "n3w73mYEk578"
      },
      "source": [
        "###### K-Means com Correlação de Pearson"
      ]
    },
    {
      "cell_type": "code",
      "metadata": {
        "colab": {
          "base_uri": "https://localhost:8080/",
          "height": 265
        },
        "id": "ijZ5Us5XlGkE",
        "outputId": "f4f59919-6e66-439e-e468-198bd72d96d7"
      },
      "source": [
        "plt.scatter(dfWines_reduced[\"x\"], dfWines_reduced[\"y\"],c=G_kmeans_Pearson)\n",
        "plt.scatter(C_Pearson.values[:,0],C_Pearson.values[:,1],s = 120,c='red')\n",
        "plt.show()"
      ],
      "execution_count": null,
      "outputs": [
        {
          "output_type": "display_data",
          "data": {
            "image/png": "[encoded data removed]",
            "text/plain": [
              "<Figure size 432x288 with 1 Axes>"
            ]
          },
          "metadata": {
            "needs_background": "light"
          }
        }
      ]
    },
    {
      "cell_type": "markdown",
      "metadata": {
        "id": "RjbvxnR7k7vL"
      },
      "source": [
        "###### DBScan com Distância Euclidiana"
      ]
    },
    {
      "cell_type": "code",
      "metadata": {
        "id": "euuo6NMjlJ_b",
        "colab": {
          "base_uri": "https://localhost:8080/",
          "height": 265
        },
        "outputId": "916cbc2e-7e4a-437c-ff0e-f4f9d39d3e7f"
      },
      "source": [
        "plt.scatter(dfWines_reduced[\"x\"], dfWines_reduced[\"y\"],c=G_dbscan_Euclidean)\n",
        "plt.show()"
      ],
      "execution_count": null,
      "outputs": [
        {
          "output_type": "display_data",
          "data": {
            "image/png": "[encoded data removed]",
            "text/plain": [
              "<Figure size 432x288 with 1 Axes>"
            ]
          },
          "metadata": {
            "needs_background": "light"
          }
        }
      ]
    },
    {
      "cell_type": "markdown",
      "metadata": {
        "id": "tsqMxrCTk9no"
      },
      "source": [
        "###### DBScan com Distância Manhattan"
      ]
    },
    {
      "cell_type": "code",
      "metadata": {
        "id": "2yjAgi47lNd_",
        "colab": {
          "base_uri": "https://localhost:8080/",
          "height": 265
        },
        "outputId": "deac24b4-0f81-4bed-f422-b03ca0ecffe5"
      },
      "source": [
        "plt.scatter(dfWines_reduced[\"x\"], dfWines_reduced[\"y\"],c=G_dbscan_Manhattan)\n",
        "plt.show()"
      ],
      "execution_count": null,
      "outputs": [
        {
          "output_type": "display_data",
          "data": {
            "image/png": "[encoded data removed]",
            "text/plain": [
              "<Figure size 432x288 with 1 Axes>"
            ]
          },
          "metadata": {
            "needs_background": "light"
          }
        }
      ]
    },
    {
      "cell_type": "markdown",
      "metadata": {
        "id": "zWOKrZkOksIo"
      },
      "source": [
        "#### Exercício 8 - Avaliação dos agrupamentos"
      ]
    },
    {
      "cell_type": "markdown",
      "metadata": {
        "id": "zTaj1RZfyHvB"
      },
      "source": [
        "###### Índice de Dunn - K-Means com Distância Euclidiana"
      ]
    },
    {
      "cell_type": "code",
      "metadata": {
        "id": "q8yBxcTBzMbX",
        "colab": {
          "base_uri": "https://localhost:8080/"
        },
        "outputId": "7ee4f13c-896d-4aa5-9b6e-b83de495c778"
      },
      "source": [
        "#Numero de Grupos\n",
        "k = 3\n",
        "dfLabel = pd.DataFrame(G_kmeans_Euclidean)\n",
        "intraGrupos = []\n",
        "\n",
        "for i in range(k):\n",
        "  objetosGrupoi = dfWines_reduced.iloc[dfLabel[dfLabel[0]==i].index].values\n",
        "\n",
        "  distanciasIntraGi = []\n",
        "  for i1 in range(len(objetosGrupoi)):\n",
        "    for i2 in range(i1+1,len(objetosGrupoi)):\n",
        "      distanciasIntraGi.append(distance.euclidean(objetosGrupoi[i1],objetosGrupoi[i2]))\n",
        "\n",
        "  intraGrupos.append(max(distanciasIntraGi))\n",
        "\n",
        "intraGrupos"
      ],
      "execution_count": null,
      "outputs": [
        {
          "output_type": "execute_result",
          "data": {
            "text/plain": [
              "[4.969098735199037, 4.218701005232884, 4.235914914442084]"
            ]
          },
          "metadata": {},
          "execution_count": 39
        }
      ]
    },
    {
      "cell_type": "code",
      "metadata": {
        "colab": {
          "base_uri": "https://localhost:8080/"
        },
        "id": "pSABzZ0rSDDq",
        "outputId": "99181242-b66e-42de-d397-1484ca90445b"
      },
      "source": [
        "maxIntraGrupos = max(intraGrupos)\n",
        "maxIntraGrupos"
      ],
      "execution_count": null,
      "outputs": [
        {
          "output_type": "execute_result",
          "data": {
            "text/plain": [
              "4.969098735199037"
            ]
          },
          "metadata": {},
          "execution_count": 40
        }
      ]
    },
    {
      "cell_type": "code",
      "metadata": {
        "id": "v9bd6uxr9PbU"
      },
      "source": [
        "def interGiGj(grupoI, grupoJ):\n",
        "  soma = 0\n",
        "  for i in range(len(grupoI)):\n",
        "    for j in range(len(grupoJ)):\n",
        "      soma+=distance.euclidean(grupoI[i],grupoJ[j])\n",
        "  \n",
        "  return soma*(1/(len(grupoI)*len(grupoJ)))\n"
      ],
      "execution_count": null,
      "outputs": []
    },
    {
      "cell_type": "code",
      "metadata": {
        "colab": {
          "base_uri": "https://localhost:8080/"
        },
        "id": "80yC5A-52aCN",
        "outputId": "6679cc29-dc4c-4319-d99f-113c1fde436c"
      },
      "source": [
        "interGrupos = []\n",
        "for i in range(k):\n",
        "  for j in range(i+1,k):\n",
        "    interGrupos.append(interGiGj(dfWines_reduced.iloc[dfLabel[dfLabel[0]==i].index].values, dfWines_reduced.iloc[dfLabel[dfLabel[0]==j].index].values))\n",
        "\n",
        "interGrupos"
      ],
      "execution_count": null,
      "outputs": [
        {
          "output_type": "execute_result",
          "data": {
            "text/plain": [
              "[4.167625106693842, 5.190235294694085, 3.770346681311093]"
            ]
          },
          "metadata": {},
          "execution_count": 42
        }
      ]
    },
    {
      "cell_type": "code",
      "metadata": {
        "colab": {
          "base_uri": "https://localhost:8080/"
        },
        "id": "1XXeGsiTSVS7",
        "outputId": "58086023-593a-453f-a966-03088cc1e2e2"
      },
      "source": [
        "minInterGrupos = min(interGrupos)\n",
        "minInterGrupos"
      ],
      "execution_count": null,
      "outputs": [
        {
          "output_type": "execute_result",
          "data": {
            "text/plain": [
              "3.770346681311093"
            ]
          },
          "metadata": {},
          "execution_count": 43
        }
      ]
    },
    {
      "cell_type": "code",
      "metadata": {
        "colab": {
          "base_uri": "https://localhost:8080/"
        },
        "id": "PBAiGvRHSZJZ",
        "outputId": "bd2859b0-5d70-4f4e-92f8-8049c96d1978"
      },
      "source": [
        "indDunnOKmeansEuclidean = minInterGrupos/maxIntraGrupos\n",
        "indDunnOKmeansEuclidean"
      ],
      "execution_count": null,
      "outputs": [
        {
          "output_type": "execute_result",
          "data": {
            "text/plain": [
              "0.7587586566963378"
            ]
          },
          "metadata": {},
          "execution_count": 44
        }
      ]
    },
    {
      "cell_type": "markdown",
      "metadata": {
        "id": "s4cfvpIkyPqy"
      },
      "source": [
        "###### Índice de Dunn - K-Means com Distância de Pearson"
      ]
    },
    {
      "cell_type": "code",
      "metadata": {
        "colab": {
          "base_uri": "https://localhost:8080/"
        },
        "id": "zlppA_w4SqOo",
        "outputId": "2412c48b-cb87-4892-a52e-ec873712fc28"
      },
      "source": [
        "#Numero de Grupos\n",
        "k = 3\n",
        "dfLabel = pd.DataFrame(G_kmeans_Pearson)\n",
        "print(dfLabel)\n",
        "intraGrupos = []\n",
        "\n",
        "for i in range(k):\n",
        "  objetosGrupoi = dfWines_reduced.iloc[dfLabel[dfLabel[0]==i].index].values\n",
        "\n",
        "  distanciasIntraGi = []\n",
        "  for i1 in range(len(objetosGrupoi)):\n",
        "    for i2 in range(i1+1,len(objetosGrupoi)):\n",
        "      distanciasIntraGi.append(distance.euclidean(objetosGrupoi[i1],objetosGrupoi[i2]))\n",
        "\n",
        "  intraGrupos.append(max(distanciasIntraGi))\n",
        "\n",
        "intraGrupos"
      ],
      "execution_count": null,
      "outputs": [
        {
          "output_type": "stream",
          "name": "stdout",
          "text": [
            "       0\n",
            "0    1.0\n",
            "1    0.0\n",
            "2    1.0\n",
            "3    1.0\n",
            "4    1.0\n",
            "..   ...\n",
            "173  2.0\n",
            "174  2.0\n",
            "175  2.0\n",
            "176  2.0\n",
            "177  2.0\n",
            "\n",
            "[178 rows x 1 columns]\n"
          ]
        },
        {
          "output_type": "execute_result",
          "data": {
            "text/plain": [
              "[5.820756787599204, 5.930838169745031, 6.271595346203353]"
            ]
          },
          "metadata": {},
          "execution_count": 45
        }
      ]
    },
    {
      "cell_type": "code",
      "metadata": {
        "colab": {
          "base_uri": "https://localhost:8080/"
        },
        "id": "zh9gBGxkSqOp",
        "outputId": "8c01acf6-4c67-4193-88ca-f4c6135e2142"
      },
      "source": [
        "maxIntraGrupos = max(intraGrupos)\n",
        "maxIntraGrupos"
      ],
      "execution_count": null,
      "outputs": [
        {
          "output_type": "execute_result",
          "data": {
            "text/plain": [
              "6.271595346203353"
            ]
          },
          "metadata": {},
          "execution_count": 46
        }
      ]
    },
    {
      "cell_type": "code",
      "metadata": {
        "id": "EcvQBcY4SqOq"
      },
      "source": [
        "def interGiGj(grupoI, grupoJ):\n",
        "  soma = 0\n",
        "  for i in range(len(grupoI)):\n",
        "    for j in range(len(grupoJ)):\n",
        "      soma+=distance.euclidean(grupoI[i],grupoJ[j])\n",
        "  \n",
        "  return soma*(1/(len(grupoI)*len(grupoJ)))\n"
      ],
      "execution_count": null,
      "outputs": []
    },
    {
      "cell_type": "code",
      "metadata": {
        "colab": {
          "base_uri": "https://localhost:8080/"
        },
        "id": "5dHLZ6sCSqOq",
        "outputId": "5c05d12e-e128-4149-86c6-1c6aa107665c"
      },
      "source": [
        "interGrupos = []\n",
        "for i in range(k):\n",
        "  for j in range(i+1,k):\n",
        "    interGrupos.append(interGiGj(dfWines_reduced.iloc[dfLabel[dfLabel[0]==i].index].values, dfWines_reduced.iloc[dfLabel[dfLabel[0]==j].index].values))\n",
        "\n",
        "interGrupos"
      ],
      "execution_count": null,
      "outputs": [
        {
          "output_type": "execute_result",
          "data": {
            "text/plain": [
              "[2.931403044178537, 4.090158374760398, 4.955435425718247]"
            ]
          },
          "metadata": {},
          "execution_count": 48
        }
      ]
    },
    {
      "cell_type": "code",
      "metadata": {
        "colab": {
          "base_uri": "https://localhost:8080/"
        },
        "id": "HFaCkLQ7SqOq",
        "outputId": "c4ad99e4-5f47-49a4-b981-da73d4c528e6"
      },
      "source": [
        "minInterGrupos = min(interGrupos)\n",
        "minInterGrupos"
      ],
      "execution_count": null,
      "outputs": [
        {
          "output_type": "execute_result",
          "data": {
            "text/plain": [
              "2.931403044178537"
            ]
          },
          "metadata": {},
          "execution_count": 49
        }
      ]
    },
    {
      "cell_type": "code",
      "metadata": {
        "colab": {
          "base_uri": "https://localhost:8080/"
        },
        "id": "-wjNHKAoSqOq",
        "outputId": "6b645e2a-a8d0-4fd1-cbf1-9a8e9c5b2b95"
      },
      "source": [
        "indDunnOKmeansPearson = minInterGrupos/maxIntraGrupos\n",
        "indDunnOKmeansPearson"
      ],
      "execution_count": null,
      "outputs": [
        {
          "output_type": "execute_result",
          "data": {
            "text/plain": [
              "0.4674094679837923"
            ]
          },
          "metadata": {},
          "execution_count": 50
        }
      ]
    },
    {
      "cell_type": "markdown",
      "metadata": {
        "id": "5wIB1yIiyhcF"
      },
      "source": [
        "###### Índice de Dunn - DBScan com Distância Euclidiana"
      ]
    },
    {
      "cell_type": "code",
      "metadata": {
        "colab": {
          "base_uri": "https://localhost:8080/"
        },
        "id": "OF-AzGd9Tw8q",
        "outputId": "561cf3ef-c6dd-40c6-f1e0-3bc3a6017e33"
      },
      "source": [
        "#Numero de Grupos\n",
        "k = 2\n",
        "dfLabel = pd.DataFrame(G_dbscan_Euclidean)\n",
        "intraGrupos = []\n",
        "\n",
        "for i in range(k):\n",
        "  objetosGrupoi = dfWines_reduced.iloc[dfLabel[dfLabel[0]==i+1].index].values\n",
        "  distanciasIntraGi = []\n",
        "  for i1 in range(len(objetosGrupoi)):\n",
        "    for i2 in range(i1+1,len(objetosGrupoi)):\n",
        "      distanciasIntraGi.append(distance.euclidean(objetosGrupoi[i1],objetosGrupoi[i2]))\n",
        "\n",
        "  intraGrupos.append(max(distanciasIntraGi))\n",
        "\n",
        "intraGrupos"
      ],
      "execution_count": null,
      "outputs": [
        {
          "output_type": "execute_result",
          "data": {
            "text/plain": [
              "[6.595707187345268, 3.3357604177497517]"
            ]
          },
          "metadata": {},
          "execution_count": 51
        }
      ]
    },
    {
      "cell_type": "code",
      "metadata": {
        "colab": {
          "base_uri": "https://localhost:8080/"
        },
        "id": "X-ZMzYRBTw8x",
        "outputId": "864ea09b-f482-49da-b735-232c15b26e35"
      },
      "source": [
        "maxIntraGrupos = max(intraGrupos)\n",
        "maxIntraGrupos"
      ],
      "execution_count": null,
      "outputs": [
        {
          "output_type": "execute_result",
          "data": {
            "text/plain": [
              "6.595707187345268"
            ]
          },
          "metadata": {},
          "execution_count": 52
        }
      ]
    },
    {
      "cell_type": "code",
      "metadata": {
        "id": "D2tUlPJZTw8y"
      },
      "source": [
        "def interGiGj(grupoI, grupoJ):\n",
        "  soma = 0\n",
        "  for i in range(len(grupoI)):\n",
        "    for j in range(len(grupoJ)):\n",
        "      soma+=distance.euclidean(grupoI[i],grupoJ[j])\n",
        "  \n",
        "  return soma*(1/(len(grupoI)*len(grupoJ)))\n"
      ],
      "execution_count": null,
      "outputs": []
    },
    {
      "cell_type": "code",
      "metadata": {
        "colab": {
          "base_uri": "https://localhost:8080/"
        },
        "id": "06JIo-AMTw8y",
        "outputId": "6ded2ea1-400c-4fa5-fe21-ad62286d95cb"
      },
      "source": [
        "interGrupos = []\n",
        "for i in range(k):\n",
        "  for j in range(i+1,k):\n",
        "    interGrupos.append(interGiGj(dfWines_reduced.iloc[dfLabel[dfLabel[0]==i+1].index].values, dfWines_reduced.iloc[dfLabel[dfLabel[0]==j+1].index].values))\n",
        "\n",
        "interGrupos"
      ],
      "execution_count": null,
      "outputs": [
        {
          "output_type": "execute_result",
          "data": {
            "text/plain": [
              "[4.606457625709083]"
            ]
          },
          "metadata": {},
          "execution_count": 54
        }
      ]
    },
    {
      "cell_type": "code",
      "metadata": {
        "colab": {
          "base_uri": "https://localhost:8080/"
        },
        "id": "bBMwfAMvTw8y",
        "outputId": "29203645-4963-4dd5-eb08-14d0eb145ed6"
      },
      "source": [
        "minInterGrupos = min(interGrupos)\n",
        "minInterGrupos"
      ],
      "execution_count": null,
      "outputs": [
        {
          "output_type": "execute_result",
          "data": {
            "text/plain": [
              "4.606457625709083"
            ]
          },
          "metadata": {},
          "execution_count": 55
        }
      ]
    },
    {
      "cell_type": "code",
      "metadata": {
        "colab": {
          "base_uri": "https://localhost:8080/"
        },
        "id": "K1KDjgD8Tw8y",
        "outputId": "37cc4cf2-d416-4756-a472-67baa7f09c5a"
      },
      "source": [
        "indDunnODbScanEuclidean = minInterGrupos/maxIntraGrupos\n",
        "indDunnODbScanEuclidean"
      ],
      "execution_count": null,
      "outputs": [
        {
          "output_type": "execute_result",
          "data": {
            "text/plain": [
              "0.69840238428825"
            ]
          },
          "metadata": {},
          "execution_count": 56
        }
      ]
    },
    {
      "cell_type": "markdown",
      "metadata": {
        "id": "eWhM7cEYyhcN"
      },
      "source": [
        "###### Índice de Dunn - DBScan com Distância de Manhattan"
      ]
    },
    {
      "cell_type": "code",
      "metadata": {
        "colab": {
          "base_uri": "https://localhost:8080/"
        },
        "id": "HCCPBNcMYdrq",
        "outputId": "50ead66d-880c-4e9d-fc08-5c293c7c0501"
      },
      "source": [
        "#Numero de Grupos\n",
        "k = 2\n",
        "dfLabel = pd.DataFrame(G_dbscan_Manhattan)\n",
        "intraGrupos = []\n",
        "\n",
        "for i in range(k):\n",
        "  objetosGrupoi = dfWines_reduced.iloc[dfLabel[dfLabel[0]==i+1].index].values\n",
        "  distanciasIntraGi = []\n",
        "  for i1 in range(len(objetosGrupoi)):\n",
        "    for i2 in range(i1+1,len(objetosGrupoi)):\n",
        "      distanciasIntraGi.append(distance.euclidean(objetosGrupoi[i1],objetosGrupoi[i2]))\n",
        "\n",
        "  intraGrupos.append(max(distanciasIntraGi))\n",
        "\n",
        "intraGrupos"
      ],
      "execution_count": null,
      "outputs": [
        {
          "output_type": "execute_result",
          "data": {
            "text/plain": [
              "[6.595707187345268, 3.3357604177497517]"
            ]
          },
          "metadata": {},
          "execution_count": 57
        }
      ]
    },
    {
      "cell_type": "code",
      "metadata": {
        "colab": {
          "base_uri": "https://localhost:8080/"
        },
        "id": "FcGpiUsaYdrx",
        "outputId": "5316841f-1bca-45b3-f219-3242cebec716"
      },
      "source": [
        "maxIntraGrupos = max(intraGrupos)\n",
        "maxIntraGrupos"
      ],
      "execution_count": null,
      "outputs": [
        {
          "output_type": "execute_result",
          "data": {
            "text/plain": [
              "6.595707187345268"
            ]
          },
          "metadata": {},
          "execution_count": 58
        }
      ]
    },
    {
      "cell_type": "code",
      "metadata": {
        "id": "pZyIJ3AyYdrx"
      },
      "source": [
        "def interGiGj(grupoI, grupoJ):\n",
        "  soma = 0\n",
        "  for i in range(len(grupoI)):\n",
        "    for j in range(len(grupoJ)):\n",
        "      soma+=distance.euclidean(grupoI[i],grupoJ[j])\n",
        "  \n",
        "  return soma*(1/(len(grupoI)*len(grupoJ)))\n"
      ],
      "execution_count": null,
      "outputs": []
    },
    {
      "cell_type": "code",
      "metadata": {
        "colab": {
          "base_uri": "https://localhost:8080/"
        },
        "id": "hiF9IZnIYdrx",
        "outputId": "0c0ddead-6df0-4253-b8f4-8baf44e4bffc"
      },
      "source": [
        "interGrupos = []\n",
        "for i in range(k):\n",
        "  for j in range(i+1,k):\n",
        "    interGrupos.append(interGiGj(dfWines_reduced.iloc[dfLabel[dfLabel[0]==i+1].index].values, dfWines_reduced.iloc[dfLabel[dfLabel[0]==j+1].index].values))\n",
        "\n",
        "interGrupos"
      ],
      "execution_count": null,
      "outputs": [
        {
          "output_type": "execute_result",
          "data": {
            "text/plain": [
              "[4.613912268177583]"
            ]
          },
          "metadata": {},
          "execution_count": 60
        }
      ]
    },
    {
      "cell_type": "code",
      "metadata": {
        "colab": {
          "base_uri": "https://localhost:8080/"
        },
        "id": "OgiZXbo-Ydry",
        "outputId": "ac77dea7-c73a-4d98-8c97-ba9e1cb45687"
      },
      "source": [
        "minInterGrupos = min(interGrupos)\n",
        "minInterGrupos"
      ],
      "execution_count": null,
      "outputs": [
        {
          "output_type": "execute_result",
          "data": {
            "text/plain": [
              "4.613912268177583"
            ]
          },
          "metadata": {},
          "execution_count": 61
        }
      ]
    },
    {
      "cell_type": "code",
      "metadata": {
        "colab": {
          "base_uri": "https://localhost:8080/"
        },
        "id": "L_cIlDlSYdry",
        "outputId": "a59e555a-2cf3-4918-da8a-4d5836bb2e39"
      },
      "source": [
        "indDunnODbScanManhattan = minInterGrupos/maxIntraGrupos\n",
        "indDunnODbScanManhattan"
      ],
      "execution_count": null,
      "outputs": [
        {
          "output_type": "execute_result",
          "data": {
            "text/plain": [
              "0.699532610700181"
            ]
          },
          "metadata": {},
          "execution_count": 62
        }
      ]
    },
    {
      "cell_type": "markdown",
      "metadata": {
        "id": "4ahbmplKysAl"
      },
      "source": [
        "###### Índice de Silhueta - K-Means com Distância Euclidiana"
      ]
    },
    {
      "cell_type": "code",
      "metadata": {
        "id": "cAjWtoncTxJw"
      },
      "source": [
        "def A(j,dados, labels):\n",
        "  soma = 0\n",
        "  grupoJ = labels.loc[j].values[0]\n",
        "  for dadosGrupo in dados.iloc[labels[labels[0]==grupoJ].index].values:\n",
        "    soma += distance.euclidean(dados.iloc[labels[labels[0]==grupoJ].index].loc[j], dadosGrupo)\n",
        "  return soma/(len(dados.iloc[labels[labels[0]==grupoJ].index].values)-1)"
      ],
      "execution_count": null,
      "outputs": []
    },
    {
      "cell_type": "code",
      "metadata": {
        "id": "t0phIBD4VomT"
      },
      "source": [
        "def B(k,i,j,dados,labels):\n",
        "  grupos = list(range(k))\n",
        "  grupos.remove(i)\n",
        "  distanciasMediasGrupos = []\n",
        "  for grupo in grupos:\n",
        "    soma=0\n",
        "    for dado in dados.iloc[labels[labels[0]==grupo].index].values:\n",
        "      soma+= distance.euclidean(dados.iloc[labels[labels[0]==i].index].loc[j],dado)\n",
        "    distanciasMediasGrupos.append(soma/len(dados.iloc[labels[labels[0]==grupo].index].values))\n",
        "  return min(distanciasMediasGrupos)"
      ],
      "execution_count": null,
      "outputs": []
    },
    {
      "cell_type": "code",
      "metadata": {
        "colab": {
          "base_uri": "https://localhost:8080/"
        },
        "id": "lIiOrMkTa3fM",
        "outputId": "ae03d1a1-8d7e-400a-fec8-348b04397bc0"
      },
      "source": [
        "k = 3\n",
        "dfLabel = pd.DataFrame(G_kmeans_Euclidean)\n",
        "somaSilhAgrupamento = 0\n",
        "for i in range(k):\n",
        "  somaSilhGrupo = 0\n",
        "  for j in dfLabel[dfLabel[0]==i].index:\n",
        "    aj = A(j,dfWines_reduced,dfLabel)\n",
        "    bj = B(k,i,j,dfWines_reduced,dfLabel)\n",
        "\n",
        "    somaSilhGrupo += round((bj-aj)/max([bj,aj]),2)\n",
        "\n",
        "  somaSilhAgrupamento += round(somaSilhGrupo/len(dfLabel[dfLabel[0]==i].index),2)\n",
        "\n",
        "IndiceSilhKmeansEuclidean = round(somaSilhAgrupamento/k,2)\n",
        "IndiceSilhKmeansEuclidean"
      ],
      "execution_count": null,
      "outputs": [
        {
          "output_type": "execute_result",
          "data": {
            "text/plain": [
              "0.57"
            ]
          },
          "metadata": {},
          "execution_count": 40
        }
      ]
    },
    {
      "cell_type": "markdown",
      "metadata": {
        "id": "PpIGR3XzysAt"
      },
      "source": [
        "###### Índice de Silhueta - K-Means com Distância de Pearson"
      ]
    },
    {
      "cell_type": "code",
      "metadata": {
        "id": "ZQW-sQWvy1mj",
        "colab": {
          "base_uri": "https://localhost:8080/"
        },
        "outputId": "89033741-7529-4fd0-b619-05841478006a"
      },
      "source": [
        "k = 3\n",
        "dfLabel = pd.DataFrame(G_kmeans_Pearson)\n",
        "somaSilhAgrupamento = 0\n",
        "for i in range(k):\n",
        "  somaSilhGrupo = 0\n",
        "  for j in dfLabel[dfLabel[0]==i].index:\n",
        "    aj = A(j,dfWines_reduced,dfLabel)\n",
        "    bj = B(k,i,j,dfWines_reduced,dfLabel)\n",
        "\n",
        "    somaSilhGrupo += round((bj-aj)/max([bj,aj]),2)\n",
        "\n",
        "  somaSilhAgrupamento += round(somaSilhGrupo/len(dfLabel[dfLabel[0]==i].index),2)\n",
        "\n",
        "IndiceSilhKmeansPearson = round(somaSilhAgrupamento/k,2)\n",
        "IndiceSilhKmeansPearson"
      ],
      "execution_count": null,
      "outputs": [
        {
          "output_type": "execute_result",
          "data": {
            "text/plain": [
              "0.35"
            ]
          },
          "metadata": {},
          "execution_count": 70
        }
      ]
    },
    {
      "cell_type": "markdown",
      "metadata": {
        "id": "SzG6q-7xysAt"
      },
      "source": [
        "###### Índice de Silhueta - DBScan com Distância Euclidiana"
      ]
    },
    {
      "cell_type": "code",
      "metadata": {
        "id": "V-jUrcXvy2XI",
        "colab": {
          "base_uri": "https://localhost:8080/",
          "height": 572
        },
        "outputId": "9477661e-1551-4c5e-f5ed-fbdda8503a40"
      },
      "source": [
        "k = 2\n",
        "dfLabel = pd.DataFrame(G_dbscan_Euclidean)\n",
        "somaSilhAgrupamento = 0\n",
        "for i in range(k):\n",
        "  somaSilhGrupo = 0\n",
        "  for j in dfLabel[dfLabel[0]==i+1].index:\n",
        "    aj = A(j,dfWines_reduced,dfLabel)\n",
        "    bj = B(k,i,j,dfWines_reduced,dfLabel)\n",
        "\n",
        "    somaSilhGrupo += round((bj-aj)/max([bj,aj]),2)\n",
        "\n",
        "  somaSilhAgrupamento += round(somaSilhGrupo/len(dfLabel[dfLabel[0]==i+1].index),2)\n",
        "\n",
        "IndiceSilhDbScanEuclidean = round(somaSilhAgrupamento/k,2)\n",
        "IndiceSilhDbScanEuclidean"
      ],
      "execution_count": null,
      "outputs": [
        {
          "output_type": "error",
          "ename": "KeyError",
          "evalue": "ignored",
          "traceback": [
            "\u001b[0;31m---------------------------------------------------------------------------\u001b[0m",
            "\u001b[0;31mKeyError\u001b[0m                                  Traceback (most recent call last)",
            "\u001b[0;32m/usr/local/lib/python3.7/dist-packages/pandas/core/indexes/base.py\u001b[0m in \u001b[0;36mget_loc\u001b[0;34m(self, key, method, tolerance)\u001b[0m\n\u001b[1;32m   2897\u001b[0m             \u001b[0;32mtry\u001b[0m\u001b[0;34m:\u001b[0m\u001b[0;34m\u001b[0m\u001b[0;34m\u001b[0m\u001b[0m\n\u001b[0;32m-> 2898\u001b[0;31m                 \u001b[0;32mreturn\u001b[0m \u001b[0mself\u001b[0m\u001b[0;34m.\u001b[0m\u001b[0m_engine\u001b[0m\u001b[0;34m.\u001b[0m\u001b[0mget_loc\u001b[0m\u001b[0;34m(\u001b[0m\u001b[0mcasted_key\u001b[0m\u001b[0;34m)\u001b[0m\u001b[0;34m\u001b[0m\u001b[0;34m\u001b[0m\u001b[0m\n\u001b[0m\u001b[1;32m   2899\u001b[0m             \u001b[0;32mexcept\u001b[0m \u001b[0mKeyError\u001b[0m \u001b[0;32mas\u001b[0m \u001b[0merr\u001b[0m\u001b[0;34m:\u001b[0m\u001b[0;34m\u001b[0m\u001b[0;34m\u001b[0m\u001b[0m\n",
            "\u001b[0;32mpandas/_libs/index.pyx\u001b[0m in \u001b[0;36mpandas._libs.index.IndexEngine.get_loc\u001b[0;34m()\u001b[0m\n",
            "\u001b[0;32mpandas/_libs/index.pyx\u001b[0m in \u001b[0;36mpandas._libs.index.IndexEngine.get_loc\u001b[0;34m()\u001b[0m\n",
            "\u001b[0;32mpandas/_libs/hashtable_class_helper.pxi\u001b[0m in \u001b[0;36mpandas._libs.hashtable.Int64HashTable.get_item\u001b[0;34m()\u001b[0m\n",
            "\u001b[0;32mpandas/_libs/hashtable_class_helper.pxi\u001b[0m in \u001b[0;36mpandas._libs.hashtable.Int64HashTable.get_item\u001b[0;34m()\u001b[0m\n",
            "\u001b[0;31mKeyError\u001b[0m: 0",
            "\nThe above exception was the direct cause of the following exception:\n",
            "\u001b[0;31mKeyError\u001b[0m                                  Traceback (most recent call last)",
            "\u001b[0;32m<ipython-input-42-142c67735e45>\u001b[0m in \u001b[0;36m<module>\u001b[0;34m()\u001b[0m\n\u001b[1;32m      6\u001b[0m   \u001b[0;32mfor\u001b[0m \u001b[0mj\u001b[0m \u001b[0;32min\u001b[0m \u001b[0mdfLabel\u001b[0m\u001b[0;34m[\u001b[0m\u001b[0mdfLabel\u001b[0m\u001b[0;34m[\u001b[0m\u001b[0;36m0\u001b[0m\u001b[0;34m]\u001b[0m\u001b[0;34m==\u001b[0m\u001b[0mi\u001b[0m\u001b[0;34m+\u001b[0m\u001b[0;36m1\u001b[0m\u001b[0;34m]\u001b[0m\u001b[0;34m.\u001b[0m\u001b[0mindex\u001b[0m\u001b[0;34m:\u001b[0m\u001b[0;34m\u001b[0m\u001b[0;34m\u001b[0m\u001b[0m\n\u001b[1;32m      7\u001b[0m     \u001b[0maj\u001b[0m \u001b[0;34m=\u001b[0m \u001b[0mA\u001b[0m\u001b[0;34m(\u001b[0m\u001b[0mj\u001b[0m\u001b[0;34m,\u001b[0m\u001b[0mdfWines_reduced\u001b[0m\u001b[0;34m,\u001b[0m\u001b[0mdfLabel\u001b[0m\u001b[0;34m)\u001b[0m\u001b[0;34m\u001b[0m\u001b[0;34m\u001b[0m\u001b[0m\n\u001b[0;32m----> 8\u001b[0;31m     \u001b[0mbj\u001b[0m \u001b[0;34m=\u001b[0m \u001b[0mB\u001b[0m\u001b[0;34m(\u001b[0m\u001b[0mk\u001b[0m\u001b[0;34m,\u001b[0m\u001b[0mi\u001b[0m\u001b[0;34m,\u001b[0m\u001b[0mj\u001b[0m\u001b[0;34m,\u001b[0m\u001b[0mdfWines_reduced\u001b[0m\u001b[0;34m,\u001b[0m\u001b[0mdfLabel\u001b[0m\u001b[0;34m)\u001b[0m\u001b[0;34m\u001b[0m\u001b[0;34m\u001b[0m\u001b[0m\n\u001b[0m\u001b[1;32m      9\u001b[0m \u001b[0;34m\u001b[0m\u001b[0m\n\u001b[1;32m     10\u001b[0m     \u001b[0msomaSilhGrupo\u001b[0m \u001b[0;34m+=\u001b[0m \u001b[0mround\u001b[0m\u001b[0;34m(\u001b[0m\u001b[0;34m(\u001b[0m\u001b[0mbj\u001b[0m\u001b[0;34m-\u001b[0m\u001b[0maj\u001b[0m\u001b[0;34m)\u001b[0m\u001b[0;34m/\u001b[0m\u001b[0mmax\u001b[0m\u001b[0;34m(\u001b[0m\u001b[0;34m[\u001b[0m\u001b[0mbj\u001b[0m\u001b[0;34m,\u001b[0m\u001b[0maj\u001b[0m\u001b[0;34m]\u001b[0m\u001b[0;34m)\u001b[0m\u001b[0;34m,\u001b[0m\u001b[0;36m2\u001b[0m\u001b[0;34m)\u001b[0m\u001b[0;34m\u001b[0m\u001b[0;34m\u001b[0m\u001b[0m\n",
            "\u001b[0;32m<ipython-input-37-3275d0143c29>\u001b[0m in \u001b[0;36mB\u001b[0;34m(k, i, j, dados, labels)\u001b[0m\n\u001b[1;32m      6\u001b[0m     \u001b[0msoma\u001b[0m\u001b[0;34m=\u001b[0m\u001b[0;36m0\u001b[0m\u001b[0;34m\u001b[0m\u001b[0;34m\u001b[0m\u001b[0m\n\u001b[1;32m      7\u001b[0m     \u001b[0;32mfor\u001b[0m \u001b[0mdado\u001b[0m \u001b[0;32min\u001b[0m \u001b[0mdados\u001b[0m\u001b[0;34m.\u001b[0m\u001b[0miloc\u001b[0m\u001b[0;34m[\u001b[0m\u001b[0mlabels\u001b[0m\u001b[0;34m[\u001b[0m\u001b[0mlabels\u001b[0m\u001b[0;34m[\u001b[0m\u001b[0;36m0\u001b[0m\u001b[0;34m]\u001b[0m\u001b[0;34m==\u001b[0m\u001b[0mgrupo\u001b[0m\u001b[0;34m]\u001b[0m\u001b[0;34m.\u001b[0m\u001b[0mindex\u001b[0m\u001b[0;34m]\u001b[0m\u001b[0;34m.\u001b[0m\u001b[0mvalues\u001b[0m\u001b[0;34m:\u001b[0m\u001b[0;34m\u001b[0m\u001b[0;34m\u001b[0m\u001b[0m\n\u001b[0;32m----> 8\u001b[0;31m       \u001b[0msoma\u001b[0m\u001b[0;34m+=\u001b[0m \u001b[0mdistance\u001b[0m\u001b[0;34m.\u001b[0m\u001b[0meuclidean\u001b[0m\u001b[0;34m(\u001b[0m\u001b[0mdados\u001b[0m\u001b[0;34m.\u001b[0m\u001b[0miloc\u001b[0m\u001b[0;34m[\u001b[0m\u001b[0mlabels\u001b[0m\u001b[0;34m[\u001b[0m\u001b[0mlabels\u001b[0m\u001b[0;34m[\u001b[0m\u001b[0;36m0\u001b[0m\u001b[0;34m]\u001b[0m\u001b[0;34m==\u001b[0m\u001b[0mi\u001b[0m\u001b[0;34m]\u001b[0m\u001b[0;34m.\u001b[0m\u001b[0mindex\u001b[0m\u001b[0;34m]\u001b[0m\u001b[0;34m.\u001b[0m\u001b[0mloc\u001b[0m\u001b[0;34m[\u001b[0m\u001b[0mj\u001b[0m\u001b[0;34m]\u001b[0m\u001b[0;34m,\u001b[0m\u001b[0mdado\u001b[0m\u001b[0;34m)\u001b[0m\u001b[0;34m\u001b[0m\u001b[0;34m\u001b[0m\u001b[0m\n\u001b[0m\u001b[1;32m      9\u001b[0m     \u001b[0mdistanciasMediasGrupos\u001b[0m\u001b[0;34m.\u001b[0m\u001b[0mappend\u001b[0m\u001b[0;34m(\u001b[0m\u001b[0msoma\u001b[0m\u001b[0;34m/\u001b[0m\u001b[0mlen\u001b[0m\u001b[0;34m(\u001b[0m\u001b[0mdados\u001b[0m\u001b[0;34m.\u001b[0m\u001b[0miloc\u001b[0m\u001b[0;34m[\u001b[0m\u001b[0mlabels\u001b[0m\u001b[0;34m[\u001b[0m\u001b[0mlabels\u001b[0m\u001b[0;34m[\u001b[0m\u001b[0;36m0\u001b[0m\u001b[0;34m]\u001b[0m\u001b[0;34m==\u001b[0m\u001b[0mgrupo\u001b[0m\u001b[0;34m]\u001b[0m\u001b[0;34m.\u001b[0m\u001b[0mindex\u001b[0m\u001b[0;34m]\u001b[0m\u001b[0;34m.\u001b[0m\u001b[0mvalues\u001b[0m\u001b[0;34m)\u001b[0m\u001b[0;34m)\u001b[0m\u001b[0;34m\u001b[0m\u001b[0;34m\u001b[0m\u001b[0m\n\u001b[1;32m     10\u001b[0m   \u001b[0;32mreturn\u001b[0m \u001b[0mmin\u001b[0m\u001b[0;34m(\u001b[0m\u001b[0mdistanciasMediasGrupos\u001b[0m\u001b[0;34m)\u001b[0m\u001b[0;34m\u001b[0m\u001b[0;34m\u001b[0m\u001b[0m\n",
            "\u001b[0;32m/usr/local/lib/python3.7/dist-packages/pandas/core/indexing.py\u001b[0m in \u001b[0;36m__getitem__\u001b[0;34m(self, key)\u001b[0m\n\u001b[1;32m    877\u001b[0m \u001b[0;34m\u001b[0m\u001b[0m\n\u001b[1;32m    878\u001b[0m             \u001b[0mmaybe_callable\u001b[0m \u001b[0;34m=\u001b[0m \u001b[0mcom\u001b[0m\u001b[0;34m.\u001b[0m\u001b[0mapply_if_callable\u001b[0m\u001b[0;34m(\u001b[0m\u001b[0mkey\u001b[0m\u001b[0;34m,\u001b[0m \u001b[0mself\u001b[0m\u001b[0;34m.\u001b[0m\u001b[0mobj\u001b[0m\u001b[0;34m)\u001b[0m\u001b[0;34m\u001b[0m\u001b[0;34m\u001b[0m\u001b[0m\n\u001b[0;32m--> 879\u001b[0;31m             \u001b[0;32mreturn\u001b[0m \u001b[0mself\u001b[0m\u001b[0;34m.\u001b[0m\u001b[0m_getitem_axis\u001b[0m\u001b[0;34m(\u001b[0m\u001b[0mmaybe_callable\u001b[0m\u001b[0;34m,\u001b[0m \u001b[0maxis\u001b[0m\u001b[0;34m=\u001b[0m\u001b[0maxis\u001b[0m\u001b[0;34m)\u001b[0m\u001b[0;34m\u001b[0m\u001b[0;34m\u001b[0m\u001b[0m\n\u001b[0m\u001b[1;32m    880\u001b[0m \u001b[0;34m\u001b[0m\u001b[0m\n\u001b[1;32m    881\u001b[0m     \u001b[0;32mdef\u001b[0m \u001b[0m_is_scalar_access\u001b[0m\u001b[0;34m(\u001b[0m\u001b[0mself\u001b[0m\u001b[0;34m,\u001b[0m \u001b[0mkey\u001b[0m\u001b[0;34m:\u001b[0m \u001b[0mTuple\u001b[0m\u001b[0;34m)\u001b[0m\u001b[0;34m:\u001b[0m\u001b[0;34m\u001b[0m\u001b[0;34m\u001b[0m\u001b[0m\n",
            "\u001b[0;32m/usr/local/lib/python3.7/dist-packages/pandas/core/indexing.py\u001b[0m in \u001b[0;36m_getitem_axis\u001b[0;34m(self, key, axis)\u001b[0m\n\u001b[1;32m   1108\u001b[0m         \u001b[0;31m# fall thru to straight lookup\u001b[0m\u001b[0;34m\u001b[0m\u001b[0;34m\u001b[0m\u001b[0;34m\u001b[0m\u001b[0m\n\u001b[1;32m   1109\u001b[0m         \u001b[0mself\u001b[0m\u001b[0;34m.\u001b[0m\u001b[0m_validate_key\u001b[0m\u001b[0;34m(\u001b[0m\u001b[0mkey\u001b[0m\u001b[0;34m,\u001b[0m \u001b[0maxis\u001b[0m\u001b[0;34m)\u001b[0m\u001b[0;34m\u001b[0m\u001b[0;34m\u001b[0m\u001b[0m\n\u001b[0;32m-> 1110\u001b[0;31m         \u001b[0;32mreturn\u001b[0m \u001b[0mself\u001b[0m\u001b[0;34m.\u001b[0m\u001b[0m_get_label\u001b[0m\u001b[0;34m(\u001b[0m\u001b[0mkey\u001b[0m\u001b[0;34m,\u001b[0m \u001b[0maxis\u001b[0m\u001b[0;34m=\u001b[0m\u001b[0maxis\u001b[0m\u001b[0;34m)\u001b[0m\u001b[0;34m\u001b[0m\u001b[0;34m\u001b[0m\u001b[0m\n\u001b[0m\u001b[1;32m   1111\u001b[0m \u001b[0;34m\u001b[0m\u001b[0m\n\u001b[1;32m   1112\u001b[0m     \u001b[0;32mdef\u001b[0m \u001b[0m_get_slice_axis\u001b[0m\u001b[0;34m(\u001b[0m\u001b[0mself\u001b[0m\u001b[0;34m,\u001b[0m \u001b[0mslice_obj\u001b[0m\u001b[0;34m:\u001b[0m \u001b[0mslice\u001b[0m\u001b[0;34m,\u001b[0m \u001b[0maxis\u001b[0m\u001b[0;34m:\u001b[0m \u001b[0mint\u001b[0m\u001b[0;34m)\u001b[0m\u001b[0;34m:\u001b[0m\u001b[0;34m\u001b[0m\u001b[0;34m\u001b[0m\u001b[0m\n",
            "\u001b[0;32m/usr/local/lib/python3.7/dist-packages/pandas/core/indexing.py\u001b[0m in \u001b[0;36m_get_label\u001b[0;34m(self, label, axis)\u001b[0m\n\u001b[1;32m   1057\u001b[0m     \u001b[0;32mdef\u001b[0m \u001b[0m_get_label\u001b[0m\u001b[0;34m(\u001b[0m\u001b[0mself\u001b[0m\u001b[0;34m,\u001b[0m \u001b[0mlabel\u001b[0m\u001b[0;34m,\u001b[0m \u001b[0maxis\u001b[0m\u001b[0;34m:\u001b[0m \u001b[0mint\u001b[0m\u001b[0;34m)\u001b[0m\u001b[0;34m:\u001b[0m\u001b[0;34m\u001b[0m\u001b[0;34m\u001b[0m\u001b[0m\n\u001b[1;32m   1058\u001b[0m         \u001b[0;31m# GH#5667 this will fail if the label is not present in the axis.\u001b[0m\u001b[0;34m\u001b[0m\u001b[0;34m\u001b[0m\u001b[0;34m\u001b[0m\u001b[0m\n\u001b[0;32m-> 1059\u001b[0;31m         \u001b[0;32mreturn\u001b[0m \u001b[0mself\u001b[0m\u001b[0;34m.\u001b[0m\u001b[0mobj\u001b[0m\u001b[0;34m.\u001b[0m\u001b[0mxs\u001b[0m\u001b[0;34m(\u001b[0m\u001b[0mlabel\u001b[0m\u001b[0;34m,\u001b[0m \u001b[0maxis\u001b[0m\u001b[0;34m=\u001b[0m\u001b[0maxis\u001b[0m\u001b[0;34m)\u001b[0m\u001b[0;34m\u001b[0m\u001b[0;34m\u001b[0m\u001b[0m\n\u001b[0m\u001b[1;32m   1060\u001b[0m \u001b[0;34m\u001b[0m\u001b[0m\n\u001b[1;32m   1061\u001b[0m     \u001b[0;32mdef\u001b[0m \u001b[0m_handle_lowerdim_multi_index_axis0\u001b[0m\u001b[0;34m(\u001b[0m\u001b[0mself\u001b[0m\u001b[0;34m,\u001b[0m \u001b[0mtup\u001b[0m\u001b[0;34m:\u001b[0m \u001b[0mTuple\u001b[0m\u001b[0;34m)\u001b[0m\u001b[0;34m:\u001b[0m\u001b[0;34m\u001b[0m\u001b[0;34m\u001b[0m\u001b[0m\n",
            "\u001b[0;32m/usr/local/lib/python3.7/dist-packages/pandas/core/generic.py\u001b[0m in \u001b[0;36mxs\u001b[0;34m(self, key, axis, level, drop_level)\u001b[0m\n\u001b[1;32m   3491\u001b[0m             \u001b[0mloc\u001b[0m\u001b[0;34m,\u001b[0m \u001b[0mnew_index\u001b[0m \u001b[0;34m=\u001b[0m \u001b[0mself\u001b[0m\u001b[0;34m.\u001b[0m\u001b[0mindex\u001b[0m\u001b[0;34m.\u001b[0m\u001b[0mget_loc_level\u001b[0m\u001b[0;34m(\u001b[0m\u001b[0mkey\u001b[0m\u001b[0;34m,\u001b[0m \u001b[0mdrop_level\u001b[0m\u001b[0;34m=\u001b[0m\u001b[0mdrop_level\u001b[0m\u001b[0;34m)\u001b[0m\u001b[0;34m\u001b[0m\u001b[0;34m\u001b[0m\u001b[0m\n\u001b[1;32m   3492\u001b[0m         \u001b[0;32melse\u001b[0m\u001b[0;34m:\u001b[0m\u001b[0;34m\u001b[0m\u001b[0;34m\u001b[0m\u001b[0m\n\u001b[0;32m-> 3493\u001b[0;31m             \u001b[0mloc\u001b[0m \u001b[0;34m=\u001b[0m \u001b[0mself\u001b[0m\u001b[0;34m.\u001b[0m\u001b[0mindex\u001b[0m\u001b[0;34m.\u001b[0m\u001b[0mget_loc\u001b[0m\u001b[0;34m(\u001b[0m\u001b[0mkey\u001b[0m\u001b[0;34m)\u001b[0m\u001b[0;34m\u001b[0m\u001b[0;34m\u001b[0m\u001b[0m\n\u001b[0m\u001b[1;32m   3494\u001b[0m \u001b[0;34m\u001b[0m\u001b[0m\n\u001b[1;32m   3495\u001b[0m             \u001b[0;32mif\u001b[0m \u001b[0misinstance\u001b[0m\u001b[0;34m(\u001b[0m\u001b[0mloc\u001b[0m\u001b[0;34m,\u001b[0m \u001b[0mnp\u001b[0m\u001b[0;34m.\u001b[0m\u001b[0mndarray\u001b[0m\u001b[0;34m)\u001b[0m\u001b[0;34m:\u001b[0m\u001b[0;34m\u001b[0m\u001b[0;34m\u001b[0m\u001b[0m\n",
            "\u001b[0;32m/usr/local/lib/python3.7/dist-packages/pandas/core/indexes/base.py\u001b[0m in \u001b[0;36mget_loc\u001b[0;34m(self, key, method, tolerance)\u001b[0m\n\u001b[1;32m   2898\u001b[0m                 \u001b[0;32mreturn\u001b[0m \u001b[0mself\u001b[0m\u001b[0;34m.\u001b[0m\u001b[0m_engine\u001b[0m\u001b[0;34m.\u001b[0m\u001b[0mget_loc\u001b[0m\u001b[0;34m(\u001b[0m\u001b[0mcasted_key\u001b[0m\u001b[0;34m)\u001b[0m\u001b[0;34m\u001b[0m\u001b[0;34m\u001b[0m\u001b[0m\n\u001b[1;32m   2899\u001b[0m             \u001b[0;32mexcept\u001b[0m \u001b[0mKeyError\u001b[0m \u001b[0;32mas\u001b[0m \u001b[0merr\u001b[0m\u001b[0;34m:\u001b[0m\u001b[0;34m\u001b[0m\u001b[0;34m\u001b[0m\u001b[0m\n\u001b[0;32m-> 2900\u001b[0;31m                 \u001b[0;32mraise\u001b[0m \u001b[0mKeyError\u001b[0m\u001b[0;34m(\u001b[0m\u001b[0mkey\u001b[0m\u001b[0;34m)\u001b[0m \u001b[0;32mfrom\u001b[0m \u001b[0merr\u001b[0m\u001b[0;34m\u001b[0m\u001b[0;34m\u001b[0m\u001b[0m\n\u001b[0m\u001b[1;32m   2901\u001b[0m \u001b[0;34m\u001b[0m\u001b[0m\n\u001b[1;32m   2902\u001b[0m         \u001b[0;32mif\u001b[0m \u001b[0mtolerance\u001b[0m \u001b[0;32mis\u001b[0m \u001b[0;32mnot\u001b[0m \u001b[0;32mNone\u001b[0m\u001b[0;34m:\u001b[0m\u001b[0;34m\u001b[0m\u001b[0;34m\u001b[0m\u001b[0m\n",
            "\u001b[0;31mKeyError\u001b[0m: 0"
          ]
        }
      ]
    },
    {
      "cell_type": "markdown",
      "metadata": {
        "id": "2mvA1qOHysAt"
      },
      "source": [
        "###### Índice de Silhueta - DBScan com Distância de Manhattan"
      ]
    },
    {
      "cell_type": "code",
      "metadata": {
        "id": "iiDZnFvPy23n"
      },
      "source": [
        ""
      ],
      "execution_count": null,
      "outputs": []
    }
  ]
}