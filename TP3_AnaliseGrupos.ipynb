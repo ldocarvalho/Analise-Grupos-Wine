{
  "nbformat": 4,
  "nbformat_minor": 0,
  "metadata": {
    "colab": {
      "name": "TP3-AnaliseGrupos.ipynb",
      "provenance": [],
      "collapsed_sections": [
        "e6UjAyK9H9t_",
        "eRXvGH3ItVY_",
        "0UrX-yIP8qTE",
        "-OiWPjouIo0e",
        "dOMtgt35IzIS",
        "UqDfyKyAI76R",
        "zYJd28hRI-up"
      ],
      "toc_visible": true,
      "include_colab_link": true
    },
    "kernelspec": {
      "name": "python3",
      "display_name": "Python 3"
    },
    "language_info": {
      "name": "python"
    }
  },
  "cells": [
    {
      "cell_type": "markdown",
      "metadata": {
        "id": "view-in-github",
        "colab_type": "text"
      },
      "source": [
        "<a href=\"https://colab.research.google.com/github/ldocarvalho/Analise-Grupos-Wine/blob/main/TP3_AnaliseGrupos.ipynb\" target=\"_parent\"><img src=\"https://colab.research.google.com/assets/colab-badge.svg\" alt=\"Open In Colab\"/></a>"
      ]
    },
    {
      "cell_type": "markdown",
      "metadata": {
        "id": "ulKIP7VXH5dT"
      },
      "source": [
        "-----------------------------------------------------\n",
        "**2020/2** \n",
        "\n",
        "**Tópicos Especiais em Arquitetura de Computadores**\n",
        "\n",
        "**TP03 - Análise de Grupos**\n",
        "\n",
        "Lucas de Oliveira Carvalho\n",
        "\n",
        "Lucas Luis de Souza Barreto\n",
        "\n",
        "-----------------------------------------------------\n"
      ]
    },
    {
      "cell_type": "code",
      "metadata": {
        "id": "G9AtUsMIH-ef"
      },
      "source": [
        "import pandas as pd\n",
        "import numpy as np\n",
        "import matplotlib.pyplot as plt\n",
        "from scipy.spatial import distance\n",
        "\n",
        "pd.options.mode.chained_assignment = None  # default='warn'"
      ],
      "execution_count": 1,
      "outputs": []
    },
    {
      "cell_type": "code",
      "metadata": {
        "id": "WD9SzOIQIAvU",
        "colab": {
          "base_uri": "https://localhost:8080/",
          "height": 424
        },
        "outputId": "8ef694fa-0709-4f14-9794-90fb6a779b9e"
      },
      "source": [
        "# 1) Alcohol\n",
        "# 2) Malic acid\n",
        "# 3) Ash\n",
        "# 4) Alcalinity of ash\n",
        "# 5) Magnesium\n",
        "# 6) Total phenols\n",
        "# 7) Flavanoids\n",
        "# 8) Nonflavanoid phenols\n",
        "# 9) Proanthocyanins\n",
        "# 10) Color intensity\n",
        "# 11) Hue\n",
        "# 12) OD280/OD315 of diluted wines\n",
        "# 13) Proline\n",
        "\n",
        "columns_names_wines = [\"Class\", \"Alcohol\",\"Malic\", \"Ash\", \"Alcalinity\", \"Magnesium\", \"Phenols\", \"Flavanoids\", \"Nonflavanoids\", \"Proanthocyanins\", \"Color\", \"Hue\", \"OD280\", \"Proline\"]\n",
        "dfWines = pd.read_csv('https://raw.githubusercontent.com/ldocarvalho/Analise-Grupos-Wine/main/wine.csv', names=columns_names_wines)\n",
        "dfWines"
      ],
      "execution_count": 2,
      "outputs": [
        {
          "output_type": "execute_result",
          "data": {
            "text/html": [
              "<div>\n",
              "<style scoped>\n",
              "    .dataframe tbody tr th:only-of-type {\n",
              "        vertical-align: middle;\n",
              "    }\n",
              "\n",
              "    .dataframe tbody tr th {\n",
              "        vertical-align: top;\n",
              "    }\n",
              "\n",
              "    .dataframe thead th {\n",
              "        text-align: right;\n",
              "    }\n",
              "</style>\n",
              "<table border=\"1\" class=\"dataframe\">\n",
              "  <thead>\n",
              "    <tr style=\"text-align: right;\">\n",
              "      <th></th>\n",
              "      <th>Class</th>\n",
              "      <th>Alcohol</th>\n",
              "      <th>Malic</th>\n",
              "      <th>Ash</th>\n",
              "      <th>Alcalinity</th>\n",
              "      <th>Magnesium</th>\n",
              "      <th>Phenols</th>\n",
              "      <th>Flavanoids</th>\n",
              "      <th>Nonflavanoids</th>\n",
              "      <th>Proanthocyanins</th>\n",
              "      <th>Color</th>\n",
              "      <th>Hue</th>\n",
              "      <th>OD280</th>\n",
              "      <th>Proline</th>\n",
              "    </tr>\n",
              "  </thead>\n",
              "  <tbody>\n",
              "    <tr>\n",
              "      <th>0</th>\n",
              "      <td>1</td>\n",
              "      <td>14.23</td>\n",
              "      <td>1.71</td>\n",
              "      <td>2.43</td>\n",
              "      <td>15.6</td>\n",
              "      <td>127</td>\n",
              "      <td>2.80</td>\n",
              "      <td>3.06</td>\n",
              "      <td>0.28</td>\n",
              "      <td>2.29</td>\n",
              "      <td>5.64</td>\n",
              "      <td>1.04</td>\n",
              "      <td>3.92</td>\n",
              "      <td>1065</td>\n",
              "    </tr>\n",
              "    <tr>\n",
              "      <th>1</th>\n",
              "      <td>1</td>\n",
              "      <td>13.20</td>\n",
              "      <td>1.78</td>\n",
              "      <td>2.14</td>\n",
              "      <td>11.2</td>\n",
              "      <td>100</td>\n",
              "      <td>2.65</td>\n",
              "      <td>2.76</td>\n",
              "      <td>0.26</td>\n",
              "      <td>1.28</td>\n",
              "      <td>4.38</td>\n",
              "      <td>1.05</td>\n",
              "      <td>3.40</td>\n",
              "      <td>1050</td>\n",
              "    </tr>\n",
              "    <tr>\n",
              "      <th>2</th>\n",
              "      <td>1</td>\n",
              "      <td>13.16</td>\n",
              "      <td>2.36</td>\n",
              "      <td>2.67</td>\n",
              "      <td>18.6</td>\n",
              "      <td>101</td>\n",
              "      <td>2.80</td>\n",
              "      <td>3.24</td>\n",
              "      <td>0.30</td>\n",
              "      <td>2.81</td>\n",
              "      <td>5.68</td>\n",
              "      <td>1.03</td>\n",
              "      <td>3.17</td>\n",
              "      <td>1185</td>\n",
              "    </tr>\n",
              "    <tr>\n",
              "      <th>3</th>\n",
              "      <td>1</td>\n",
              "      <td>14.37</td>\n",
              "      <td>1.95</td>\n",
              "      <td>2.50</td>\n",
              "      <td>16.8</td>\n",
              "      <td>113</td>\n",
              "      <td>3.85</td>\n",
              "      <td>3.49</td>\n",
              "      <td>0.24</td>\n",
              "      <td>2.18</td>\n",
              "      <td>7.80</td>\n",
              "      <td>0.86</td>\n",
              "      <td>3.45</td>\n",
              "      <td>1480</td>\n",
              "    </tr>\n",
              "    <tr>\n",
              "      <th>4</th>\n",
              "      <td>1</td>\n",
              "      <td>13.24</td>\n",
              "      <td>2.59</td>\n",
              "      <td>2.87</td>\n",
              "      <td>21.0</td>\n",
              "      <td>118</td>\n",
              "      <td>2.80</td>\n",
              "      <td>2.69</td>\n",
              "      <td>0.39</td>\n",
              "      <td>1.82</td>\n",
              "      <td>4.32</td>\n",
              "      <td>1.04</td>\n",
              "      <td>2.93</td>\n",
              "      <td>735</td>\n",
              "    </tr>\n",
              "    <tr>\n",
              "      <th>...</th>\n",
              "      <td>...</td>\n",
              "      <td>...</td>\n",
              "      <td>...</td>\n",
              "      <td>...</td>\n",
              "      <td>...</td>\n",
              "      <td>...</td>\n",
              "      <td>...</td>\n",
              "      <td>...</td>\n",
              "      <td>...</td>\n",
              "      <td>...</td>\n",
              "      <td>...</td>\n",
              "      <td>...</td>\n",
              "      <td>...</td>\n",
              "      <td>...</td>\n",
              "    </tr>\n",
              "    <tr>\n",
              "      <th>173</th>\n",
              "      <td>3</td>\n",
              "      <td>13.71</td>\n",
              "      <td>5.65</td>\n",
              "      <td>2.45</td>\n",
              "      <td>20.5</td>\n",
              "      <td>95</td>\n",
              "      <td>1.68</td>\n",
              "      <td>0.61</td>\n",
              "      <td>0.52</td>\n",
              "      <td>1.06</td>\n",
              "      <td>7.70</td>\n",
              "      <td>0.64</td>\n",
              "      <td>1.74</td>\n",
              "      <td>740</td>\n",
              "    </tr>\n",
              "    <tr>\n",
              "      <th>174</th>\n",
              "      <td>3</td>\n",
              "      <td>13.40</td>\n",
              "      <td>3.91</td>\n",
              "      <td>2.48</td>\n",
              "      <td>23.0</td>\n",
              "      <td>102</td>\n",
              "      <td>1.80</td>\n",
              "      <td>0.75</td>\n",
              "      <td>0.43</td>\n",
              "      <td>1.41</td>\n",
              "      <td>7.30</td>\n",
              "      <td>0.70</td>\n",
              "      <td>1.56</td>\n",
              "      <td>750</td>\n",
              "    </tr>\n",
              "    <tr>\n",
              "      <th>175</th>\n",
              "      <td>3</td>\n",
              "      <td>13.27</td>\n",
              "      <td>4.28</td>\n",
              "      <td>2.26</td>\n",
              "      <td>20.0</td>\n",
              "      <td>120</td>\n",
              "      <td>1.59</td>\n",
              "      <td>0.69</td>\n",
              "      <td>0.43</td>\n",
              "      <td>1.35</td>\n",
              "      <td>10.20</td>\n",
              "      <td>0.59</td>\n",
              "      <td>1.56</td>\n",
              "      <td>835</td>\n",
              "    </tr>\n",
              "    <tr>\n",
              "      <th>176</th>\n",
              "      <td>3</td>\n",
              "      <td>13.17</td>\n",
              "      <td>2.59</td>\n",
              "      <td>2.37</td>\n",
              "      <td>20.0</td>\n",
              "      <td>120</td>\n",
              "      <td>1.65</td>\n",
              "      <td>0.68</td>\n",
              "      <td>0.53</td>\n",
              "      <td>1.46</td>\n",
              "      <td>9.30</td>\n",
              "      <td>0.60</td>\n",
              "      <td>1.62</td>\n",
              "      <td>840</td>\n",
              "    </tr>\n",
              "    <tr>\n",
              "      <th>177</th>\n",
              "      <td>3</td>\n",
              "      <td>14.13</td>\n",
              "      <td>4.10</td>\n",
              "      <td>2.74</td>\n",
              "      <td>24.5</td>\n",
              "      <td>96</td>\n",
              "      <td>2.05</td>\n",
              "      <td>0.76</td>\n",
              "      <td>0.56</td>\n",
              "      <td>1.35</td>\n",
              "      <td>9.20</td>\n",
              "      <td>0.61</td>\n",
              "      <td>1.60</td>\n",
              "      <td>560</td>\n",
              "    </tr>\n",
              "  </tbody>\n",
              "</table>\n",
              "<p>178 rows × 14 columns</p>\n",
              "</div>"
            ],
            "text/plain": [
              "     Class  Alcohol  Malic   Ash  ...  Color   Hue  OD280  Proline\n",
              "0        1    14.23   1.71  2.43  ...   5.64  1.04   3.92     1065\n",
              "1        1    13.20   1.78  2.14  ...   4.38  1.05   3.40     1050\n",
              "2        1    13.16   2.36  2.67  ...   5.68  1.03   3.17     1185\n",
              "3        1    14.37   1.95  2.50  ...   7.80  0.86   3.45     1480\n",
              "4        1    13.24   2.59  2.87  ...   4.32  1.04   2.93      735\n",
              "..     ...      ...    ...   ...  ...    ...   ...    ...      ...\n",
              "173      3    13.71   5.65  2.45  ...   7.70  0.64   1.74      740\n",
              "174      3    13.40   3.91  2.48  ...   7.30  0.70   1.56      750\n",
              "175      3    13.27   4.28  2.26  ...  10.20  0.59   1.56      835\n",
              "176      3    13.17   2.59  2.37  ...   9.30  0.60   1.62      840\n",
              "177      3    14.13   4.10  2.74  ...   9.20  0.61   1.60      560\n",
              "\n",
              "[178 rows x 14 columns]"
            ]
          },
          "metadata": {},
          "execution_count": 2
        }
      ]
    },
    {
      "cell_type": "markdown",
      "metadata": {
        "id": "e6UjAyK9H9t_"
      },
      "source": [
        "#### Exercício 1 - Pré-Processamento"
      ]
    },
    {
      "cell_type": "markdown",
      "metadata": {
        "id": "j6orttqx6pGl"
      },
      "source": [
        "Objetivo: fazer o pré-processamento dos dados de tal forma que todos os atributos estejam normalizados no intervalo [0,1]."
      ]
    },
    {
      "cell_type": "code",
      "metadata": {
        "colab": {
          "base_uri": "https://localhost:8080/",
          "height": 363
        },
        "id": "MN62LFrz74AQ",
        "outputId": "5c19d0ad-acf3-44ea-bb16-ae8765aca009"
      },
      "source": [
        "dfWines.drop(\"Class\", inplace=True, axis=1)\n",
        "dfWines.head(10)"
      ],
      "execution_count": 3,
      "outputs": [
        {
          "output_type": "execute_result",
          "data": {
            "text/html": [
              "<div>\n",
              "<style scoped>\n",
              "    .dataframe tbody tr th:only-of-type {\n",
              "        vertical-align: middle;\n",
              "    }\n",
              "\n",
              "    .dataframe tbody tr th {\n",
              "        vertical-align: top;\n",
              "    }\n",
              "\n",
              "    .dataframe thead th {\n",
              "        text-align: right;\n",
              "    }\n",
              "</style>\n",
              "<table border=\"1\" class=\"dataframe\">\n",
              "  <thead>\n",
              "    <tr style=\"text-align: right;\">\n",
              "      <th></th>\n",
              "      <th>Alcohol</th>\n",
              "      <th>Malic</th>\n",
              "      <th>Ash</th>\n",
              "      <th>Alcalinity</th>\n",
              "      <th>Magnesium</th>\n",
              "      <th>Phenols</th>\n",
              "      <th>Flavanoids</th>\n",
              "      <th>Nonflavanoids</th>\n",
              "      <th>Proanthocyanins</th>\n",
              "      <th>Color</th>\n",
              "      <th>Hue</th>\n",
              "      <th>OD280</th>\n",
              "      <th>Proline</th>\n",
              "    </tr>\n",
              "  </thead>\n",
              "  <tbody>\n",
              "    <tr>\n",
              "      <th>0</th>\n",
              "      <td>14.23</td>\n",
              "      <td>1.71</td>\n",
              "      <td>2.43</td>\n",
              "      <td>15.6</td>\n",
              "      <td>127</td>\n",
              "      <td>2.80</td>\n",
              "      <td>3.06</td>\n",
              "      <td>0.28</td>\n",
              "      <td>2.29</td>\n",
              "      <td>5.64</td>\n",
              "      <td>1.04</td>\n",
              "      <td>3.92</td>\n",
              "      <td>1065</td>\n",
              "    </tr>\n",
              "    <tr>\n",
              "      <th>1</th>\n",
              "      <td>13.20</td>\n",
              "      <td>1.78</td>\n",
              "      <td>2.14</td>\n",
              "      <td>11.2</td>\n",
              "      <td>100</td>\n",
              "      <td>2.65</td>\n",
              "      <td>2.76</td>\n",
              "      <td>0.26</td>\n",
              "      <td>1.28</td>\n",
              "      <td>4.38</td>\n",
              "      <td>1.05</td>\n",
              "      <td>3.40</td>\n",
              "      <td>1050</td>\n",
              "    </tr>\n",
              "    <tr>\n",
              "      <th>2</th>\n",
              "      <td>13.16</td>\n",
              "      <td>2.36</td>\n",
              "      <td>2.67</td>\n",
              "      <td>18.6</td>\n",
              "      <td>101</td>\n",
              "      <td>2.80</td>\n",
              "      <td>3.24</td>\n",
              "      <td>0.30</td>\n",
              "      <td>2.81</td>\n",
              "      <td>5.68</td>\n",
              "      <td>1.03</td>\n",
              "      <td>3.17</td>\n",
              "      <td>1185</td>\n",
              "    </tr>\n",
              "    <tr>\n",
              "      <th>3</th>\n",
              "      <td>14.37</td>\n",
              "      <td>1.95</td>\n",
              "      <td>2.50</td>\n",
              "      <td>16.8</td>\n",
              "      <td>113</td>\n",
              "      <td>3.85</td>\n",
              "      <td>3.49</td>\n",
              "      <td>0.24</td>\n",
              "      <td>2.18</td>\n",
              "      <td>7.80</td>\n",
              "      <td>0.86</td>\n",
              "      <td>3.45</td>\n",
              "      <td>1480</td>\n",
              "    </tr>\n",
              "    <tr>\n",
              "      <th>4</th>\n",
              "      <td>13.24</td>\n",
              "      <td>2.59</td>\n",
              "      <td>2.87</td>\n",
              "      <td>21.0</td>\n",
              "      <td>118</td>\n",
              "      <td>2.80</td>\n",
              "      <td>2.69</td>\n",
              "      <td>0.39</td>\n",
              "      <td>1.82</td>\n",
              "      <td>4.32</td>\n",
              "      <td>1.04</td>\n",
              "      <td>2.93</td>\n",
              "      <td>735</td>\n",
              "    </tr>\n",
              "    <tr>\n",
              "      <th>5</th>\n",
              "      <td>14.20</td>\n",
              "      <td>1.76</td>\n",
              "      <td>2.45</td>\n",
              "      <td>15.2</td>\n",
              "      <td>112</td>\n",
              "      <td>3.27</td>\n",
              "      <td>3.39</td>\n",
              "      <td>0.34</td>\n",
              "      <td>1.97</td>\n",
              "      <td>6.75</td>\n",
              "      <td>1.05</td>\n",
              "      <td>2.85</td>\n",
              "      <td>1450</td>\n",
              "    </tr>\n",
              "    <tr>\n",
              "      <th>6</th>\n",
              "      <td>14.39</td>\n",
              "      <td>1.87</td>\n",
              "      <td>2.45</td>\n",
              "      <td>14.6</td>\n",
              "      <td>96</td>\n",
              "      <td>2.50</td>\n",
              "      <td>2.52</td>\n",
              "      <td>0.30</td>\n",
              "      <td>1.98</td>\n",
              "      <td>5.25</td>\n",
              "      <td>1.02</td>\n",
              "      <td>3.58</td>\n",
              "      <td>1290</td>\n",
              "    </tr>\n",
              "    <tr>\n",
              "      <th>7</th>\n",
              "      <td>14.06</td>\n",
              "      <td>2.15</td>\n",
              "      <td>2.61</td>\n",
              "      <td>17.6</td>\n",
              "      <td>121</td>\n",
              "      <td>2.60</td>\n",
              "      <td>2.51</td>\n",
              "      <td>0.31</td>\n",
              "      <td>1.25</td>\n",
              "      <td>5.05</td>\n",
              "      <td>1.06</td>\n",
              "      <td>3.58</td>\n",
              "      <td>1295</td>\n",
              "    </tr>\n",
              "    <tr>\n",
              "      <th>8</th>\n",
              "      <td>14.83</td>\n",
              "      <td>1.64</td>\n",
              "      <td>2.17</td>\n",
              "      <td>14.0</td>\n",
              "      <td>97</td>\n",
              "      <td>2.80</td>\n",
              "      <td>2.98</td>\n",
              "      <td>0.29</td>\n",
              "      <td>1.98</td>\n",
              "      <td>5.20</td>\n",
              "      <td>1.08</td>\n",
              "      <td>2.85</td>\n",
              "      <td>1045</td>\n",
              "    </tr>\n",
              "    <tr>\n",
              "      <th>9</th>\n",
              "      <td>13.86</td>\n",
              "      <td>1.35</td>\n",
              "      <td>2.27</td>\n",
              "      <td>16.0</td>\n",
              "      <td>98</td>\n",
              "      <td>2.98</td>\n",
              "      <td>3.15</td>\n",
              "      <td>0.22</td>\n",
              "      <td>1.85</td>\n",
              "      <td>7.22</td>\n",
              "      <td>1.01</td>\n",
              "      <td>3.55</td>\n",
              "      <td>1045</td>\n",
              "    </tr>\n",
              "  </tbody>\n",
              "</table>\n",
              "</div>"
            ],
            "text/plain": [
              "   Alcohol  Malic   Ash  Alcalinity  ...  Color   Hue  OD280  Proline\n",
              "0    14.23   1.71  2.43        15.6  ...   5.64  1.04   3.92     1065\n",
              "1    13.20   1.78  2.14        11.2  ...   4.38  1.05   3.40     1050\n",
              "2    13.16   2.36  2.67        18.6  ...   5.68  1.03   3.17     1185\n",
              "3    14.37   1.95  2.50        16.8  ...   7.80  0.86   3.45     1480\n",
              "4    13.24   2.59  2.87        21.0  ...   4.32  1.04   2.93      735\n",
              "5    14.20   1.76  2.45        15.2  ...   6.75  1.05   2.85     1450\n",
              "6    14.39   1.87  2.45        14.6  ...   5.25  1.02   3.58     1290\n",
              "7    14.06   2.15  2.61        17.6  ...   5.05  1.06   3.58     1295\n",
              "8    14.83   1.64  2.17        14.0  ...   5.20  1.08   2.85     1045\n",
              "9    13.86   1.35  2.27        16.0  ...   7.22  1.01   3.55     1045\n",
              "\n",
              "[10 rows x 13 columns]"
            ]
          },
          "metadata": {},
          "execution_count": 3
        }
      ]
    },
    {
      "cell_type": "code",
      "metadata": {
        "colab": {
          "base_uri": "https://localhost:8080/",
          "height": 363
        },
        "id": "heRtpAQME-U1",
        "outputId": "704a7b7c-02a4-4d99-e629-2b814949fdea"
      },
      "source": [
        "dfWines = (dfWines-dfWines.min()) / (dfWines.max() - dfWines.min())\n",
        "dfWines.head(10)"
      ],
      "execution_count": 4,
      "outputs": [
        {
          "output_type": "execute_result",
          "data": {
            "text/html": [
              "<div>\n",
              "<style scoped>\n",
              "    .dataframe tbody tr th:only-of-type {\n",
              "        vertical-align: middle;\n",
              "    }\n",
              "\n",
              "    .dataframe tbody tr th {\n",
              "        vertical-align: top;\n",
              "    }\n",
              "\n",
              "    .dataframe thead th {\n",
              "        text-align: right;\n",
              "    }\n",
              "</style>\n",
              "<table border=\"1\" class=\"dataframe\">\n",
              "  <thead>\n",
              "    <tr style=\"text-align: right;\">\n",
              "      <th></th>\n",
              "      <th>Alcohol</th>\n",
              "      <th>Malic</th>\n",
              "      <th>Ash</th>\n",
              "      <th>Alcalinity</th>\n",
              "      <th>Magnesium</th>\n",
              "      <th>Phenols</th>\n",
              "      <th>Flavanoids</th>\n",
              "      <th>Nonflavanoids</th>\n",
              "      <th>Proanthocyanins</th>\n",
              "      <th>Color</th>\n",
              "      <th>Hue</th>\n",
              "      <th>OD280</th>\n",
              "      <th>Proline</th>\n",
              "    </tr>\n",
              "  </thead>\n",
              "  <tbody>\n",
              "    <tr>\n",
              "      <th>0</th>\n",
              "      <td>0.842105</td>\n",
              "      <td>0.191700</td>\n",
              "      <td>0.572193</td>\n",
              "      <td>0.257732</td>\n",
              "      <td>0.619565</td>\n",
              "      <td>0.627586</td>\n",
              "      <td>0.573840</td>\n",
              "      <td>0.283019</td>\n",
              "      <td>0.593060</td>\n",
              "      <td>0.372014</td>\n",
              "      <td>0.455285</td>\n",
              "      <td>0.970696</td>\n",
              "      <td>0.561341</td>\n",
              "    </tr>\n",
              "    <tr>\n",
              "      <th>1</th>\n",
              "      <td>0.571053</td>\n",
              "      <td>0.205534</td>\n",
              "      <td>0.417112</td>\n",
              "      <td>0.030928</td>\n",
              "      <td>0.326087</td>\n",
              "      <td>0.575862</td>\n",
              "      <td>0.510549</td>\n",
              "      <td>0.245283</td>\n",
              "      <td>0.274448</td>\n",
              "      <td>0.264505</td>\n",
              "      <td>0.463415</td>\n",
              "      <td>0.780220</td>\n",
              "      <td>0.550642</td>\n",
              "    </tr>\n",
              "    <tr>\n",
              "      <th>2</th>\n",
              "      <td>0.560526</td>\n",
              "      <td>0.320158</td>\n",
              "      <td>0.700535</td>\n",
              "      <td>0.412371</td>\n",
              "      <td>0.336957</td>\n",
              "      <td>0.627586</td>\n",
              "      <td>0.611814</td>\n",
              "      <td>0.320755</td>\n",
              "      <td>0.757098</td>\n",
              "      <td>0.375427</td>\n",
              "      <td>0.447154</td>\n",
              "      <td>0.695971</td>\n",
              "      <td>0.646933</td>\n",
              "    </tr>\n",
              "    <tr>\n",
              "      <th>3</th>\n",
              "      <td>0.878947</td>\n",
              "      <td>0.239130</td>\n",
              "      <td>0.609626</td>\n",
              "      <td>0.319588</td>\n",
              "      <td>0.467391</td>\n",
              "      <td>0.989655</td>\n",
              "      <td>0.664557</td>\n",
              "      <td>0.207547</td>\n",
              "      <td>0.558360</td>\n",
              "      <td>0.556314</td>\n",
              "      <td>0.308943</td>\n",
              "      <td>0.798535</td>\n",
              "      <td>0.857347</td>\n",
              "    </tr>\n",
              "    <tr>\n",
              "      <th>4</th>\n",
              "      <td>0.581579</td>\n",
              "      <td>0.365613</td>\n",
              "      <td>0.807487</td>\n",
              "      <td>0.536082</td>\n",
              "      <td>0.521739</td>\n",
              "      <td>0.627586</td>\n",
              "      <td>0.495781</td>\n",
              "      <td>0.490566</td>\n",
              "      <td>0.444795</td>\n",
              "      <td>0.259386</td>\n",
              "      <td>0.455285</td>\n",
              "      <td>0.608059</td>\n",
              "      <td>0.325963</td>\n",
              "    </tr>\n",
              "    <tr>\n",
              "      <th>5</th>\n",
              "      <td>0.834211</td>\n",
              "      <td>0.201581</td>\n",
              "      <td>0.582888</td>\n",
              "      <td>0.237113</td>\n",
              "      <td>0.456522</td>\n",
              "      <td>0.789655</td>\n",
              "      <td>0.643460</td>\n",
              "      <td>0.396226</td>\n",
              "      <td>0.492114</td>\n",
              "      <td>0.466724</td>\n",
              "      <td>0.463415</td>\n",
              "      <td>0.578755</td>\n",
              "      <td>0.835949</td>\n",
              "    </tr>\n",
              "    <tr>\n",
              "      <th>6</th>\n",
              "      <td>0.884211</td>\n",
              "      <td>0.223320</td>\n",
              "      <td>0.582888</td>\n",
              "      <td>0.206186</td>\n",
              "      <td>0.282609</td>\n",
              "      <td>0.524138</td>\n",
              "      <td>0.459916</td>\n",
              "      <td>0.320755</td>\n",
              "      <td>0.495268</td>\n",
              "      <td>0.338737</td>\n",
              "      <td>0.439024</td>\n",
              "      <td>0.846154</td>\n",
              "      <td>0.721826</td>\n",
              "    </tr>\n",
              "    <tr>\n",
              "      <th>7</th>\n",
              "      <td>0.797368</td>\n",
              "      <td>0.278656</td>\n",
              "      <td>0.668449</td>\n",
              "      <td>0.360825</td>\n",
              "      <td>0.554348</td>\n",
              "      <td>0.558621</td>\n",
              "      <td>0.457806</td>\n",
              "      <td>0.339623</td>\n",
              "      <td>0.264984</td>\n",
              "      <td>0.321672</td>\n",
              "      <td>0.471545</td>\n",
              "      <td>0.846154</td>\n",
              "      <td>0.725392</td>\n",
              "    </tr>\n",
              "    <tr>\n",
              "      <th>8</th>\n",
              "      <td>1.000000</td>\n",
              "      <td>0.177866</td>\n",
              "      <td>0.433155</td>\n",
              "      <td>0.175258</td>\n",
              "      <td>0.293478</td>\n",
              "      <td>0.627586</td>\n",
              "      <td>0.556962</td>\n",
              "      <td>0.301887</td>\n",
              "      <td>0.495268</td>\n",
              "      <td>0.334471</td>\n",
              "      <td>0.487805</td>\n",
              "      <td>0.578755</td>\n",
              "      <td>0.547076</td>\n",
              "    </tr>\n",
              "    <tr>\n",
              "      <th>9</th>\n",
              "      <td>0.744737</td>\n",
              "      <td>0.120553</td>\n",
              "      <td>0.486631</td>\n",
              "      <td>0.278351</td>\n",
              "      <td>0.304348</td>\n",
              "      <td>0.689655</td>\n",
              "      <td>0.592827</td>\n",
              "      <td>0.169811</td>\n",
              "      <td>0.454259</td>\n",
              "      <td>0.506826</td>\n",
              "      <td>0.430894</td>\n",
              "      <td>0.835165</td>\n",
              "      <td>0.547076</td>\n",
              "    </tr>\n",
              "  </tbody>\n",
              "</table>\n",
              "</div>"
            ],
            "text/plain": [
              "    Alcohol     Malic       Ash  ...       Hue     OD280   Proline\n",
              "0  0.842105  0.191700  0.572193  ...  0.455285  0.970696  0.561341\n",
              "1  0.571053  0.205534  0.417112  ...  0.463415  0.780220  0.550642\n",
              "2  0.560526  0.320158  0.700535  ...  0.447154  0.695971  0.646933\n",
              "3  0.878947  0.239130  0.609626  ...  0.308943  0.798535  0.857347\n",
              "4  0.581579  0.365613  0.807487  ...  0.455285  0.608059  0.325963\n",
              "5  0.834211  0.201581  0.582888  ...  0.463415  0.578755  0.835949\n",
              "6  0.884211  0.223320  0.582888  ...  0.439024  0.846154  0.721826\n",
              "7  0.797368  0.278656  0.668449  ...  0.471545  0.846154  0.725392\n",
              "8  1.000000  0.177866  0.433155  ...  0.487805  0.578755  0.547076\n",
              "9  0.744737  0.120553  0.486631  ...  0.430894  0.835165  0.547076\n",
              "\n",
              "[10 rows x 13 columns]"
            ]
          },
          "metadata": {},
          "execution_count": 4
        }
      ]
    },
    {
      "cell_type": "markdown",
      "metadata": {
        "id": "eRXvGH3ItVY_"
      },
      "source": [
        "#### Exercício 2 - Redução com Principal Component Analysis"
      ]
    },
    {
      "cell_type": "code",
      "metadata": {
        "colab": {
          "base_uri": "https://localhost:8080/",
          "height": 424
        },
        "id": "azZe473Fqtn0",
        "outputId": "81965bb0-85c2-462c-800e-99d3b7624b0a"
      },
      "source": [
        "from sklearn.preprocessing import StandardScaler\n",
        "from sklearn.decomposition import PCA\n",
        "\n",
        "features = columns_names_wines[1:]\n",
        "values = dfWines.loc[:, features].values\n",
        "\n",
        "values = StandardScaler().fit_transform(values)\n",
        "\n",
        "pca = PCA(n_components=2)\n",
        "principal_components = pca.fit_transform(values)\n",
        "dfWines_reduced = pd.DataFrame(data = principal_components, columns = ['x', 'y'])\n",
        "dfWines_reduced"
      ],
      "execution_count": 5,
      "outputs": [
        {
          "output_type": "execute_result",
          "data": {
            "text/html": [
              "<div>\n",
              "<style scoped>\n",
              "    .dataframe tbody tr th:only-of-type {\n",
              "        vertical-align: middle;\n",
              "    }\n",
              "\n",
              "    .dataframe tbody tr th {\n",
              "        vertical-align: top;\n",
              "    }\n",
              "\n",
              "    .dataframe thead th {\n",
              "        text-align: right;\n",
              "    }\n",
              "</style>\n",
              "<table border=\"1\" class=\"dataframe\">\n",
              "  <thead>\n",
              "    <tr style=\"text-align: right;\">\n",
              "      <th></th>\n",
              "      <th>x</th>\n",
              "      <th>y</th>\n",
              "    </tr>\n",
              "  </thead>\n",
              "  <tbody>\n",
              "    <tr>\n",
              "      <th>0</th>\n",
              "      <td>3.316751</td>\n",
              "      <td>-1.443463</td>\n",
              "    </tr>\n",
              "    <tr>\n",
              "      <th>1</th>\n",
              "      <td>2.209465</td>\n",
              "      <td>0.333393</td>\n",
              "    </tr>\n",
              "    <tr>\n",
              "      <th>2</th>\n",
              "      <td>2.516740</td>\n",
              "      <td>-1.031151</td>\n",
              "    </tr>\n",
              "    <tr>\n",
              "      <th>3</th>\n",
              "      <td>3.757066</td>\n",
              "      <td>-2.756372</td>\n",
              "    </tr>\n",
              "    <tr>\n",
              "      <th>4</th>\n",
              "      <td>1.008908</td>\n",
              "      <td>-0.869831</td>\n",
              "    </tr>\n",
              "    <tr>\n",
              "      <th>...</th>\n",
              "      <td>...</td>\n",
              "      <td>...</td>\n",
              "    </tr>\n",
              "    <tr>\n",
              "      <th>173</th>\n",
              "      <td>-3.370524</td>\n",
              "      <td>-2.216289</td>\n",
              "    </tr>\n",
              "    <tr>\n",
              "      <th>174</th>\n",
              "      <td>-2.601956</td>\n",
              "      <td>-1.757229</td>\n",
              "    </tr>\n",
              "    <tr>\n",
              "      <th>175</th>\n",
              "      <td>-2.677839</td>\n",
              "      <td>-2.760899</td>\n",
              "    </tr>\n",
              "    <tr>\n",
              "      <th>176</th>\n",
              "      <td>-2.387017</td>\n",
              "      <td>-2.297347</td>\n",
              "    </tr>\n",
              "    <tr>\n",
              "      <th>177</th>\n",
              "      <td>-3.208758</td>\n",
              "      <td>-2.768920</td>\n",
              "    </tr>\n",
              "  </tbody>\n",
              "</table>\n",
              "<p>178 rows × 2 columns</p>\n",
              "</div>"
            ],
            "text/plain": [
              "            x         y\n",
              "0    3.316751 -1.443463\n",
              "1    2.209465  0.333393\n",
              "2    2.516740 -1.031151\n",
              "3    3.757066 -2.756372\n",
              "4    1.008908 -0.869831\n",
              "..        ...       ...\n",
              "173 -3.370524 -2.216289\n",
              "174 -2.601956 -1.757229\n",
              "175 -2.677839 -2.760899\n",
              "176 -2.387017 -2.297347\n",
              "177 -3.208758 -2.768920\n",
              "\n",
              "[178 rows x 2 columns]"
            ]
          },
          "metadata": {},
          "execution_count": 5
        }
      ]
    },
    {
      "cell_type": "code",
      "metadata": {
        "id": "Ws0M1uhe6RQe"
      },
      "source": [
        ""
      ],
      "execution_count": null,
      "outputs": []
    },
    {
      "cell_type": "markdown",
      "metadata": {
        "id": "bPWp2CoRIfk0"
      },
      "source": [
        "#### Exercício 3 - Medidas de Similaridade"
      ]
    },
    {
      "cell_type": "markdown",
      "metadata": {
        "id": "y3A5awFxGpj0"
      },
      "source": [
        "Objetivo: calcular a similaridade entre objetos a partir de duas medidas, a distância Euclidiana e a correlação de Pearson."
      ]
    },
    {
      "cell_type": "code",
      "metadata": {
        "id": "3cF4JhBhGXFT"
      },
      "source": [
        "def eucledian_distance(x, y):\n",
        "  return distance.euclidean(x, y)\n",
        "\n",
        "def pearsons_correlation_coefficient(x, y):\n",
        "  return np.corrcoef(x, y)"
      ],
      "execution_count": null,
      "outputs": []
    },
    {
      "cell_type": "markdown",
      "metadata": {
        "id": "JQzG6K5HIkjZ"
      },
      "source": [
        "#### Exercício 4 - Algoritmos de Agrupamento "
      ]
    },
    {
      "cell_type": "markdown",
      "metadata": {
        "id": "dQA7_I-U8ns4"
      },
      "source": [
        "##### K-Means"
      ]
    },
    {
      "cell_type": "code",
      "metadata": {
        "colab": {
          "base_uri": "https://localhost:8080/"
        },
        "id": "L9kQmbqC8lQx",
        "outputId": "d8af1611-f528-48cb-a1d7-d1507e353f6d"
      },
      "source": [
        "# from sklearn.cluster import KMeans\n",
        "\n",
        "# k_means = KMeans(n_clusters=4, init='random', n_init=10, max_iter=300, tol=1e-04, random_state=0)\n",
        "# y_k_means = k_means.fit_predict(dfWines_reduced)\n",
        "# y_k_means"
      ],
      "execution_count": null,
      "outputs": [
        {
          "output_type": "execute_result",
          "data": {
            "text/plain": [
              "array([1, 1, 1, 1, 0, 1, 1, 1, 1, 1, 1, 1, 1, 1, 1, 1, 1, 1, 1, 1, 1, 0,\n",
              "       1, 0, 0, 0, 1, 1, 1, 1, 1, 1, 1, 1, 1, 1, 1, 0, 0, 1, 1, 1, 1, 0,\n",
              "       1, 1, 1, 1, 1, 1, 1, 1, 1, 1, 1, 1, 1, 1, 1, 2, 2, 2, 0, 0, 2, 0,\n",
              "       0, 0, 2, 0, 2, 0, 2, 1, 0, 2, 0, 2, 0, 0, 0, 0, 2, 3, 0, 0, 2, 2,\n",
              "       2, 2, 2, 2, 2, 0, 0, 0, 2, 0, 0, 0, 0, 2, 0, 2, 0, 2, 2, 2, 2, 0,\n",
              "       0, 2, 2, 2, 2, 2, 2, 2, 2, 2, 0, 0, 2, 2, 0, 2, 0, 2, 2, 2, 3, 3,\n",
              "       3, 3, 3, 3, 3, 3, 3, 3, 3, 3, 3, 3, 3, 3, 3, 3, 3, 3, 3, 3, 3, 3,\n",
              "       3, 3, 3, 3, 3, 3, 3, 3, 3, 3, 3, 3, 3, 3, 3, 3, 3, 3, 3, 3, 3, 3,\n",
              "       3, 3], dtype=int32)"
            ]
          },
          "metadata": {},
          "execution_count": 26
        }
      ]
    },
    {
      "cell_type": "code",
      "metadata": {
        "colab": {
          "base_uri": "https://localhost:8080/"
        },
        "id": "Lg8OtHEQ9M8f",
        "outputId": "198cdffe-2492-409f-c96d-26f9e8b573df"
      },
      "source": [
        "# dfWines_reduced[y_k_means == 0]['x']"
      ],
      "execution_count": null,
      "outputs": [
        {
          "output_type": "execute_result",
          "data": {
            "text/plain": [
              "4     -0.202546\n",
              "21    -0.267900\n",
              "23    -0.417895\n",
              "24    -0.449940\n",
              "25    -0.215788\n",
              "37    -0.232004\n",
              "38    -0.305480\n",
              "43    -0.111517\n",
              "62    -0.010291\n",
              "63    -0.453681\n",
              "65    -0.132514\n",
              "66    -0.481661\n",
              "67    -0.137360\n",
              "69    -0.345032\n",
              "71    -0.408324\n",
              "74    -0.459562\n",
              "76    -0.064940\n",
              "78    -0.133929\n",
              "79    -0.086346\n",
              "80    -0.187477\n",
              "81    -0.253589\n",
              "84    -0.207555\n",
              "85    -0.184827\n",
              "93    -0.183815\n",
              "94    -0.234624\n",
              "95    -0.398763\n",
              "97    -0.203237\n",
              "98    -0.491302\n",
              "99    -0.222212\n",
              "100   -0.178415\n",
              "102   -0.045963\n",
              "104   -0.168360\n",
              "109   -0.363262\n",
              "110   -0.258929\n",
              "120   -0.220709\n",
              "121   -0.357856\n",
              "124   -0.276380\n",
              "126   -0.056157\n",
              "Name: x, dtype: float64"
            ]
          },
          "metadata": {},
          "execution_count": 28
        }
      ]
    },
    {
      "cell_type": "code",
      "metadata": {
        "colab": {
          "base_uri": "https://localhost:8080/",
          "height": 265
        },
        "id": "xuCwUlEx9Wa4",
        "outputId": "506159cd-c5fd-4227-9718-7af7a3869164"
      },
      "source": [
        "# plt.scatter(\n",
        "#     dfWines_reduced[y_k_means == 0]['x'], dfWines_reduced[y_k_means == 0]['y'],\n",
        "#     s=50, c='lightgreen',\n",
        "#     marker='s', edgecolor='black',\n",
        "#     label='cluster 0'\n",
        "# )\n",
        "\n",
        "# plt.scatter(\n",
        "#     dfWines_reduced[y_k_means == 1]['x'], dfWines_reduced[y_k_means == 1]['y'],\n",
        "#     s=50, c='orange',\n",
        "#     marker='o', edgecolor='black',\n",
        "#     label='cluster 1'\n",
        "# )\n",
        "\n",
        "# plt.scatter(\n",
        "#     dfWines_reduced[y_k_means == 2]['x'], dfWines_reduced[y_k_means == 2]['y'],\n",
        "#     s=50, c='lightblue',\n",
        "#     marker='v', edgecolor='black',\n",
        "#     label='cluster 2'\n",
        "# )\n",
        "\n",
        "# plt.scatter(\n",
        "#     dfWines_reduced[y_k_means == 3]['x'], dfWines_reduced[y_k_means == 3]['y'],\n",
        "#     s=50, c='yellow',\n",
        "#     marker='D', edgecolor='black',\n",
        "#     label='cluster 3'\n",
        "# )\n",
        "\n",
        "# plt.scatter(\n",
        "#     k_means.cluster_centers_[:, 0], k_means.cluster_centers_[:, 1],\n",
        "#     s=250, marker='*',\n",
        "#     c='red', edgecolor='black',\n",
        "#     label='centroids'\n",
        "# )\n",
        "\n",
        "# plt.legend(scatterpoints=1)\n",
        "# plt.grid()\n",
        "# plt.show()"
      ],
      "execution_count": null,
      "outputs": [
        {
          "output_type": "display_data",
          "data": {
            "image/png": "[encoded data removed]",
            "text/plain": [
              "<Figure size 432x288 with 1 Axes>"
            ]
          },
          "metadata": {
            "needs_background": "light"
          }
        }
      ]
    },
    {
      "cell_type": "markdown",
      "metadata": {
        "id": "0UrX-yIP8qTE"
      },
      "source": [
        "##### DBScan"
      ]
    },
    {
      "cell_type": "code",
      "metadata": {
        "id": "3L3I3Pju6sk4"
      },
      "source": [
        ""
      ],
      "execution_count": null,
      "outputs": []
    },
    {
      "cell_type": "markdown",
      "metadata": {
        "id": "-OiWPjouIo0e"
      },
      "source": [
        "#### Exercício 5 - Centroides K-Means"
      ]
    },
    {
      "cell_type": "code",
      "metadata": {
        "id": "1x1oRWQf8u7U"
      },
      "source": [
        ""
      ],
      "execution_count": null,
      "outputs": []
    },
    {
      "cell_type": "markdown",
      "metadata": {
        "id": "dOMtgt35IzIS"
      },
      "source": [
        "#### Exercício 6 - Atributos Ordenados"
      ]
    },
    {
      "cell_type": "code",
      "metadata": {
        "id": "pAg29ZW88wA0"
      },
      "source": [
        ""
      ],
      "execution_count": null,
      "outputs": []
    },
    {
      "cell_type": "markdown",
      "metadata": {
        "id": "UqDfyKyAI76R"
      },
      "source": [
        "#### Exercício 7 - Visualização dos dados"
      ]
    },
    {
      "cell_type": "code",
      "metadata": {
        "id": "J4Lt2gu28wz_"
      },
      "source": [
        ""
      ],
      "execution_count": null,
      "outputs": []
    },
    {
      "cell_type": "markdown",
      "metadata": {
        "id": "zYJd28hRI-up"
      },
      "source": [
        "#### Exercício 8 - Índice de Dunn e Índice Silhueta"
      ]
    },
    {
      "cell_type": "code",
      "metadata": {
        "id": "58dRYPL38xna"
      },
      "source": [
        ""
      ],
      "execution_count": null,
      "outputs": []
    }
  ]
}